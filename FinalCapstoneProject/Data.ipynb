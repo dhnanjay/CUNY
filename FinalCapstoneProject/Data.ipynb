{
 "cells": [
  {
   "cell_type": "markdown",
   "metadata": {},
   "source": [
    "<h2> Data source for Traffic Based Automated Scheduling </h2><br>\n",
    "<h4> Author: Dhananjay Kumar: dhananjay.kumar@spsmail.cuny.edu </h4>"
   ]
  },
  {
   "cell_type": "markdown",
   "metadata": {},
   "source": [
    "The data for this project comes from following source:\n",
    "\n",
    "Sales transactions (download .csv file)\n",
    "\n",
    "The Sales Jan 2009 file contains some “sanitized” sales transactions during the month of January. Below is a sample of a report built in just a couple of minutes using the Blank Canvas app. These 997 transactions are easily summarized and filtered by transaction date, payment type, country, city, and geography. Note that these records are already geocoded, so you can use the existing latitude/longitude in the file.\n",
    "\n",
    "Link of the website: https://support.spatialkey.com/spatialkey-sample-csv-data/\n",
    "\n",
    "Link of the csv file: https://samplecsvs.s3.amazonaws.com/SalesJan2009.csv\n"
   ]
  },
  {
   "cell_type": "markdown",
   "metadata": {},
   "source": [
    "We download the above data and upload the downloaded data into PostgreSQL database hosted on AWS (AWS RDS). Below is how the data looks"
   ]
  },
  {
   "cell_type": "code",
   "execution_count": 2,
   "metadata": {},
   "outputs": [],
   "source": [
    "import sqlalchemy \n",
    "import psycopg2 \n",
    "import random\n",
    "import pandas as pd\n",
    "import datetime as dt\n",
    "%matplotlib inline\n",
    "import matplotlib.pyplot as plt\n",
    "import seaborn as sns \n",
    "sns.set(rc={'figure.figsize':(15,5)})"
   ]
  },
  {
   "cell_type": "code",
   "execution_count": 3,
   "metadata": {},
   "outputs": [],
   "source": [
    "from sqlalchemy import create_engine\n",
    "# Postgres username, password, and database name\n",
    "POSTGRES_ADDRESS = '' ## INSERT YOUR DB ADDRESS IF IT'S NOT ON PANOPLY\n",
    "POSTGRES_PORT = '5432' # Postgre Port no. by default it is 5432\n",
    "POSTGRES_DBNAME='' # DB Name\n",
    "POSTGRES_USERNAME = '' ## CHANGE THIS TO YOUR POSTGRES USERNAME\n",
    "POSTGRES_PASSWORD = '' ## CHANGE THIS TO YOUR POSTGRES PASSWORD \n",
    "postgres_str = ('postgresql://{username}:{password}@{ipaddress}:{port}/{dbname}').format(username=POSTGRES_USERNAME,password=POSTGRES_PASSWORD,ipaddress=POSTGRES_ADDRESS,port=POSTGRES_PORT,dbname=POSTGRES_DBNAME)\n",
    "# Create the connection\n",
    "cnx = create_engine(postgres_str) "
   ]
  },
  {
   "cell_type": "code",
   "execution_count": 4,
   "metadata": {},
   "outputs": [],
   "source": [
    "df= pd.read_sql_query(\"\"\"\n",
    "select\n",
    " cast(cast(left(transaction_date, 7) as date) +\n",
    "                     cast(right(transaction_date, 5) as time) as timestamp)     as ActualTS,\n",
    "       cast(left(transaction_date, 7) as date)           as Date,\n",
    "       cast(right(transaction_date, 5) as time)          as ActualTime,\n",
    "       cast(date_trunc('hours', cast(cast(left(transaction_date, 7) as date) +\n",
    "                                        cast(right(transaction_date, 5) as time) as timestamp)) as time) as round_off_time,\n",
    "       name,city,state,country\n",
    "from sales_transaction;\n",
    "\"\"\", cnx)"
   ]
  },
  {
   "cell_type": "code",
   "execution_count": 5,
   "metadata": {},
   "outputs": [
    {
     "data": {
      "text/html": [
       "<div>\n",
       "<style scoped>\n",
       "    .dataframe tbody tr th:only-of-type {\n",
       "        vertical-align: middle;\n",
       "    }\n",
       "\n",
       "    .dataframe tbody tr th {\n",
       "        vertical-align: top;\n",
       "    }\n",
       "\n",
       "    .dataframe thead th {\n",
       "        text-align: right;\n",
       "    }\n",
       "</style>\n",
       "<table border=\"1\" class=\"dataframe\">\n",
       "  <thead>\n",
       "    <tr style=\"text-align: right;\">\n",
       "      <th></th>\n",
       "      <th>actualts</th>\n",
       "      <th>date</th>\n",
       "      <th>actualtime</th>\n",
       "      <th>round_off_time</th>\n",
       "      <th>name</th>\n",
       "      <th>city</th>\n",
       "      <th>state</th>\n",
       "      <th>country</th>\n",
       "    </tr>\n",
       "  </thead>\n",
       "  <tbody>\n",
       "    <tr>\n",
       "      <th>0</th>\n",
       "      <td>2009-01-02 06:17:00</td>\n",
       "      <td>2009-01-02</td>\n",
       "      <td>06:17:00</td>\n",
       "      <td>06:00:00</td>\n",
       "      <td>carolina</td>\n",
       "      <td>Basildon</td>\n",
       "      <td>England</td>\n",
       "      <td>United Kingdom</td>\n",
       "    </tr>\n",
       "    <tr>\n",
       "      <th>1</th>\n",
       "      <td>2009-01-02 04:53:00</td>\n",
       "      <td>2009-01-02</td>\n",
       "      <td>04:53:00</td>\n",
       "      <td>04:00:00</td>\n",
       "      <td>Betina</td>\n",
       "      <td>Parkville</td>\n",
       "      <td>MO</td>\n",
       "      <td>United States</td>\n",
       "    </tr>\n",
       "    <tr>\n",
       "      <th>2</th>\n",
       "      <td>2009-01-02 13:08:00</td>\n",
       "      <td>2009-01-02</td>\n",
       "      <td>13:08:00</td>\n",
       "      <td>13:00:00</td>\n",
       "      <td>Federica e Andrea</td>\n",
       "      <td>Astoria</td>\n",
       "      <td>OR</td>\n",
       "      <td>United States</td>\n",
       "    </tr>\n",
       "    <tr>\n",
       "      <th>3</th>\n",
       "      <td>2009-01-03 14:44:00</td>\n",
       "      <td>2009-01-03</td>\n",
       "      <td>14:44:00</td>\n",
       "      <td>14:00:00</td>\n",
       "      <td>Gouya</td>\n",
       "      <td>Echuca</td>\n",
       "      <td>Victoria</td>\n",
       "      <td>Australia</td>\n",
       "    </tr>\n",
       "    <tr>\n",
       "      <th>4</th>\n",
       "      <td>2009-01-04 12:56:00</td>\n",
       "      <td>2009-01-04</td>\n",
       "      <td>12:56:00</td>\n",
       "      <td>12:00:00</td>\n",
       "      <td>Gerd W</td>\n",
       "      <td>Cahaba Heights</td>\n",
       "      <td>AL</td>\n",
       "      <td>United States</td>\n",
       "    </tr>\n",
       "  </tbody>\n",
       "</table>\n",
       "</div>"
      ],
      "text/plain": [
       "             actualts        date actualtime round_off_time  \\\n",
       "0 2009-01-02 06:17:00  2009-01-02   06:17:00       06:00:00   \n",
       "1 2009-01-02 04:53:00  2009-01-02   04:53:00       04:00:00   \n",
       "2 2009-01-02 13:08:00  2009-01-02   13:08:00       13:00:00   \n",
       "3 2009-01-03 14:44:00  2009-01-03   14:44:00       14:00:00   \n",
       "4 2009-01-04 12:56:00  2009-01-04   12:56:00       12:00:00   \n",
       "\n",
       "                name            city     state         country  \n",
       "0           carolina        Basildon   England  United Kingdom  \n",
       "1             Betina       Parkville        MO   United States  \n",
       "2  Federica e Andrea         Astoria        OR   United States  \n",
       "3              Gouya          Echuca  Victoria       Australia  \n",
       "4             Gerd W  Cahaba Heights        AL   United States  "
      ]
     },
     "execution_count": 5,
     "metadata": {},
     "output_type": "execute_result"
    }
   ],
   "source": [
    "df.head()"
   ]
  },
  {
   "cell_type": "markdown",
   "metadata": {},
   "source": [
    "Based on above data we need to create two more dataset:\n",
    "\n",
    "1. Customer Traffic : This is the data which will tell us how much traffic does a retail store attracts.\n",
    "2. Employee: This dataset will tell us how many Employees are present at any given time within a store\n",
    "\n",
    "Below is the source code for generating these two datasets"
   ]
  },
  {
   "cell_type": "code",
   "execution_count": 6,
   "metadata": {},
   "outputs": [],
   "source": [
    "# Generate synthetic Customer Traffic Data !!! Don't Run unless new dataset needed !!!\n",
    "#trafficList=[]\n",
    "#for index, row in df.iterrows():\n",
    "#    trafficList.append([row['round_off_time'],row['date'],row['city'],row['state'],row['country'],random.randint(1,5)])\n",
    "#df3=pd.DataFrame(trafficList,columns=['Time','Date','City','State','Country','Traffic'])\n",
    "#df3.to_csv(\"traffic.csv\", index=False) "
   ]
  },
  {
   "cell_type": "code",
   "execution_count": 7,
   "metadata": {},
   "outputs": [],
   "source": [
    "# Generate synthetic Employee In Store Data !!! Don't Run unless new dataset needed !!!\n",
    "#trafficList=[]\n",
    "#for index, row in df.iterrows():\n",
    "#    trafficList.append([row['round_off_time'],row['date'],row['city'],row['state'],row['country'],random.randint(2,5)])\n",
    "#df4=pd.DataFrame(trafficList,columns=['Time','Date','City','State','Country','Employee_In_Store'])\n",
    "#df4.to_csv(\"Employee.csv\", index=False) "
   ]
  },
  {
   "cell_type": "markdown",
   "metadata": {},
   "source": [
    "The above two code chunk will generate two files \"Traffic.csv\" and \"Employee.csv\". Using these two files two new tables \"Traffic\" and \"Employee\" on postgre database on AWS\n"
   ]
  },
  {
   "cell_type": "code",
   "execution_count": null,
   "metadata": {},
   "outputs": [],
   "source": []
  }
 ],
 "metadata": {
  "kernelspec": {
   "display_name": "Python 3",
   "language": "python",
   "name": "python3"
  },
  "language_info": {
   "codemirror_mode": {
    "name": "ipython",
    "version": 3
   },
   "file_extension": ".py",
   "mimetype": "text/x-python",
   "name": "python",
   "nbconvert_exporter": "python",
   "pygments_lexer": "ipython3",
   "version": "3.5.2"
  }
 },
 "nbformat": 4,
 "nbformat_minor": 2
}
