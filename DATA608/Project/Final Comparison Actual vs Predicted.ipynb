{
 "cells": [
  {
   "cell_type": "code",
   "execution_count": 1,
   "metadata": {},
   "outputs": [],
   "source": [
    "import pandas as pd\n",
    "import numpy as np\n",
    "import time\n",
    "import pyodbc\n",
    "import random\n",
    "from matplotlib import pyplot\n",
    "%matplotlib inline"
   ]
  },
  {
   "cell_type": "markdown",
   "metadata": {},
   "source": [
    "This notebook evaluates different Machine Learning Algorithms used for predicting Customer Response to Direct Mail Campaigns.\n",
    "\n"
   ]
  },
  {
   "cell_type": "code",
   "execution_count": 2,
   "metadata": {},
   "outputs": [],
   "source": [
    "def connect(uid = '', pwd = ''):\n",
    "    server = '' \n",
    "    database = 'Data Analytics' \n",
    "    uid = uid \n",
    "    pwd = pwd \n",
    "    conn = pyodbc.connect('Trusted_Connection=yes', \n",
    "                           driver='{SQL Server}', \n",
    "                           server=server, \n",
    "                           database=database, \n",
    "                           uid=uid, \n",
    "                           pwd=pwd)\n",
    "\n",
    "    return conn"
   ]
  },
  {
   "cell_type": "code",
   "execution_count": 3,
   "metadata": {},
   "outputs": [],
   "source": [
    "def getTestData():\n",
    "    \n",
    "    conn = connect(uid = '', pwd = '')\n",
    "    \n",
    "    query = (\"\"\"\n",
    "                select * from may_dm_model_test\n",
    "    \"\"\")   \n",
    "    \n",
    "    df = pd.read_sql(query, conn)\n",
    "    conn.close()\n",
    "    \n",
    "    \n",
    "    return df"
   ]
  },
  {
   "cell_type": "code",
   "execution_count": 11,
   "metadata": {},
   "outputs": [
    {
     "data": {
      "text/plain": [
       "4541547"
      ]
     },
     "execution_count": 11,
     "metadata": {},
     "output_type": "execute_result"
    }
   ],
   "source": [
    "## Get Scored Customers\n",
    "df_score = pd.read_csv('final_scored_customers.csv')\n",
    "df_score.customer_id.nunique()"
   ]
  },
  {
   "cell_type": "code",
   "execution_count": 12,
   "metadata": {},
   "outputs": [],
   "source": [
    "## Get Actual Response Data\n",
    "df_test = getTestData()"
   ]
  },
  {
   "cell_type": "code",
   "execution_count": 13,
   "metadata": {},
   "outputs": [],
   "source": [
    "## Rename customer no to id to have same column name in both data set\n",
    "df_test = df_test.rename(columns={'customer_no': 'customer_id'})"
   ]
  },
  {
   "cell_type": "code",
   "execution_count": 14,
   "metadata": {},
   "outputs": [
    {
     "data": {
      "text/html": [
       "<div>\n",
       "<style scoped>\n",
       "    .dataframe tbody tr th:only-of-type {\n",
       "        vertical-align: middle;\n",
       "    }\n",
       "\n",
       "    .dataframe tbody tr th {\n",
       "        vertical-align: top;\n",
       "    }\n",
       "\n",
       "    .dataframe thead th {\n",
       "        text-align: right;\n",
       "    }\n",
       "</style>\n",
       "<table border=\"1\" class=\"dataframe\">\n",
       "  <thead>\n",
       "    <tr style=\"text-align: right;\">\n",
       "      <th></th>\n",
       "      <th>customer_id</th>\n",
       "      <th>response</th>\n",
       "    </tr>\n",
       "  </thead>\n",
       "  <tbody>\n",
       "    <tr>\n",
       "      <th>0</th>\n",
       "      <td>23.0</td>\n",
       "      <td>0</td>\n",
       "    </tr>\n",
       "    <tr>\n",
       "      <th>1</th>\n",
       "      <td>65.0</td>\n",
       "      <td>0</td>\n",
       "    </tr>\n",
       "    <tr>\n",
       "      <th>2</th>\n",
       "      <td>3866.0</td>\n",
       "      <td>0</td>\n",
       "    </tr>\n",
       "    <tr>\n",
       "      <th>3</th>\n",
       "      <td>4328.0</td>\n",
       "      <td>0</td>\n",
       "    </tr>\n",
       "    <tr>\n",
       "      <th>4</th>\n",
       "      <td>4709.0</td>\n",
       "      <td>0</td>\n",
       "    </tr>\n",
       "  </tbody>\n",
       "</table>\n",
       "</div>"
      ],
      "text/plain": [
       "   customer_id  response\n",
       "0         23.0         0\n",
       "1         65.0         0\n",
       "2       3866.0         0\n",
       "3       4328.0         0\n",
       "4       4709.0         0"
      ]
     },
     "execution_count": 14,
     "metadata": {},
     "output_type": "execute_result"
    }
   ],
   "source": [
    "df_test.head()"
   ]
  },
  {
   "cell_type": "code",
   "execution_count": 15,
   "metadata": {},
   "outputs": [
    {
     "data": {
      "text/plain": [
       "0    303680\n",
       "1     16255\n",
       "Name: response, dtype: int64"
      ]
     },
     "execution_count": 15,
     "metadata": {},
     "output_type": "execute_result"
    }
   ],
   "source": [
    "df_test.response.value_counts()"
   ]
  },
  {
   "cell_type": "code",
   "execution_count": 16,
   "metadata": {},
   "outputs": [
    {
     "name": "stdout",
     "output_type": "stream",
     "text": [
      "new_df : 319846  df_score : 4541547  df_test : 319935\n"
     ]
    }
   ],
   "source": [
    "## Merge Response Data and Scored Customer to\n",
    "new_df = pd.merge(df_score, df_test,  how='inner', on=['customer_id'])\n",
    "print('new_df :',new_df.shape[0], ' df_score :', df_score.shape[0], ' df_test :', df_test.shape[0]) "
   ]
  },
  {
   "cell_type": "code",
   "execution_count": 17,
   "metadata": {},
   "outputs": [
    {
     "data": {
      "text/html": [
       "<div>\n",
       "<style scoped>\n",
       "    .dataframe tbody tr th:only-of-type {\n",
       "        vertical-align: middle;\n",
       "    }\n",
       "\n",
       "    .dataframe tbody tr th {\n",
       "        vertical-align: top;\n",
       "    }\n",
       "\n",
       "    .dataframe thead th {\n",
       "        text-align: right;\n",
       "    }\n",
       "</style>\n",
       "<table border=\"1\" class=\"dataframe\">\n",
       "  <thead>\n",
       "    <tr style=\"text-align: right;\">\n",
       "      <th></th>\n",
       "      <th>score</th>\n",
       "      <th>customer_id</th>\n",
       "      <th>response</th>\n",
       "    </tr>\n",
       "  </thead>\n",
       "  <tbody>\n",
       "    <tr>\n",
       "      <th>0</th>\n",
       "      <td>0.847425</td>\n",
       "      <td>980072839</td>\n",
       "      <td>0</td>\n",
       "    </tr>\n",
       "    <tr>\n",
       "      <th>1</th>\n",
       "      <td>0.814952</td>\n",
       "      <td>9900089390</td>\n",
       "      <td>1</td>\n",
       "    </tr>\n",
       "    <tr>\n",
       "      <th>2</th>\n",
       "      <td>0.776584</td>\n",
       "      <td>8109418486</td>\n",
       "      <td>1</td>\n",
       "    </tr>\n",
       "    <tr>\n",
       "      <th>3</th>\n",
       "      <td>0.775896</td>\n",
       "      <td>9896725844</td>\n",
       "      <td>1</td>\n",
       "    </tr>\n",
       "    <tr>\n",
       "      <th>4</th>\n",
       "      <td>0.775386</td>\n",
       "      <td>9897668676</td>\n",
       "      <td>1</td>\n",
       "    </tr>\n",
       "  </tbody>\n",
       "</table>\n",
       "</div>"
      ],
      "text/plain": [
       "      score customer_id  response\n",
       "0  0.847425   980072839         0\n",
       "1  0.814952  9900089390         1\n",
       "2  0.776584  8109418486         1\n",
       "3  0.775896  9896725844         1\n",
       "4  0.775386  9897668676         1"
      ]
     },
     "execution_count": 17,
     "metadata": {},
     "output_type": "execute_result"
    }
   ],
   "source": [
    "new_df.head()"
   ]
  },
  {
   "cell_type": "code",
   "execution_count": 18,
   "metadata": {},
   "outputs": [
    {
     "data": {
      "text/plain": [
       "0    303593\n",
       "1     16253\n",
       "Name: response, dtype: int64"
      ]
     },
     "execution_count": 18,
     "metadata": {},
     "output_type": "execute_result"
    }
   ],
   "source": [
    "new_df.response.value_counts()"
   ]
  },
  {
   "cell_type": "code",
   "execution_count": 19,
   "metadata": {},
   "outputs": [
    {
     "data": {
      "image/png": "[encoded data removed]",
      "text/plain": [
       "<matplotlib.figure.Figure at 0x296039b3a90>"
      ]
     },
     "metadata": {},
     "output_type": "display_data"
    }
   ],
   "source": [
    "## Score Comparison b/w Responded & No Response dataset\n",
    "\n",
    "x = new_df.loc[new_df['response'] == 1].score\n",
    "y = new_df.loc[new_df['response'] == 0].score\n",
    "\n",
    "bins = np.linspace(0, 0.7, 200)\n",
    "\n",
    "pyplot.hist(x, bins, alpha=1, label='Responded')\n",
    "pyplot.hist(y, bins, alpha=0.2, label='No Response')\n",
    "pyplot.xlabel('Score')\n",
    "pyplot.ylabel('Count')\n",
    "pyplot.legend(loc='upper right')\n",
    "pyplot.show()"
   ]
  },
  {
   "cell_type": "markdown",
   "metadata": {},
   "source": [
    "The above graph reveals the proportion of Customer Responded to Overall.The Score on X axis is probability of Customer Response i.e. Prediction.\n"
   ]
  },
  {
   "cell_type": "code",
   "execution_count": 20,
   "metadata": {},
   "outputs": [
    {
     "data": {
      "image/png": "[encoded data removed]",
      "text/plain": [
       "<matplotlib.figure.Figure at 0x2960a7ec6a0>"
      ]
     },
     "metadata": {},
     "output_type": "display_data"
    }
   ],
   "source": [
    "## Score Comparison b/w Responded & No Response dataset with minimum score of .3\n",
    "\n",
    "x = new_df.loc[(new_df['response'] == 1) & (new_df['score'] > 0.3)].score\n",
    "y = new_df.loc[(new_df['response'] == 0) & (new_df['score'] > 0.3)].score\n",
    "\n",
    "bins = np.linspace(0.3, 0.75, 200)\n",
    "\n",
    "pyplot.hist(x, bins, alpha=1, label='Responded')\n",
    "pyplot.hist(y, bins, alpha=0.2, label='No Response')\n",
    "pyplot.xlabel('Score')\n",
    "pyplot.ylabel('Count')\n",
    "pyplot.legend(loc='upper right')\n",
    "pyplot.show()"
   ]
  },
  {
   "cell_type": "markdown",
   "metadata": {},
   "source": [
    "The tail of the customer responded is promiment than the customer who did not chose to respond which signifies more customer responded with higher score where score is the probability of customer response."
   ]
  },
  {
   "cell_type": "code",
   "execution_count": 21,
   "metadata": {},
   "outputs": [],
   "source": [
    "## Get Vital stats\n",
    "df_compare = pd.DataFrame([])\n",
    "df_compare[0] = new_df.loc[new_df['response'] == 0].score.describe()\n",
    "df_compare[1] = new_df.loc[new_df['response'] == 1].score.describe()"
   ]
  },
  {
   "cell_type": "code",
   "execution_count": 22,
   "metadata": {},
   "outputs": [
    {
     "data": {
      "text/html": [
       "<div>\n",
       "<style scoped>\n",
       "    .dataframe tbody tr th:only-of-type {\n",
       "        vertical-align: middle;\n",
       "    }\n",
       "\n",
       "    .dataframe tbody tr th {\n",
       "        vertical-align: top;\n",
       "    }\n",
       "\n",
       "    .dataframe thead th {\n",
       "        text-align: right;\n",
       "    }\n",
       "</style>\n",
       "<table border=\"1\" class=\"dataframe\">\n",
       "  <thead>\n",
       "    <tr style=\"text-align: right;\">\n",
       "      <th></th>\n",
       "      <th>0</th>\n",
       "      <th>1</th>\n",
       "    </tr>\n",
       "  </thead>\n",
       "  <tbody>\n",
       "    <tr>\n",
       "      <th>count</th>\n",
       "      <td>303593.000000</td>\n",
       "      <td>16253.000000</td>\n",
       "    </tr>\n",
       "    <tr>\n",
       "      <th>mean</th>\n",
       "      <td>0.179072</td>\n",
       "      <td>0.243299</td>\n",
       "    </tr>\n",
       "    <tr>\n",
       "      <th>std</th>\n",
       "      <td>0.074628</td>\n",
       "      <td>0.105503</td>\n",
       "    </tr>\n",
       "    <tr>\n",
       "      <th>min</th>\n",
       "      <td>0.054103</td>\n",
       "      <td>0.055295</td>\n",
       "    </tr>\n",
       "    <tr>\n",
       "      <th>25%</th>\n",
       "      <td>0.141783</td>\n",
       "      <td>0.165698</td>\n",
       "    </tr>\n",
       "    <tr>\n",
       "      <th>50%</th>\n",
       "      <td>0.167598</td>\n",
       "      <td>0.212499</td>\n",
       "    </tr>\n",
       "    <tr>\n",
       "      <th>75%</th>\n",
       "      <td>0.213669</td>\n",
       "      <td>0.292155</td>\n",
       "    </tr>\n",
       "    <tr>\n",
       "      <th>max</th>\n",
       "      <td>0.847425</td>\n",
       "      <td>0.814952</td>\n",
       "    </tr>\n",
       "  </tbody>\n",
       "</table>\n",
       "</div>"
      ],
      "text/plain": [
       "                   0             1\n",
       "count  303593.000000  16253.000000\n",
       "mean        0.179072      0.243299\n",
       "std         0.074628      0.105503\n",
       "min         0.054103      0.055295\n",
       "25%         0.141783      0.165698\n",
       "50%         0.167598      0.212499\n",
       "75%         0.213669      0.292155\n",
       "max         0.847425      0.814952"
      ]
     },
     "execution_count": 22,
     "metadata": {},
     "output_type": "execute_result"
    }
   ],
   "source": [
    "## Show vital stats of Responded 1 vs No Response 0\n",
    "df_compare.head(10)"
   ]
  },
  {
   "cell_type": "code",
   "execution_count": 23,
   "metadata": {},
   "outputs": [
    {
     "data": {
      "text/html": [
       "<div>\n",
       "<style scoped>\n",
       "    .dataframe tbody tr th:only-of-type {\n",
       "        vertical-align: middle;\n",
       "    }\n",
       "\n",
       "    .dataframe tbody tr th {\n",
       "        vertical-align: top;\n",
       "    }\n",
       "\n",
       "    .dataframe thead th {\n",
       "        text-align: right;\n",
       "    }\n",
       "</style>\n",
       "<table border=\"1\" class=\"dataframe\">\n",
       "  <thead>\n",
       "    <tr style=\"text-align: right;\">\n",
       "      <th></th>\n",
       "      <th>score</th>\n",
       "      <th>customer_id</th>\n",
       "      <th>response</th>\n",
       "      <th>deciles</th>\n",
       "    </tr>\n",
       "  </thead>\n",
       "  <tbody>\n",
       "    <tr>\n",
       "      <th>0</th>\n",
       "      <td>0.847425</td>\n",
       "      <td>980072839</td>\n",
       "      <td>0</td>\n",
       "      <td>9</td>\n",
       "    </tr>\n",
       "    <tr>\n",
       "      <th>1</th>\n",
       "      <td>0.814952</td>\n",
       "      <td>9900089390</td>\n",
       "      <td>1</td>\n",
       "      <td>9</td>\n",
       "    </tr>\n",
       "    <tr>\n",
       "      <th>2</th>\n",
       "      <td>0.776584</td>\n",
       "      <td>8109418486</td>\n",
       "      <td>1</td>\n",
       "      <td>9</td>\n",
       "    </tr>\n",
       "    <tr>\n",
       "      <th>3</th>\n",
       "      <td>0.775896</td>\n",
       "      <td>9896725844</td>\n",
       "      <td>1</td>\n",
       "      <td>9</td>\n",
       "    </tr>\n",
       "    <tr>\n",
       "      <th>4</th>\n",
       "      <td>0.775386</td>\n",
       "      <td>9897668676</td>\n",
       "      <td>1</td>\n",
       "      <td>9</td>\n",
       "    </tr>\n",
       "  </tbody>\n",
       "</table>\n",
       "</div>"
      ],
      "text/plain": [
       "      score customer_id  response  deciles\n",
       "0  0.847425   980072839         0        9\n",
       "1  0.814952  9900089390         1        9\n",
       "2  0.776584  8109418486         1        9\n",
       "3  0.775896  9896725844         1        9\n",
       "4  0.775386  9897668676         1        9"
      ]
     },
     "execution_count": 23,
     "metadata": {},
     "output_type": "execute_result"
    }
   ],
   "source": [
    "## Get deciles based on Score\n",
    "new_df['deciles']=  pd.qcut(new_df['score'], 10, labels=False)\n",
    "new_df.head()"
   ]
  },
  {
   "cell_type": "code",
   "execution_count": 24,
   "metadata": {},
   "outputs": [],
   "source": [
    "## Get Rounded Score\n",
    "new_df['roundScore']=  np.round(new_df['score'],2)"
   ]
  },
  {
   "cell_type": "code",
   "execution_count": 25,
   "metadata": {},
   "outputs": [
    {
     "data": {
      "text/plain": [
       "deciles  response\n",
       "0        0           31788\n",
       "         1             197\n",
       "1        0           31202\n",
       "         1             783\n",
       "2        0           30974\n",
       "         1            1010\n",
       "3        0           30815\n",
       "         1            1170\n",
       "4        0           30724\n",
       "         1            1260\n",
       "5        0           30533\n",
       "         1            1452\n",
       "6        0           30330\n",
       "         1            1654\n",
       "7        0           30142\n",
       "         1            1843\n",
       "8        0           29759\n",
       "         1            2225\n",
       "9        0           27326\n",
       "         1            4659\n",
       "Name: response, dtype: int64"
      ]
     },
     "execution_count": 25,
     "metadata": {},
     "output_type": "execute_result"
    }
   ],
   "source": [
    "## Get Response vs No Response based on Deciles\n",
    "new_df['response'].groupby(new_df['deciles']).value_counts()"
   ]
  },
  {
   "cell_type": "code",
   "execution_count": 26,
   "metadata": {},
   "outputs": [
    {
     "data": {
      "image/png": "[encoded data removed]",
      "text/plain": [
       "<matplotlib.figure.Figure at 0x29606bb4f98>"
      ]
     },
     "metadata": {},
     "output_type": "display_data"
    }
   ],
   "source": [
    "# Get Response by No Response vs Responded\n",
    "def stackedbarplot(x_data, y_data_list, y_data_names, colors, x_label, y_label, title):\n",
    "    _, ax = pyplot.subplots()\n",
    "    # Draw bars, one category at a time\n",
    "    for i in range(0, len(y_data_list)):\n",
    "        if i == 0:\n",
    "            ax.bar(x_data, y_data_list[i], color = colors[i], align = 'center', label = y_data_names[i])\n",
    "        else:\n",
    "            ax.bar(x_data, y_data_list[i], color = colors[i], bottom = y_data_list[i - 1], align = 'center', label = y_data_names[i])\n",
    "    ax.set_ylabel(y_label)\n",
    "    ax.set_xlabel(x_label)\n",
    "    ax.set_title(title)\n",
    "    ax.legend(loc = 'lower left')\n",
    "\n",
    "# Call the function to create plot\n",
    "stackedbarplot(x_data = new_df[['score']].groupby(new_df['deciles']).mean().index.values\n",
    "               , y_data_list = [new_df.score[new_df['response']==0].groupby(new_df['deciles']).count(), new_df.score[new_df['response']==1].groupby(new_df['deciles']).count()]\n",
    "               , y_data_names = ['No Response', 'Responded']\n",
    "               , colors = ['#539caf', '#7663b0']\n",
    "               , x_label = 'Decile'\n",
    "               , y_label = 'Proportion of Response'\n",
    "               , title = 'Response proportion by Decile')"
   ]
  },
  {
   "cell_type": "markdown",
   "metadata": {},
   "source": [
    "Customers in the topmost decile responded the most as expected."
   ]
  },
  {
   "cell_type": "code",
   "execution_count": 27,
   "metadata": {},
   "outputs": [
    {
     "data": {
      "image/png": "[encoded data removed]",
      "text/plain": [
       "<matplotlib.figure.Figure at 0x2960a197668>"
      ]
     },
     "metadata": {},
     "output_type": "display_data"
    }
   ],
   "source": [
    "## Response Convertion Rate by Deciles\n",
    "\n",
    "# Define a function for a stacked bar plot\n",
    "def stackedbarplot(x_data, y_data_list, y_data_names, colors, x_label, y_label, title):\n",
    "    _, ax = pyplot.subplots()\n",
    "    # Draw bars, one category at a time\n",
    "    for i in range(0, len(y_data_list)):\n",
    "        if i == 0:\n",
    "            ax.bar(x_data, y_data_list[i], color = colors[i], align = 'center', label = y_data_names[i])\n",
    "        else:\n",
    "            # For each category after the first, the bottom of the\n",
    "            # bar will be the top of the last category\n",
    "            ax.bar(x_data, y_data_list[i], color = colors[i], bottom = y_data_list[i - 1], align = 'center', label = y_data_names[i])\n",
    "    ax.set_ylabel(y_label)\n",
    "    ax.set_xlabel(x_label)\n",
    "    ax.set_title(title)\n",
    "    ax.legend(loc = 'center')\n",
    "\n",
    "# Call the function to create plot\n",
    "stackedbarplot(x_data = new_df[['score']].groupby(new_df['deciles']).mean().index.values\n",
    "               , y_data_list = [(new_df.score[new_df['response']==1].groupby(new_df['deciles']).count()/new_df.score[new_df['response']==0].groupby(new_df['deciles']).count())*100]\n",
    "               , y_data_names = ['Response rate in %']\n",
    "               , colors = ['#539caf']\n",
    "               , x_label = 'Decile'\n",
    "               , y_label = 'Proportion of Response'\n",
    "               , title = 'Response conversion rate by Decile')"
   ]
  },
  {
   "cell_type": "markdown",
   "metadata": {},
   "source": [
    "The top decile ie 90th decile has the best conversion rate which means the customers who were in the top decile based on predicted score responded the most which signifies the robustness of the Machine Learning Model used."
   ]
  },
  {
   "cell_type": "code",
   "execution_count": 28,
   "metadata": {},
   "outputs": [
    {
     "data": {
      "image/png": "[encoded data removed]",
      "text/plain": [
       "<matplotlib.figure.Figure at 0x296052c2f98>"
      ]
     },
     "metadata": {},
     "output_type": "display_data"
    }
   ],
   "source": [
    "## 'Comparison of Mean between Response vs No Response by Deciles'\n",
    "pyplot.plot(new_df[['score']].groupby(new_df['deciles']).mean().index.values, new_df.score[new_df['response']==0].groupby(new_df['deciles']).mean(), color='red')\n",
    "pyplot.plot(new_df[['score']].groupby(new_df['deciles']).mean().index.values, new_df.score[new_df['response']==1].groupby(new_df['deciles']).mean(), color='green')\n",
    "pyplot.xlabel('Scores in Decile')\n",
    "pyplot.ylabel('Mean Score')\n",
    "pyplot.title('Comparison of Mean between Response vs No Response')\n",
    "pyplot.legend(['No Response', '+ Response'])\n",
    "pyplot.show()"
   ]
  },
  {
   "cell_type": "markdown",
   "metadata": {},
   "source": [
    "The mean of the score of customers responded vis a vis customers who did not significantly differ in the top decile."
   ]
  },
  {
   "cell_type": "code",
   "execution_count": 29,
   "metadata": {},
   "outputs": [],
   "source": [
    "## Get Scored Customers with all the Algo. scores\n",
    "df_score2 = pd.read_csv('scored_customers_March.csv')\n",
    "## Merge \n",
    "new_df2 = pd.merge(df_score2, df_score,  how='inner', on=['customer_id'])"
   ]
  },
  {
   "cell_type": "code",
   "execution_count": 30,
   "metadata": {},
   "outputs": [
    {
     "name": "stdout",
     "output_type": "stream",
     "text": [
      "4541547 4541547 4541547\n"
     ]
    }
   ],
   "source": [
    "## Sanity check - Count Should be same\n",
    "print(df_score.shape[0], df_score2.shape[0], new_df2.shape[0])"
   ]
  },
  {
   "cell_type": "code",
   "execution_count": 33,
   "metadata": {},
   "outputs": [
    {
     "data": {
      "text/html": [
       "<div>\n",
       "<style scoped>\n",
       "    .dataframe tbody tr th:only-of-type {\n",
       "        vertical-align: middle;\n",
       "    }\n",
       "\n",
       "    .dataframe tbody tr th {\n",
       "        vertical-align: top;\n",
       "    }\n",
       "\n",
       "    .dataframe thead th {\n",
       "        text-align: right;\n",
       "    }\n",
       "</style>\n",
       "<table border=\"1\" class=\"dataframe\">\n",
       "  <thead>\n",
       "    <tr style=\"text-align: right;\">\n",
       "      <th></th>\n",
       "      <th>extra_trees1_score</th>\n",
       "      <th>extra_trees1_score_class</th>\n",
       "      <th>neural_net1_score</th>\n",
       "      <th>neural_net1_score_class</th>\n",
       "      <th>logistic_regression1_score</th>\n",
       "      <th>logistic_regression1_score_class</th>\n",
       "      <th>nearest_neighbor1_score</th>\n",
       "      <th>nearest_neighbor1_score_class</th>\n",
       "      <th>random_forest1_score</th>\n",
       "      <th>random_forest1_score_class</th>\n",
       "      <th>score_x</th>\n",
       "      <th>score_class</th>\n",
       "      <th>customer_id</th>\n",
       "      <th>score_y</th>\n",
       "      <th>roundScore</th>\n",
       "    </tr>\n",
       "  </thead>\n",
       "  <tbody>\n",
       "    <tr>\n",
       "      <th>0</th>\n",
       "      <td>0.105602</td>\n",
       "      <td>0</td>\n",
       "      <td>0.008603</td>\n",
       "      <td>0</td>\n",
       "      <td>0.233868</td>\n",
       "      <td>0</td>\n",
       "      <td>0.0</td>\n",
       "      <td>0</td>\n",
       "      <td>0.085728</td>\n",
       "      <td>0</td>\n",
       "      <td>0.086760</td>\n",
       "      <td>0</td>\n",
       "      <td>8889073736</td>\n",
       "      <td>0.086760</td>\n",
       "      <td>0.09</td>\n",
       "    </tr>\n",
       "    <tr>\n",
       "      <th>1</th>\n",
       "      <td>0.049761</td>\n",
       "      <td>0</td>\n",
       "      <td>0.010383</td>\n",
       "      <td>0</td>\n",
       "      <td>0.255827</td>\n",
       "      <td>0</td>\n",
       "      <td>0.0</td>\n",
       "      <td>0</td>\n",
       "      <td>0.050027</td>\n",
       "      <td>0</td>\n",
       "      <td>0.073200</td>\n",
       "      <td>0</td>\n",
       "      <td>9900557688</td>\n",
       "      <td>0.073200</td>\n",
       "      <td>0.07</td>\n",
       "    </tr>\n",
       "    <tr>\n",
       "      <th>2</th>\n",
       "      <td>0.049761</td>\n",
       "      <td>0</td>\n",
       "      <td>0.009127</td>\n",
       "      <td>0</td>\n",
       "      <td>0.234252</td>\n",
       "      <td>0</td>\n",
       "      <td>0.0</td>\n",
       "      <td>0</td>\n",
       "      <td>0.066691</td>\n",
       "      <td>0</td>\n",
       "      <td>0.071966</td>\n",
       "      <td>0</td>\n",
       "      <td>9900663765</td>\n",
       "      <td>0.071966</td>\n",
       "      <td>0.07</td>\n",
       "    </tr>\n",
       "    <tr>\n",
       "      <th>3</th>\n",
       "      <td>0.049761</td>\n",
       "      <td>0</td>\n",
       "      <td>0.004313</td>\n",
       "      <td>0</td>\n",
       "      <td>0.229075</td>\n",
       "      <td>0</td>\n",
       "      <td>0.0</td>\n",
       "      <td>0</td>\n",
       "      <td>0.070969</td>\n",
       "      <td>0</td>\n",
       "      <td>0.070824</td>\n",
       "      <td>0</td>\n",
       "      <td>9903635032</td>\n",
       "      <td>0.070824</td>\n",
       "      <td>0.07</td>\n",
       "    </tr>\n",
       "    <tr>\n",
       "      <th>4</th>\n",
       "      <td>0.049761</td>\n",
       "      <td>0</td>\n",
       "      <td>0.019585</td>\n",
       "      <td>0</td>\n",
       "      <td>0.215065</td>\n",
       "      <td>0</td>\n",
       "      <td>0.0</td>\n",
       "      <td>0</td>\n",
       "      <td>0.000000</td>\n",
       "      <td>0</td>\n",
       "      <td>0.056882</td>\n",
       "      <td>0</td>\n",
       "      <td>9904507435</td>\n",
       "      <td>0.056882</td>\n",
       "      <td>0.06</td>\n",
       "    </tr>\n",
       "  </tbody>\n",
       "</table>\n",
       "</div>"
      ],
      "text/plain": [
       "   extra_trees1_score  extra_trees1_score_class  neural_net1_score  \\\n",
       "0            0.105602                         0           0.008603   \n",
       "1            0.049761                         0           0.010383   \n",
       "2            0.049761                         0           0.009127   \n",
       "3            0.049761                         0           0.004313   \n",
       "4            0.049761                         0           0.019585   \n",
       "\n",
       "   neural_net1_score_class  logistic_regression1_score  \\\n",
       "0                        0                    0.233868   \n",
       "1                        0                    0.255827   \n",
       "2                        0                    0.234252   \n",
       "3                        0                    0.229075   \n",
       "4                        0                    0.215065   \n",
       "\n",
       "   logistic_regression1_score_class  nearest_neighbor1_score  \\\n",
       "0                                 0                      0.0   \n",
       "1                                 0                      0.0   \n",
       "2                                 0                      0.0   \n",
       "3                                 0                      0.0   \n",
       "4                                 0                      0.0   \n",
       "\n",
       "   nearest_neighbor1_score_class  random_forest1_score  \\\n",
       "0                              0              0.085728   \n",
       "1                              0              0.050027   \n",
       "2                              0              0.066691   \n",
       "3                              0              0.070969   \n",
       "4                              0              0.000000   \n",
       "\n",
       "   random_forest1_score_class   score_x  score_class  customer_id   score_y  \\\n",
       "0                           0  0.086760            0   8889073736  0.086760   \n",
       "1                           0  0.073200            0   9900557688  0.073200   \n",
       "2                           0  0.071966            0   9900663765  0.071966   \n",
       "3                           0  0.070824            0   9903635032  0.070824   \n",
       "4                           0  0.056882            0   9904507435  0.056882   \n",
       "\n",
       "   roundScore  \n",
       "0        0.09  \n",
       "1        0.07  \n",
       "2        0.07  \n",
       "3        0.07  \n",
       "4        0.06  "
      ]
     },
     "execution_count": 33,
     "metadata": {},
     "output_type": "execute_result"
    }
   ],
   "source": [
    "## Get Rounded Score\n",
    "new_df2['roundScore']=  np.round(new_df2['score_x'],2)\n",
    "new_df2.head()"
   ]
  },
  {
   "cell_type": "code",
   "execution_count": 34,
   "metadata": {},
   "outputs": [
    {
     "data": {
      "image/png": "[encoded data removed]",
      "text/plain": [
       "<matplotlib.figure.Figure at 0x296060893c8>"
      ]
     },
     "metadata": {},
     "output_type": "display_data"
    }
   ],
   "source": [
    "## 'Comparison of Mean between Response vs No Response'\n",
    "pyplot.rcParams['figure.figsize'] = (12, 7)\n",
    "pyplot.plot(new_df2[['score_x']].groupby(new_df2['roundScore']).mean().index.values, new_df2.score_x.groupby(new_df2['roundScore']).mean(), color='red')\n",
    "pyplot.plot(new_df2[['score_x']].groupby(new_df2['roundScore']).mean().index.values, new_df2.random_forest1_score.groupby(new_df2['roundScore']).mean(), color='green')\n",
    "pyplot.plot(new_df2[['score_x']].groupby(new_df2['roundScore']).mean().index.values, new_df2.extra_trees1_score.groupby(new_df2['roundScore']).mean(), color='yellow')\n",
    "pyplot.plot(new_df2[['score_x']].groupby(new_df2['roundScore']).mean().index.values, new_df2.neural_net1_score.groupby(new_df2['roundScore']).mean(), color='black')\n",
    "pyplot.plot(new_df2[['score_x']].groupby(new_df2['roundScore']).mean().index.values, new_df2.logistic_regression1_score.groupby(new_df2['roundScore']).mean(), color='orange')\n",
    "pyplot.plot(new_df2[['score_x']].groupby(new_df2['roundScore']).mean().index.values, new_df2.nearest_neighbor1_score.groupby(new_df2['roundScore']).mean(), color='blue')\n",
    "pyplot.xlabel('Rounded Score upto two decimal places')\n",
    "pyplot.ylabel('Mean Score')\n",
    "pyplot.title('Comparison of Mean amongst Algorithms used')\n",
    "pyplot.legend(['Avg. Score', 'Random Forest', 'extra_trees1_score', 'neural_net1_score', 'logistic_regression1_score', 'nearest_neighbor1_score' ])\n",
    "#pyplot.figure(figsize=(5,5))\n",
    "pyplot.show()"
   ]
  },
  {
   "cell_type": "markdown",
   "metadata": {},
   "source": [
    "Logistic Regression has signifincantly larger mean than the rest of the Algorithms used."
   ]
  },
  {
   "cell_type": "code",
   "execution_count": 35,
   "metadata": {},
   "outputs": [],
   "source": [
    "## Add Response to all Algorithm dataset\n",
    "## Merge Response Data and Scored Customers\n",
    "new_df3 = pd.merge(new_df2, df_test,  how='inner', on=['customer_id'])"
   ]
  },
  {
   "cell_type": "code",
   "execution_count": 36,
   "metadata": {},
   "outputs": [],
   "source": [
    "## Get deciles based on Score\n",
    "new_df3['deciles']=  pd.qcut(new_df3['score_x'], 10, labels=False)"
   ]
  },
  {
   "cell_type": "code",
   "execution_count": 39,
   "metadata": {},
   "outputs": [
    {
     "data": {
      "text/plain": [
       "319846"
      ]
     },
     "execution_count": 39,
     "metadata": {},
     "output_type": "execute_result"
    }
   ],
   "source": [
    "mlDF33 = pd.DataFrame([])\n",
    "mlDF33['customer_id'] = new_df3['customer_id']\n",
    "mlDF33['extraTree'] = new_df3['extra_trees1_score']\n",
    "mlDF33['neuralNet'] = new_df3['neural_net1_score']\n",
    "mlDF33['logisticRegression'] = new_df3['logistic_regression1_score']\n",
    "mlDF33['nearestNeighbor'] = new_df3['nearest_neighbor1_score']\n",
    "mlDF33['randomForest'] = new_df3['random_forest1_score']\n",
    "mlDF33['randomForest'] = new_df3['random_forest1_score']\n",
    "mlDF33['Average'] = new_df3['score_x']\n",
    "mlDF33['roundScore'] = new_df3['roundScore']\n",
    "mlDF33['deciles'] = new_df3['deciles']\n",
    "mlDF33['response'] = new_df3['response']\n",
    "mlDF33.to_csv(('ResponseData.csv'), index = False)\n",
    "mlDF33.shape[0]"
   ]
  },
  {
   "cell_type": "code",
   "execution_count": 38,
   "metadata": {},
   "outputs": [
    {
     "data": {
      "text/plain": [
       "0    0\n",
       "1    0\n",
       "2    0\n",
       "3    0\n",
       "4    1\n",
       "Name: response, dtype: int64"
      ]
     },
     "execution_count": 38,
     "metadata": {},
     "output_type": "execute_result"
    }
   ],
   "source": [
    "new_df3.response.head()"
   ]
  },
  {
   "cell_type": "code",
   "execution_count": 114,
   "metadata": {},
   "outputs": [],
   "source": [
    "## Mean Score based on Rounded Score for Positive Response\n",
    "df_resp = pd.DataFrame([])\n",
    "df_resp['No_resp'] = new_df3.score_x[new_df3['response']==0].groupby(new_df3['roundScore']).mean()\n",
    "df_resp['respbyAvg'] = new_df3.score_x[new_df3['response']==1].groupby(new_df3['roundScore']).mean()\n",
    "df_resp['respbyExtra'] = new_df3.extra_trees1_score[new_df3['response']==1].groupby(new_df3['roundScore']).mean()\n",
    "df_resp['respbyNeural'] = new_df3.neural_net1_score[new_df3['response']==1].groupby(new_df3['roundScore']).mean()\n",
    "df_resp['respbyLogistic'] = new_df3.logistic_regression1_score[new_df3['response']==1].groupby(new_df3['roundScore']).mean()\n",
    "df_resp['respbyNN'] = new_df3.nearest_neighbor1_score[new_df3['response']==1].groupby(new_df3['roundScore']).mean()\n",
    "df_resp['respbyRM'] = new_df3.random_forest1_score[new_df3['response']==1].groupby(new_df3['roundScore']).mean()\n",
    "df_resp = df_resp.reset_index()\n",
    "df_resp.fillna(value=0, inplace=True)"
   ]
  },
  {
   "cell_type": "code",
   "execution_count": 125,
   "metadata": {},
   "outputs": [
    {
     "data": {
      "image/png": "[encoded data removed]",
      "text/plain": [
       "<matplotlib.figure.Figure at 0x21bc338fe80>"
      ]
     },
     "metadata": {},
     "output_type": "display_data"
    }
   ],
   "source": [
    "## 'Comparison of Mean between Response vs No Response'\n",
    "pyplot.rcParams['figure.figsize'] = (12, 7)\n",
    "pyplot.plot(df_resp['roundScore'], df_resp['respbyAvg'], color='red')\n",
    "pyplot.plot(df_resp['roundScore'], df_resp['respbyExtra'], color='yellow')\n",
    "pyplot.plot(df_resp['roundScore'], df_resp['respbyNeural'], color='black')\n",
    "pyplot.plot(df_resp['roundScore'], df_resp['respbyLogistic'], color='orange')\n",
    "pyplot.plot(df_resp['roundScore'], df_resp['respbyNN'], color='blue')\n",
    "pyplot.plot(df_resp['roundScore'], df_resp['respbyRM'], color='green')\n",
    "pyplot.ylabel('Mean Score when customers responded')\n",
    "pyplot.xlabel('Rounded Score')\n",
    "pyplot.title('Mean of Scores when customers Responded by Rounded Score')\n",
    "pyplot.legend(['Average', 'Extra Tree', 'Neural Net.', 'Logistic', 'Nearest Neighbor', 'Random Forest'])\n",
    "#pyplot.figure(figsize=(5,5))\n",
    "pyplot.show()"
   ]
  },
  {
   "cell_type": "code",
   "execution_count": 122,
   "metadata": {},
   "outputs": [],
   "source": [
    "df_resp2 = pd.DataFrame([])\n",
    "df_resp2 = new_df3[new_df3['response']==1]"
   ]
  },
  {
   "cell_type": "code",
   "execution_count": 126,
   "metadata": {},
   "outputs": [
    {
     "data": {
      "image/png": "[encoded data removed]",
      "text/plain": [
       "<matplotlib.figure.Figure at 0x21b801f4f60>"
      ]
     },
     "metadata": {},
     "output_type": "display_data"
    }
   ],
   "source": [
    "## 'Comparison of Mean between Response vs No Response by Deciles'\n",
    "pyplot.plot(df_resp2[['score_x']].groupby(df_resp2['deciles']).mean().index.values, df_resp2.score_x.groupby(df_resp2['deciles']).mean(), color='red')\n",
    "pyplot.plot(df_resp2[['score_x']].groupby(df_resp2['deciles']).mean().index.values, df_resp2.extra_trees1_score.groupby(df_resp2['deciles']).mean(), color='yellow')\n",
    "pyplot.plot(df_resp2[['score_x']].groupby(df_resp2['deciles']).mean().index.values, df_resp2.neural_net1_score.groupby(df_resp2['deciles']).mean(), color='black')\n",
    "pyplot.plot(df_resp2[['score_x']].groupby(df_resp2['deciles']).mean().index.values, df_resp2.logistic_regression1_score.groupby(df_resp2['deciles']).mean(), color='orange')\n",
    "pyplot.plot(df_resp2[['score_x']].groupby(df_resp2['deciles']).mean().index.values, df_resp2.nearest_neighbor1_score.groupby(df_resp2['deciles']).mean(), color='blue')\n",
    "pyplot.plot(df_resp2[['score_x']].groupby(df_resp2['deciles']).mean().index.values, df_resp2.random_forest1_score.groupby(df_resp2['deciles']).mean(), color='green')\n",
    "pyplot.xlabel('Scores in Decile')\n",
    "pyplot.ylabel('Mean Score')\n",
    "pyplot.title('Mean Score when customers responded by Decile')\n",
    "pyplot.legend(['Average', 'Extra Tree', 'Neural Net.', 'Logistic', 'Nearest Neighbor', 'Random Forest'])\n",
    "pyplot.show()"
   ]
  },
  {
   "cell_type": "code",
   "execution_count": 142,
   "metadata": {},
   "outputs": [
    {
     "data": {
      "image/png": "[encoded data removed]",
      "text/plain": [
       "<matplotlib.figure.Figure at 0x21b87153b70>"
      ]
     },
     "metadata": {},
     "output_type": "display_data"
    }
   ],
   "source": [
    "## Diff. b/w Mean Score of customers who responded - Mean of customer who did not\n",
    "\n",
    "pyplot.rcParams['figure.figsize'] = (8, 4)\n",
    "x = np.arange(6)\n",
    "pyplot.bar(x, height = [\n",
    "    (new_df3.score_x[new_df3['response']==1].mean() - new_df3.score_x[new_df3['response']==0].mean()),\n",
    "    (new_df3.extra_trees1_score[new_df3['response']==1].mean() - new_df3.extra_trees1_score[new_df3['response']==0].mean()),\n",
    "    (new_df3.neural_net1_score[new_df3['response']==1].mean() - new_df3.neural_net1_score[new_df3['response']==0].mean()),\n",
    "    (new_df3.logistic_regression1_score[new_df3['response']==1].mean() - new_df3.logistic_regression1_score[new_df3['response']==0].mean()),\n",
    "    (new_df3.nearest_neighbor1_score[new_df3['response']==1].mean() - new_df3.nearest_neighbor1_score[new_df3['response']==0].mean()),\n",
    "    (new_df3.random_forest1_score[new_df3['response']==1].mean() - new_df3.random_forest1_score[new_df3['response']==0].mean())\n",
    "     ])\n",
    "pyplot.xticks(x, ['Average', 'Extra Tree','Neural','Log.', 'NN', 'RM'])\n",
    "pyplot.title('Higher, the better');"
   ]
  },
  {
   "cell_type": "markdown",
   "metadata": {},
   "source": [
    "As seen in the above graph, Logistic Regression on an average assigned significanly larger score to the customers than the rest of the ML Algorithms."
   ]
  },
  {
   "cell_type": "code",
   "execution_count": 173,
   "metadata": {},
   "outputs": [
    {
     "data": {
      "image/png": "[encoded data removed]",
      "text/plain": [
       "<matplotlib.figure.Figure at 0x21b8090cb38>"
      ]
     },
     "metadata": {},
     "output_type": "display_data"
    }
   ],
   "source": [
    "## 90% Positive Ouptput remains in the top 5 deciles, hence consider deciles > 4\n",
    "\n",
    "pyplot.rcParams['figure.figsize'] = (8, 4)\n",
    "x = np.arange(6)\n",
    "n = 4  \n",
    "pyplot.bar(x, height = [\n",
    "    (new_df3.score_x[(new_df3['response']==1) & (new_df3['deciles']>n)].mean() - new_df3.score_x[(new_df3['response']==0) & (new_df3['deciles']>n)].mean()),\n",
    "    (new_df3.extra_trees1_score[(new_df3['response']==1) & (new_df3['deciles']>n)].mean() - new_df3.extra_trees1_score[(new_df3['response']==0)  & (new_df3['deciles']>n)].mean()),\n",
    "    (new_df3.neural_net1_score[(new_df3['response']==1)  & (new_df3['deciles']>n)].mean() - new_df3.neural_net1_score[(new_df3['response']==0) & (new_df3['deciles']>n)].mean()),\n",
    "    (new_df3.logistic_regression1_score[(new_df3['response']==1) & (new_df3['deciles']>n)].mean() - new_df3.logistic_regression1_score[(new_df3['response']==0) & (new_df3['deciles']>n)].mean()),\n",
    "    (new_df3.nearest_neighbor1_score[(new_df3['response']==1) & (new_df3['deciles']>n)].mean() - new_df3.nearest_neighbor1_score[(new_df3['response']==0) & (new_df3['deciles']>n)].mean()),\n",
    "    (new_df3.random_forest1_score[(new_df3['response']==1) & (new_df3['deciles']>n)].mean() - new_df3.random_forest1_score[(new_df3['response']==0) & (new_df3['deciles']>n)].mean())\n",
    "     ])\n",
    "pyplot.xticks(x, ['Average', 'Extra Tree','Neural','Log.', 'NN', 'RM'])\n",
    "pyplot.title('Higher, the better');"
   ]
  },
  {
   "cell_type": "markdown",
   "metadata": {},
   "source": [
    "When considering the top 50 % of the customers based on Score, the Nearest Neigbour Algorithms has virtually no difference between the scores of the customer who responded viz a viz who did not. Surprisingly the Extra Tree Algo. also did performed that well for the top 50%."
   ]
  },
  {
   "cell_type": "code",
   "execution_count": 165,
   "metadata": {},
   "outputs": [
    {
     "data": {
      "text/plain": [
       "0    148090\n",
       "1     11833\n",
       "Name: response, dtype: int64"
      ]
     },
     "execution_count": 165,
     "metadata": {},
     "output_type": "execute_result"
    }
   ],
   "source": [
    "new_df3.response[new_df3['deciles']>4].value_counts()"
   ]
  },
  {
   "cell_type": "code",
   "execution_count": 286,
   "metadata": {},
   "outputs": [],
   "source": [
    "## !!!! --- II Part  --- !!!! "
   ]
  },
  {
   "cell_type": "code",
   "execution_count": 287,
   "metadata": {},
   "outputs": [
    {
     "data": {
      "text/html": [
       "<div>\n",
       "<style scoped>\n",
       "    .dataframe tbody tr th:only-of-type {\n",
       "        vertical-align: middle;\n",
       "    }\n",
       "\n",
       "    .dataframe tbody tr th {\n",
       "        vertical-align: top;\n",
       "    }\n",
       "\n",
       "    .dataframe thead th {\n",
       "        text-align: right;\n",
       "    }\n",
       "</style>\n",
       "<table border=\"1\" class=\"dataframe\">\n",
       "  <thead>\n",
       "    <tr style=\"text-align: right;\">\n",
       "      <th></th>\n",
       "      <th>extra_trees1_score</th>\n",
       "      <th>extra_trees1_score_class</th>\n",
       "      <th>neural_net1_score</th>\n",
       "      <th>neural_net1_score_class</th>\n",
       "      <th>logistic_regression1_score</th>\n",
       "      <th>logistic_regression1_score_class</th>\n",
       "      <th>nearest_neighbor1_score</th>\n",
       "      <th>nearest_neighbor1_score_class</th>\n",
       "      <th>random_forest1_score</th>\n",
       "      <th>random_forest1_score_class</th>\n",
       "      <th>score_x</th>\n",
       "      <th>score_class</th>\n",
       "      <th>customer_id</th>\n",
       "      <th>score_y</th>\n",
       "      <th>roundScore</th>\n",
       "      <th>response</th>\n",
       "      <th>deciles</th>\n",
       "    </tr>\n",
       "  </thead>\n",
       "  <tbody>\n",
       "    <tr>\n",
       "      <th>0</th>\n",
       "      <td>0.284693</td>\n",
       "      <td>0</td>\n",
       "      <td>0.012015</td>\n",
       "      <td>0</td>\n",
       "      <td>0.277753</td>\n",
       "      <td>0</td>\n",
       "      <td>0.0</td>\n",
       "      <td>0</td>\n",
       "      <td>0.168533</td>\n",
       "      <td>0</td>\n",
       "      <td>0.148599</td>\n",
       "      <td>0</td>\n",
       "      <td>9905077727</td>\n",
       "      <td>0.148599</td>\n",
       "      <td>0.15</td>\n",
       "      <td>0</td>\n",
       "      <td>3</td>\n",
       "    </tr>\n",
       "    <tr>\n",
       "      <th>1</th>\n",
       "      <td>0.306429</td>\n",
       "      <td>0</td>\n",
       "      <td>0.015777</td>\n",
       "      <td>0</td>\n",
       "      <td>0.368497</td>\n",
       "      <td>0</td>\n",
       "      <td>0.0</td>\n",
       "      <td>0</td>\n",
       "      <td>0.232450</td>\n",
       "      <td>0</td>\n",
       "      <td>0.184631</td>\n",
       "      <td>0</td>\n",
       "      <td>9908618186</td>\n",
       "      <td>0.184631</td>\n",
       "      <td>0.18</td>\n",
       "      <td>0</td>\n",
       "      <td>5</td>\n",
       "    </tr>\n",
       "    <tr>\n",
       "      <th>2</th>\n",
       "      <td>0.132535</td>\n",
       "      <td>0</td>\n",
       "      <td>0.033061</td>\n",
       "      <td>0</td>\n",
       "      <td>0.479017</td>\n",
       "      <td>1</td>\n",
       "      <td>0.0</td>\n",
       "      <td>0</td>\n",
       "      <td>0.241758</td>\n",
       "      <td>0</td>\n",
       "      <td>0.177274</td>\n",
       "      <td>0</td>\n",
       "      <td>980103911</td>\n",
       "      <td>0.177274</td>\n",
       "      <td>0.18</td>\n",
       "      <td>0</td>\n",
       "      <td>5</td>\n",
       "    </tr>\n",
       "    <tr>\n",
       "      <th>3</th>\n",
       "      <td>0.138661</td>\n",
       "      <td>0</td>\n",
       "      <td>0.019143</td>\n",
       "      <td>0</td>\n",
       "      <td>0.303654</td>\n",
       "      <td>0</td>\n",
       "      <td>0.0</td>\n",
       "      <td>0</td>\n",
       "      <td>0.353851</td>\n",
       "      <td>0</td>\n",
       "      <td>0.163062</td>\n",
       "      <td>0</td>\n",
       "      <td>8890344209</td>\n",
       "      <td>0.163062</td>\n",
       "      <td>0.16</td>\n",
       "      <td>0</td>\n",
       "      <td>4</td>\n",
       "    </tr>\n",
       "    <tr>\n",
       "      <th>4</th>\n",
       "      <td>0.344784</td>\n",
       "      <td>0</td>\n",
       "      <td>0.026560</td>\n",
       "      <td>0</td>\n",
       "      <td>0.458138</td>\n",
       "      <td>1</td>\n",
       "      <td>0.0</td>\n",
       "      <td>0</td>\n",
       "      <td>0.192233</td>\n",
       "      <td>0</td>\n",
       "      <td>0.204343</td>\n",
       "      <td>0</td>\n",
       "      <td>9896568342</td>\n",
       "      <td>0.204343</td>\n",
       "      <td>0.20</td>\n",
       "      <td>1</td>\n",
       "      <td>6</td>\n",
       "    </tr>\n",
       "  </tbody>\n",
       "</table>\n",
       "</div>"
      ],
      "text/plain": [
       "   extra_trees1_score  extra_trees1_score_class  neural_net1_score  \\\n",
       "0            0.284693                         0           0.012015   \n",
       "1            0.306429                         0           0.015777   \n",
       "2            0.132535                         0           0.033061   \n",
       "3            0.138661                         0           0.019143   \n",
       "4            0.344784                         0           0.026560   \n",
       "\n",
       "   neural_net1_score_class  logistic_regression1_score  \\\n",
       "0                        0                    0.277753   \n",
       "1                        0                    0.368497   \n",
       "2                        0                    0.479017   \n",
       "3                        0                    0.303654   \n",
       "4                        0                    0.458138   \n",
       "\n",
       "   logistic_regression1_score_class  nearest_neighbor1_score  \\\n",
       "0                                 0                      0.0   \n",
       "1                                 0                      0.0   \n",
       "2                                 1                      0.0   \n",
       "3                                 0                      0.0   \n",
       "4                                 1                      0.0   \n",
       "\n",
       "   nearest_neighbor1_score_class  random_forest1_score  \\\n",
       "0                              0              0.168533   \n",
       "1                              0              0.232450   \n",
       "2                              0              0.241758   \n",
       "3                              0              0.353851   \n",
       "4                              0              0.192233   \n",
       "\n",
       "   random_forest1_score_class   score_x  score_class customer_id   score_y  \\\n",
       "0                           0  0.148599            0  9905077727  0.148599   \n",
       "1                           0  0.184631            0  9908618186  0.184631   \n",
       "2                           0  0.177274            0   980103911  0.177274   \n",
       "3                           0  0.163062            0  8890344209  0.163062   \n",
       "4                           0  0.204343            0  9896568342  0.204343   \n",
       "\n",
       "   roundScore  response  deciles  \n",
       "0        0.15         0        3  \n",
       "1        0.18         0        5  \n",
       "2        0.18         0        5  \n",
       "3        0.16         0        4  \n",
       "4        0.20         1        6  "
      ]
     },
     "execution_count": 287,
     "metadata": {},
     "output_type": "execute_result"
    }
   ],
   "source": [
    "new_df3.head()"
   ]
  },
  {
   "cell_type": "code",
   "execution_count": 288,
   "metadata": {},
   "outputs": [
    {
     "data": {
      "text/plain": [
       "319846"
      ]
     },
     "execution_count": 288,
     "metadata": {},
     "output_type": "execute_result"
    }
   ],
   "source": [
    "mlDF = pd.DataFrame([])\n",
    "mlDF['extraTree'] = new_df3['extra_trees1_score']\n",
    "mlDF['neuralNet'] = new_df3['neural_net1_score']\n",
    "mlDF['logisticRegression'] = new_df3['logistic_regression1_score']\n",
    "mlDF['nearestNeighbor'] = new_df3['nearest_neighbor1_score']\n",
    "mlDF['randomForest'] = new_df3['random_forest1_score']\n",
    "mlDF['response'] = new_df3['response']\n",
    "#mlDF.to_csv(('mlDF.csv'), index = False)\n",
    "mlDF.shape[0]"
   ]
  },
  {
   "cell_type": "code",
   "execution_count": 289,
   "metadata": {},
   "outputs": [
    {
     "data": {
      "text/plain": [
       "16253"
      ]
     },
     "execution_count": 289,
     "metadata": {},
     "output_type": "execute_result"
    }
   ],
   "source": [
    "\n",
    "mlDF2 = pd.DataFrame([])\n",
    "mlDF2['extraTree'] = new_df3.extra_trees1_score[(new_df3['response']==1)]\n",
    "mlDF2['neuralNet'] = new_df3.neural_net1_score[(new_df3['response']==1)]\n",
    "mlDF2['logisticRegression'] = new_df3.logistic_regression1_score[(new_df3['response']==1)]\n",
    "mlDF2['nearestNeighbor'] = new_df3.nearest_neighbor1_score[(new_df3['response']==1)]\n",
    "mlDF2['randomForest'] = new_df3.random_forest1_score[(new_df3['response']==1)]\n",
    "mlDF2['response'] = new_df3.response[(new_df3['response']==1)]\n",
    "#mlDF2.to_csv(('mlDF2.csv'), index = False)\n",
    "mlDF2.shape[0]"
   ]
  },
  {
   "cell_type": "code",
   "execution_count": 290,
   "metadata": {},
   "outputs": [
    {
     "data": {
      "text/html": [
       "<div>\n",
       "<style scoped>\n",
       "    .dataframe tbody tr th:only-of-type {\n",
       "        vertical-align: middle;\n",
       "    }\n",
       "\n",
       "    .dataframe tbody tr th {\n",
       "        vertical-align: top;\n",
       "    }\n",
       "\n",
       "    .dataframe thead th {\n",
       "        text-align: right;\n",
       "    }\n",
       "</style>\n",
       "<table border=\"1\" class=\"dataframe\">\n",
       "  <thead>\n",
       "    <tr style=\"text-align: right;\">\n",
       "      <th></th>\n",
       "      <th>extraTree</th>\n",
       "      <th>neuralNet</th>\n",
       "      <th>logisticRegression</th>\n",
       "      <th>nearestNeighbor</th>\n",
       "      <th>randomForest</th>\n",
       "      <th>response</th>\n",
       "    </tr>\n",
       "  </thead>\n",
       "  <tbody>\n",
       "    <tr>\n",
       "      <th>4</th>\n",
       "      <td>0.344784</td>\n",
       "      <td>0.026560</td>\n",
       "      <td>0.458138</td>\n",
       "      <td>0.0</td>\n",
       "      <td>0.192233</td>\n",
       "      <td>1</td>\n",
       "    </tr>\n",
       "    <tr>\n",
       "      <th>31</th>\n",
       "      <td>0.211977</td>\n",
       "      <td>0.234322</td>\n",
       "      <td>0.638249</td>\n",
       "      <td>0.0</td>\n",
       "      <td>0.429716</td>\n",
       "      <td>1</td>\n",
       "    </tr>\n",
       "    <tr>\n",
       "      <th>105</th>\n",
       "      <td>0.221896</td>\n",
       "      <td>0.023902</td>\n",
       "      <td>0.427112</td>\n",
       "      <td>0.0</td>\n",
       "      <td>0.087816</td>\n",
       "      <td>1</td>\n",
       "    </tr>\n",
       "    <tr>\n",
       "      <th>126</th>\n",
       "      <td>0.518036</td>\n",
       "      <td>0.109079</td>\n",
       "      <td>0.776857</td>\n",
       "      <td>0.0</td>\n",
       "      <td>0.213442</td>\n",
       "      <td>1</td>\n",
       "    </tr>\n",
       "    <tr>\n",
       "      <th>129</th>\n",
       "      <td>0.355396</td>\n",
       "      <td>0.100663</td>\n",
       "      <td>0.738618</td>\n",
       "      <td>0.0</td>\n",
       "      <td>0.182827</td>\n",
       "      <td>1</td>\n",
       "    </tr>\n",
       "  </tbody>\n",
       "</table>\n",
       "</div>"
      ],
      "text/plain": [
       "     extraTree  neuralNet  logisticRegression  nearestNeighbor  randomForest  \\\n",
       "4     0.344784   0.026560            0.458138              0.0      0.192233   \n",
       "31    0.211977   0.234322            0.638249              0.0      0.429716   \n",
       "105   0.221896   0.023902            0.427112              0.0      0.087816   \n",
       "126   0.518036   0.109079            0.776857              0.0      0.213442   \n",
       "129   0.355396   0.100663            0.738618              0.0      0.182827   \n",
       "\n",
       "     response  \n",
       "4           1  \n",
       "31          1  \n",
       "105         1  \n",
       "126         1  \n",
       "129         1  "
      ]
     },
     "execution_count": 290,
     "metadata": {},
     "output_type": "execute_result"
    }
   ],
   "source": [
    "mlDF2.head()"
   ]
  },
  {
   "cell_type": "code",
   "execution_count": 291,
   "metadata": {},
   "outputs": [
    {
     "name": "stderr",
     "output_type": "stream",
     "text": [
      "C:\\ProgramData\\Anaconda3\\lib\\site-packages\\ipykernel_launcher.py:4: FutureWarning: `rcond` parameter will change to the default of machine precision times ``max(M, N)`` where M and N are the input matrix dimensions.\n",
      "To use the future default and silence this warning we advise to pass `rcond=None`, to keep using the old, explicitly pass `rcond=-1`.\n",
      "  after removing the cwd from sys.path.\n"
     ]
    },
    {
     "data": {
      "text/plain": [
       "(array([-0.02833912,  0.74902302,  0.06479118, -0.02846758,  0.01302174]),\n",
       " array([14677.0109443]),\n",
       " 5,\n",
       " array([316.9822807 ,  67.42859465,  46.95429872,  34.66157905,\n",
       "         21.84283858]))"
      ]
     },
     "execution_count": 291,
     "metadata": {},
     "output_type": "execute_result"
    }
   ],
   "source": [
    "# DO NOT USE\n",
    "\n",
    "a = np.array(mlDF[['extraTree', 'neuralNet','logisticRegression','nearestNeighbor','randomForest']].values.tolist())\n",
    "b = np.array(mlDF.response.values.tolist())\n",
    "#x = np.linalg.solve(a, b)\n",
    "x = np.linalg.lstsq(a, b)\n",
    "x\n"
   ]
  },
  {
   "cell_type": "code",
   "execution_count": null,
   "metadata": {},
   "outputs": [],
   "source": []
  },
  {
   "cell_type": "code",
   "execution_count": 292,
   "metadata": {},
   "outputs": [
    {
     "data": {
      "text/plain": [
       "0    23685\n",
       "1    17568\n",
       "Name: response, dtype: int64"
      ]
     },
     "execution_count": 292,
     "metadata": {},
     "output_type": "execute_result"
    }
   ],
   "source": [
    "mlDF3 = mlDF.sample(25000)\n",
    "mlDF2 = mlDF3.append(mlDF2)\n",
    "mlDF2.response.value_counts()"
   ]
  },
  {
   "cell_type": "code",
   "execution_count": 293,
   "metadata": {},
   "outputs": [
    {
     "name": "stderr",
     "output_type": "stream",
     "text": [
      "C:\\ProgramData\\Anaconda3\\lib\\site-packages\\ipykernel_launcher.py:4: FutureWarning: `rcond` parameter will change to the default of machine precision times ``max(M, N)`` where M and N are the input matrix dimensions.\n",
      "To use the future default and silence this warning we advise to pass `rcond=None`, to keep using the old, explicitly pass `rcond=-1`.\n",
      "  after removing the cwd from sys.path.\n"
     ]
    },
    {
     "data": {
      "text/plain": [
       "(array([-0.10793315,  0.07550423,  0.8912468 , -0.18989029,  0.12982842]),\n",
       " array([8678.30744403]),\n",
       " 5,\n",
       " array([128.79462408,  24.34678829,  18.73405898,  14.52050321,\n",
       "         11.50756917]))"
      ]
     },
     "execution_count": 293,
     "metadata": {},
     "output_type": "execute_result"
    }
   ],
   "source": [
    "a = np.array(mlDF2[['extraTree', 'neuralNet','logisticRegression','nearestNeighbor','randomForest']].values.tolist())\n",
    "b = np.array(mlDF2.response.values.tolist())\n",
    "#x = np.linalg.solve(a, b)\n",
    "x = np.linalg.lstsq(a, b)\n",
    "x"
   ]
  },
  {
   "cell_type": "code",
   "execution_count": 294,
   "metadata": {},
   "outputs": [
    {
     "data": {
      "text/html": [
       "<div>\n",
       "<style scoped>\n",
       "    .dataframe tbody tr th:only-of-type {\n",
       "        vertical-align: middle;\n",
       "    }\n",
       "\n",
       "    .dataframe tbody tr th {\n",
       "        vertical-align: top;\n",
       "    }\n",
       "\n",
       "    .dataframe thead th {\n",
       "        text-align: right;\n",
       "    }\n",
       "</style>\n",
       "<table border=\"1\" class=\"dataframe\">\n",
       "  <thead>\n",
       "    <tr style=\"text-align: right;\">\n",
       "      <th></th>\n",
       "      <th>extraTree</th>\n",
       "      <th>neuralNet</th>\n",
       "      <th>logisticRegression</th>\n",
       "      <th>nearestNeighbor</th>\n",
       "      <th>randomForest</th>\n",
       "      <th>response</th>\n",
       "    </tr>\n",
       "  </thead>\n",
       "  <tbody>\n",
       "    <tr>\n",
       "      <th>0</th>\n",
       "      <td>0.284693</td>\n",
       "      <td>0.012015</td>\n",
       "      <td>0.277753</td>\n",
       "      <td>0.0</td>\n",
       "      <td>0.168533</td>\n",
       "      <td>0</td>\n",
       "    </tr>\n",
       "    <tr>\n",
       "      <th>1</th>\n",
       "      <td>0.306429</td>\n",
       "      <td>0.015777</td>\n",
       "      <td>0.368497</td>\n",
       "      <td>0.0</td>\n",
       "      <td>0.232450</td>\n",
       "      <td>0</td>\n",
       "    </tr>\n",
       "    <tr>\n",
       "      <th>2</th>\n",
       "      <td>0.132535</td>\n",
       "      <td>0.033061</td>\n",
       "      <td>0.479017</td>\n",
       "      <td>0.0</td>\n",
       "      <td>0.241758</td>\n",
       "      <td>0</td>\n",
       "    </tr>\n",
       "    <tr>\n",
       "      <th>3</th>\n",
       "      <td>0.138661</td>\n",
       "      <td>0.019143</td>\n",
       "      <td>0.303654</td>\n",
       "      <td>0.0</td>\n",
       "      <td>0.353851</td>\n",
       "      <td>0</td>\n",
       "    </tr>\n",
       "    <tr>\n",
       "      <th>4</th>\n",
       "      <td>0.344784</td>\n",
       "      <td>0.026560</td>\n",
       "      <td>0.458138</td>\n",
       "      <td>0.0</td>\n",
       "      <td>0.192233</td>\n",
       "      <td>1</td>\n",
       "    </tr>\n",
       "  </tbody>\n",
       "</table>\n",
       "</div>"
      ],
      "text/plain": [
       "   extraTree  neuralNet  logisticRegression  nearestNeighbor  randomForest  \\\n",
       "0   0.284693   0.012015            0.277753              0.0      0.168533   \n",
       "1   0.306429   0.015777            0.368497              0.0      0.232450   \n",
       "2   0.132535   0.033061            0.479017              0.0      0.241758   \n",
       "3   0.138661   0.019143            0.303654              0.0      0.353851   \n",
       "4   0.344784   0.026560            0.458138              0.0      0.192233   \n",
       "\n",
       "   response  \n",
       "0         0  \n",
       "1         0  \n",
       "2         0  \n",
       "3         0  \n",
       "4         1  "
      ]
     },
     "execution_count": 294,
     "metadata": {},
     "output_type": "execute_result"
    }
   ],
   "source": [
    "mlDF.head()"
   ]
  },
  {
   "cell_type": "code",
   "execution_count": 260,
   "metadata": {},
   "outputs": [],
   "source": [
    "algoDF = pd.DataFrame([])\n",
    "algoDF['extraTree'] = mlDF.extraTree.describe()\n",
    "algoDF['neuralNet'] = mlDF.neuralNet.describe()\n",
    "algoDF['logisticRegression'] = mlDF.logisticRegression.describe()\n",
    "algoDF['nearestNeighbor'] = mlDF.nearestNeighbor.describe()\n",
    "algoDF['randomForest'] = mlDF.randomForest.describe()"
   ]
  },
  {
   "cell_type": "code",
   "execution_count": 295,
   "metadata": {},
   "outputs": [
    {
     "data": {
      "text/html": [
       "<div>\n",
       "<style scoped>\n",
       "    .dataframe tbody tr th:only-of-type {\n",
       "        vertical-align: middle;\n",
       "    }\n",
       "\n",
       "    .dataframe tbody tr th {\n",
       "        vertical-align: top;\n",
       "    }\n",
       "\n",
       "    .dataframe thead th {\n",
       "        text-align: right;\n",
       "    }\n",
       "</style>\n",
       "<table border=\"1\" class=\"dataframe\">\n",
       "  <thead>\n",
       "    <tr style=\"text-align: right;\">\n",
       "      <th></th>\n",
       "      <th>extraTree</th>\n",
       "      <th>neuralNet</th>\n",
       "      <th>logisticRegression</th>\n",
       "      <th>nearestNeighbor</th>\n",
       "      <th>randomForest</th>\n",
       "    </tr>\n",
       "  </thead>\n",
       "  <tbody>\n",
       "    <tr>\n",
       "      <th>count</th>\n",
       "      <td>319846.000000</td>\n",
       "      <td>319846.000000</td>\n",
       "      <td>319846.000000</td>\n",
       "      <td>319846.000000</td>\n",
       "      <td>319846.000000</td>\n",
       "    </tr>\n",
       "    <tr>\n",
       "      <th>mean</th>\n",
       "      <td>0.223826</td>\n",
       "      <td>0.038283</td>\n",
       "      <td>0.422066</td>\n",
       "      <td>0.017548</td>\n",
       "      <td>0.209955</td>\n",
       "    </tr>\n",
       "    <tr>\n",
       "      <th>std</th>\n",
       "      <td>0.131628</td>\n",
       "      <td>0.053007</td>\n",
       "      <td>0.163339</td>\n",
       "      <td>0.064883</td>\n",
       "      <td>0.124030</td>\n",
       "    </tr>\n",
       "    <tr>\n",
       "      <th>min</th>\n",
       "      <td>0.000000</td>\n",
       "      <td>0.000310</td>\n",
       "      <td>0.200918</td>\n",
       "      <td>0.000000</td>\n",
       "      <td>0.000000</td>\n",
       "    </tr>\n",
       "    <tr>\n",
       "      <th>25%</th>\n",
       "      <td>0.121425</td>\n",
       "      <td>0.012868</td>\n",
       "      <td>0.306455</td>\n",
       "      <td>0.000000</td>\n",
       "      <td>0.118028</td>\n",
       "    </tr>\n",
       "    <tr>\n",
       "      <th>50%</th>\n",
       "      <td>0.211195</td>\n",
       "      <td>0.022694</td>\n",
       "      <td>0.398086</td>\n",
       "      <td>0.000000</td>\n",
       "      <td>0.202674</td>\n",
       "    </tr>\n",
       "    <tr>\n",
       "      <th>75%</th>\n",
       "      <td>0.301121</td>\n",
       "      <td>0.040495</td>\n",
       "      <td>0.493925</td>\n",
       "      <td>0.000000</td>\n",
       "      <td>0.292964</td>\n",
       "    </tr>\n",
       "    <tr>\n",
       "      <th>max</th>\n",
       "      <td>0.909721</td>\n",
       "      <td>0.868075</td>\n",
       "      <td>1.000000</td>\n",
       "      <td>1.000000</td>\n",
       "      <td>0.882420</td>\n",
       "    </tr>\n",
       "  </tbody>\n",
       "</table>\n",
       "</div>"
      ],
      "text/plain": [
       "           extraTree      neuralNet  logisticRegression  nearestNeighbor  \\\n",
       "count  319846.000000  319846.000000       319846.000000    319846.000000   \n",
       "mean        0.223826       0.038283            0.422066         0.017548   \n",
       "std         0.131628       0.053007            0.163339         0.064883   \n",
       "min         0.000000       0.000310            0.200918         0.000000   \n",
       "25%         0.121425       0.012868            0.306455         0.000000   \n",
       "50%         0.211195       0.022694            0.398086         0.000000   \n",
       "75%         0.301121       0.040495            0.493925         0.000000   \n",
       "max         0.909721       0.868075            1.000000         1.000000   \n",
       "\n",
       "        randomForest  \n",
       "count  319846.000000  \n",
       "mean        0.209955  \n",
       "std         0.124030  \n",
       "min         0.000000  \n",
       "25%         0.118028  \n",
       "50%         0.202674  \n",
       "75%         0.292964  \n",
       "max         0.882420  "
      ]
     },
     "execution_count": 295,
     "metadata": {},
     "output_type": "execute_result"
    }
   ],
   "source": [
    "algoDF.head(10)"
   ]
  },
  {
   "cell_type": "code",
   "execution_count": 296,
   "metadata": {},
   "outputs": [],
   "source": [
    "from sklearn.metrics import accuracy_score, f1_score, precision_score, recall_score, classification_report, confusion_matrix\n",
    "def plot_confusion_matrix(df_confusion, title='Confusion matrix', cmap=pyplot.cm.inferno_r):\n",
    "    pyplot.matshow(df_confusion, cmap=cmap) # imshow\n",
    "    #plt.title(title)\n",
    "    pyplot.colorbar()\n",
    "    tick_marks = np.arange(len(df_confusion.columns))\n",
    "    pyplot.xticks(tick_marks, df_confusion.columns, rotation=45)\n",
    "    pyplot.yticks(tick_marks, df_confusion.index)\n",
    "    #plt.tight_layout()\n",
    "    pyplot.ylabel(df_confusion.index.name)\n",
    "    pyplot.xlabel(df_confusion.columns.name)\n"
   ]
  },
  {
   "cell_type": "code",
   "execution_count": 298,
   "metadata": {},
   "outputs": [],
   "source": [
    "## extraTree\n",
    "y_actu = pd.Series(mlDF.extraTree, name='Actual')\n",
    "y_pred = pd.Series(mlDF.response, name='Predicted')\n",
    "#df_confusion = pd.crosstab(y_actu, y_pred)"
   ]
  },
  {
   "cell_type": "code",
   "execution_count": 299,
   "metadata": {},
   "outputs": [],
   "source": [
    "## Threshold =  .4\n",
    "y_actu[y_actu > 0.4] = 1\n",
    "y_actu[y_actu <= 0.4] = 0"
   ]
  },
  {
   "cell_type": "code",
   "execution_count": 300,
   "metadata": {},
   "outputs": [],
   "source": [
    "df_confusion = pd.crosstab(y_actu, y_pred, rownames=['Actual'], colnames=['Predicted'], margins=True)"
   ]
  },
  {
   "cell_type": "code",
   "execution_count": 301,
   "metadata": {},
   "outputs": [
    {
     "data": {
      "text/html": [
       "<div>\n",
       "<style scoped>\n",
       "    .dataframe tbody tr th:only-of-type {\n",
       "        vertical-align: middle;\n",
       "    }\n",
       "\n",
       "    .dataframe tbody tr th {\n",
       "        vertical-align: top;\n",
       "    }\n",
       "\n",
       "    .dataframe thead th {\n",
       "        text-align: right;\n",
       "    }\n",
       "</style>\n",
       "<table border=\"1\" class=\"dataframe\">\n",
       "  <thead>\n",
       "    <tr style=\"text-align: right;\">\n",
       "      <th>Predicted</th>\n",
       "      <th>0</th>\n",
       "      <th>1</th>\n",
       "      <th>All</th>\n",
       "    </tr>\n",
       "    <tr>\n",
       "      <th>Actual</th>\n",
       "      <th></th>\n",
       "      <th></th>\n",
       "      <th></th>\n",
       "    </tr>\n",
       "  </thead>\n",
       "  <tbody>\n",
       "    <tr>\n",
       "      <th>0.0</th>\n",
       "      <td>273830</td>\n",
       "      <td>13061</td>\n",
       "      <td>286891</td>\n",
       "    </tr>\n",
       "    <tr>\n",
       "      <th>1.0</th>\n",
       "      <td>29763</td>\n",
       "      <td>3192</td>\n",
       "      <td>32955</td>\n",
       "    </tr>\n",
       "    <tr>\n",
       "      <th>All</th>\n",
       "      <td>303593</td>\n",
       "      <td>16253</td>\n",
       "      <td>319846</td>\n",
       "    </tr>\n",
       "  </tbody>\n",
       "</table>\n",
       "</div>"
      ],
      "text/plain": [
       "Predicted       0      1     All\n",
       "Actual                          \n",
       "0.0        273830  13061  286891\n",
       "1.0         29763   3192   32955\n",
       "All        303593  16253  319846"
      ]
     },
     "execution_count": 301,
     "metadata": {},
     "output_type": "execute_result"
    }
   ],
   "source": [
    "df_confusion"
   ]
  },
  {
   "cell_type": "code",
   "execution_count": 302,
   "metadata": {},
   "outputs": [
    {
     "name": "stdout",
     "output_type": "stream",
     "text": [
      "0.5286057227460614\n"
     ]
    }
   ],
   "source": [
    "## Extra Tree F1\n",
    "print(f1_score(y_actu, y_pred, average=\"macro\"))"
   ]
  },
  {
   "cell_type": "code",
   "execution_count": 303,
   "metadata": {},
   "outputs": [
    {
     "data": {
      "text/html": [
       "<div>\n",
       "<style scoped>\n",
       "    .dataframe tbody tr th:only-of-type {\n",
       "        vertical-align: middle;\n",
       "    }\n",
       "\n",
       "    .dataframe tbody tr th {\n",
       "        vertical-align: top;\n",
       "    }\n",
       "\n",
       "    .dataframe thead th {\n",
       "        text-align: right;\n",
       "    }\n",
       "</style>\n",
       "<table border=\"1\" class=\"dataframe\">\n",
       "  <thead>\n",
       "    <tr style=\"text-align: right;\">\n",
       "      <th>Predicted</th>\n",
       "      <th>0</th>\n",
       "      <th>1</th>\n",
       "      <th>All</th>\n",
       "    </tr>\n",
       "    <tr>\n",
       "      <th>Actual</th>\n",
       "      <th></th>\n",
       "      <th></th>\n",
       "      <th></th>\n",
       "    </tr>\n",
       "  </thead>\n",
       "  <tbody>\n",
       "    <tr>\n",
       "      <th>0.0</th>\n",
       "      <td>302897</td>\n",
       "      <td>15667</td>\n",
       "      <td>318564</td>\n",
       "    </tr>\n",
       "    <tr>\n",
       "      <th>1.0</th>\n",
       "      <td>696</td>\n",
       "      <td>586</td>\n",
       "      <td>1282</td>\n",
       "    </tr>\n",
       "    <tr>\n",
       "      <th>All</th>\n",
       "      <td>303593</td>\n",
       "      <td>16253</td>\n",
       "      <td>319846</td>\n",
       "    </tr>\n",
       "  </tbody>\n",
       "</table>\n",
       "</div>"
      ],
      "text/plain": [
       "Predicted       0      1     All\n",
       "Actual                          \n",
       "0.0        302897  15667  318564\n",
       "1.0           696    586    1282\n",
       "All        303593  16253  319846"
      ]
     },
     "execution_count": 303,
     "metadata": {},
     "output_type": "execute_result"
    }
   ],
   "source": [
    "## neuralNet\n",
    "y_actu = pd.Series(mlDF.neuralNet, name='Actual')\n",
    "y_pred = pd.Series(mlDF.response, name='Predicted')\n",
    "## Threshold =  .4\n",
    "y_actu[y_actu > 0.4] = 1\n",
    "y_actu[y_actu <= 0.4] = 0\n",
    "df_confusion_net = pd.crosstab(y_actu, y_pred, rownames=['Actual'], colnames=['Predicted'], margins=True)\n",
    "df_confusion_net"
   ]
  },
  {
   "cell_type": "code",
   "execution_count": 304,
   "metadata": {},
   "outputs": [
    {
     "name": "stdout",
     "output_type": "stream",
     "text": [
      "0.5202686588223283\n"
     ]
    }
   ],
   "source": [
    "## NeuralNet F1\n",
    "print(f1_score(y_actu, y_pred, average=\"macro\"))"
   ]
  },
  {
   "cell_type": "code",
   "execution_count": 305,
   "metadata": {},
   "outputs": [
    {
     "data": {
      "text/html": [
       "<div>\n",
       "<style scoped>\n",
       "    .dataframe tbody tr th:only-of-type {\n",
       "        vertical-align: middle;\n",
       "    }\n",
       "\n",
       "    .dataframe tbody tr th {\n",
       "        vertical-align: top;\n",
       "    }\n",
       "\n",
       "    .dataframe thead th {\n",
       "        text-align: right;\n",
       "    }\n",
       "</style>\n",
       "<table border=\"1\" class=\"dataframe\">\n",
       "  <thead>\n",
       "    <tr style=\"text-align: right;\">\n",
       "      <th>Predicted</th>\n",
       "      <th>0</th>\n",
       "      <th>1</th>\n",
       "      <th>All</th>\n",
       "    </tr>\n",
       "    <tr>\n",
       "      <th>Actual</th>\n",
       "      <th></th>\n",
       "      <th></th>\n",
       "      <th></th>\n",
       "    </tr>\n",
       "  </thead>\n",
       "  <tbody>\n",
       "    <tr>\n",
       "      <th>0.0</th>\n",
       "      <td>157824</td>\n",
       "      <td>4199</td>\n",
       "      <td>162023</td>\n",
       "    </tr>\n",
       "    <tr>\n",
       "      <th>1.0</th>\n",
       "      <td>145769</td>\n",
       "      <td>12054</td>\n",
       "      <td>157823</td>\n",
       "    </tr>\n",
       "    <tr>\n",
       "      <th>All</th>\n",
       "      <td>303593</td>\n",
       "      <td>16253</td>\n",
       "      <td>319846</td>\n",
       "    </tr>\n",
       "  </tbody>\n",
       "</table>\n",
       "</div>"
      ],
      "text/plain": [
       "Predicted       0      1     All\n",
       "Actual                          \n",
       "0.0        157824   4199  162023\n",
       "1.0        145769  12054  157823\n",
       "All        303593  16253  319846"
      ]
     },
     "execution_count": 305,
     "metadata": {},
     "output_type": "execute_result"
    }
   ],
   "source": [
    "## logisticRegression\n",
    "y_actu = pd.Series(mlDF.logisticRegression, name='Actual')\n",
    "y_pred = pd.Series(mlDF.response, name='Predicted')\n",
    "## Threshold =  .4\n",
    "y_actu[y_actu > 0.4] = 1\n",
    "y_actu[y_actu <= 0.4] = 0\n",
    "df_confusion_log = pd.crosstab(y_actu, y_pred, rownames=['Actual'], colnames=['Predicted'], margins=True)\n",
    "df_confusion_log"
   ]
  },
  {
   "cell_type": "code",
   "execution_count": 306,
   "metadata": {},
   "outputs": [
    {
     "name": "stdout",
     "output_type": "stream",
     "text": [
      "0.4082030410005052\n"
     ]
    }
   ],
   "source": [
    "## Logistic F1\n",
    "print(f1_score(y_actu, y_pred, average=\"macro\"))"
   ]
  },
  {
   "cell_type": "code",
   "execution_count": 307,
   "metadata": {},
   "outputs": [
    {
     "data": {
      "text/html": [
       "<div>\n",
       "<style scoped>\n",
       "    .dataframe tbody tr th:only-of-type {\n",
       "        vertical-align: middle;\n",
       "    }\n",
       "\n",
       "    .dataframe tbody tr th {\n",
       "        vertical-align: top;\n",
       "    }\n",
       "\n",
       "    .dataframe thead th {\n",
       "        text-align: right;\n",
       "    }\n",
       "</style>\n",
       "<table border=\"1\" class=\"dataframe\">\n",
       "  <thead>\n",
       "    <tr style=\"text-align: right;\">\n",
       "      <th>Predicted</th>\n",
       "      <th>0</th>\n",
       "      <th>1</th>\n",
       "      <th>All</th>\n",
       "    </tr>\n",
       "    <tr>\n",
       "      <th>Actual</th>\n",
       "      <th></th>\n",
       "      <th></th>\n",
       "      <th></th>\n",
       "    </tr>\n",
       "  </thead>\n",
       "  <tbody>\n",
       "    <tr>\n",
       "      <th>0.0</th>\n",
       "      <td>303164</td>\n",
       "      <td>16178</td>\n",
       "      <td>319342</td>\n",
       "    </tr>\n",
       "    <tr>\n",
       "      <th>1.0</th>\n",
       "      <td>429</td>\n",
       "      <td>75</td>\n",
       "      <td>504</td>\n",
       "    </tr>\n",
       "    <tr>\n",
       "      <th>All</th>\n",
       "      <td>303593</td>\n",
       "      <td>16253</td>\n",
       "      <td>319846</td>\n",
       "    </tr>\n",
       "  </tbody>\n",
       "</table>\n",
       "</div>"
      ],
      "text/plain": [
       "Predicted       0      1     All\n",
       "Actual                          \n",
       "0.0        303164  16178  319342\n",
       "1.0           429     75     504\n",
       "All        303593  16253  319846"
      ]
     },
     "execution_count": 307,
     "metadata": {},
     "output_type": "execute_result"
    }
   ],
   "source": [
    "## nearestNeighbor\n",
    "y_actu = pd.Series(mlDF.nearestNeighbor, name='Actual')\n",
    "y_pred = pd.Series(mlDF.response, name='Predicted')\n",
    "## Threshold =  .4\n",
    "y_actu[y_actu > 0.4] = 1\n",
    "y_actu[y_actu <= 0.4] = 0\n",
    "df_confusion_NN = pd.crosstab(y_actu, y_pred, rownames=['Actual'], colnames=['Predicted'], margins=True)\n",
    "df_confusion_NN"
   ]
  },
  {
   "cell_type": "code",
   "execution_count": 308,
   "metadata": {},
   "outputs": [
    {
     "name": "stdout",
     "output_type": "stream",
     "text": [
      "0.4911461003468643\n"
     ]
    }
   ],
   "source": [
    "## nearestNeighbor F1\n",
    "print(f1_score(y_actu, y_pred, average=\"macro\"))"
   ]
  },
  {
   "cell_type": "code",
   "execution_count": 309,
   "metadata": {},
   "outputs": [
    {
     "data": {
      "text/html": [
       "<div>\n",
       "<style scoped>\n",
       "    .dataframe tbody tr th:only-of-type {\n",
       "        vertical-align: middle;\n",
       "    }\n",
       "\n",
       "    .dataframe tbody tr th {\n",
       "        vertical-align: top;\n",
       "    }\n",
       "\n",
       "    .dataframe thead th {\n",
       "        text-align: right;\n",
       "    }\n",
       "</style>\n",
       "<table border=\"1\" class=\"dataframe\">\n",
       "  <thead>\n",
       "    <tr style=\"text-align: right;\">\n",
       "      <th>Predicted</th>\n",
       "      <th>0</th>\n",
       "      <th>1</th>\n",
       "      <th>All</th>\n",
       "    </tr>\n",
       "    <tr>\n",
       "      <th>Actual</th>\n",
       "      <th></th>\n",
       "      <th></th>\n",
       "      <th></th>\n",
       "    </tr>\n",
       "  </thead>\n",
       "  <tbody>\n",
       "    <tr>\n",
       "      <th>0.0</th>\n",
       "      <td>283000</td>\n",
       "      <td>13769</td>\n",
       "      <td>296769</td>\n",
       "    </tr>\n",
       "    <tr>\n",
       "      <th>1.0</th>\n",
       "      <td>20593</td>\n",
       "      <td>2484</td>\n",
       "      <td>23077</td>\n",
       "    </tr>\n",
       "    <tr>\n",
       "      <th>All</th>\n",
       "      <td>303593</td>\n",
       "      <td>16253</td>\n",
       "      <td>319846</td>\n",
       "    </tr>\n",
       "  </tbody>\n",
       "</table>\n",
       "</div>"
      ],
      "text/plain": [
       "Predicted       0      1     All\n",
       "Actual                          \n",
       "0.0        283000  13769  296769\n",
       "1.0         20593   2484   23077\n",
       "All        303593  16253  319846"
      ]
     },
     "execution_count": 309,
     "metadata": {},
     "output_type": "execute_result"
    }
   ],
   "source": [
    "## randomForest\n",
    "y_actu = pd.Series(mlDF.randomForest, name='Actual')\n",
    "y_pred = pd.Series(mlDF.response, name='Predicted')\n",
    "## Threshold =  .4\n",
    "y_actu[y_actu > 0.4] = 1\n",
    "y_actu[y_actu <= 0.4] = 0\n",
    "df_confusion_RM = pd.crosstab(y_actu, y_pred, rownames=['Actual'], colnames=['Predicted'], margins=True)\n",
    "df_confusion_RM"
   ]
  },
  {
   "cell_type": "code",
   "execution_count": 310,
   "metadata": {},
   "outputs": [
    {
     "name": "stdout",
     "output_type": "stream",
     "text": [
      "0.5345401607696689\n"
     ]
    }
   ],
   "source": [
    "## randomForest F1\n",
    "print(f1_score(y_actu, y_pred, average=\"macro\"))"
   ]
  },
  {
   "cell_type": "code",
   "execution_count": 311,
   "metadata": {},
   "outputs": [
    {
     "data": {
      "text/html": [
       "<div>\n",
       "<style scoped>\n",
       "    .dataframe tbody tr th:only-of-type {\n",
       "        vertical-align: middle;\n",
       "    }\n",
       "\n",
       "    .dataframe tbody tr th {\n",
       "        vertical-align: top;\n",
       "    }\n",
       "\n",
       "    .dataframe thead th {\n",
       "        text-align: right;\n",
       "    }\n",
       "</style>\n",
       "<table border=\"1\" class=\"dataframe\">\n",
       "  <thead>\n",
       "    <tr style=\"text-align: right;\">\n",
       "      <th>Predicted</th>\n",
       "      <th>0</th>\n",
       "      <th>1</th>\n",
       "      <th>All</th>\n",
       "    </tr>\n",
       "    <tr>\n",
       "      <th>Actual</th>\n",
       "      <th></th>\n",
       "      <th></th>\n",
       "      <th></th>\n",
       "    </tr>\n",
       "  </thead>\n",
       "  <tbody>\n",
       "    <tr>\n",
       "      <th>0.0</th>\n",
       "      <td>299218</td>\n",
       "      <td>14601</td>\n",
       "      <td>313819</td>\n",
       "    </tr>\n",
       "    <tr>\n",
       "      <th>1.0</th>\n",
       "      <td>4375</td>\n",
       "      <td>1652</td>\n",
       "      <td>6027</td>\n",
       "    </tr>\n",
       "    <tr>\n",
       "      <th>All</th>\n",
       "      <td>303593</td>\n",
       "      <td>16253</td>\n",
       "      <td>319846</td>\n",
       "    </tr>\n",
       "  </tbody>\n",
       "</table>\n",
       "</div>"
      ],
      "text/plain": [
       "Predicted       0      1     All\n",
       "Actual                          \n",
       "0.0        299218  14601  313819\n",
       "1.0          4375   1652    6027\n",
       "All        303593  16253  319846"
      ]
     },
     "execution_count": 311,
     "metadata": {},
     "output_type": "execute_result"
    }
   ],
   "source": [
    "## Average\n",
    "y_actu = pd.Series(new_df3.score_y, name='Actual')\n",
    "y_pred = pd.Series(new_df3.response, name='Predicted')\n",
    "## Threshold =  .4\n",
    "y_actu[y_actu > 0.4] = 1\n",
    "y_actu[y_actu <= 0.4] = 0\n",
    "df_confusion_avg = pd.crosstab(y_actu, y_pred, rownames=['Actual'], colnames=['Predicted'], margins=True)\n",
    "df_confusion_avg\n"
   ]
  },
  {
   "cell_type": "code",
   "execution_count": 282,
   "metadata": {},
   "outputs": [
    {
     "data": {
      "image/png": "[encoded data removed]",
      "text/plain": [
       "<matplotlib.figure.Figure at 0x21b9fd71ba8>"
      ]
     },
     "metadata": {},
     "output_type": "display_data"
    }
   ],
   "source": [
    "plot_confusion_matrix(df_confusion_avg)"
   ]
  },
  {
   "cell_type": "markdown",
   "metadata": {},
   "source": [
    "Key Findings:\n",
    "    \n",
    "    1. k-NN algorithm negatively impacts the prediction in the top 30 decile\n",
    "    2. Logistic Regression has high recall and low precision\n",
    "    3. Stacking of ML algorithm, still the best overall option as it has the best F1 score\n",
    "    4. Removing k-NN from the ML stack might help in optimizing the overall predictions."
   ]
  }
 ],
 "metadata": {
  "kernelspec": {
   "display_name": "Python 3",
   "language": "python",
   "name": "python3"
  },
  "language_info": {
   "codemirror_mode": {
    "name": "ipython",
    "version": 3
   },
   "file_extension": ".py",
   "mimetype": "text/x-python",
   "name": "python",
   "nbconvert_exporter": "python",
   "pygments_lexer": "ipython3",
   "version": "3.5.2"
  }
 },
 "nbformat": 4,
 "nbformat_minor": 2
}
