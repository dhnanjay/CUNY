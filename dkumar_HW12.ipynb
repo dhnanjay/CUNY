{
 "cells": [
  {
   "cell_type": "code",
   "execution_count": 1,
   "metadata": {
    "collapsed": true
   },
   "outputs": [],
   "source": [
    "import csv\n",
    "import pandas as pd\n",
    "import numpy as np\n",
    "from pandas import Series\n",
    "import os\n",
    "import timeit\n",
    "import ipyparallel"
   ]
  },
  {
   "cell_type": "code",
   "execution_count": 2,
   "metadata": {},
   "outputs": [
    {
     "data": {
      "text/html": [
       "<div>\n",
       "<style>\n",
       "    .dataframe thead tr:only-child th {\n",
       "        text-align: right;\n",
       "    }\n",
       "\n",
       "    .dataframe thead th {\n",
       "        text-align: left;\n",
       "    }\n",
       "\n",
       "    .dataframe tbody tr th {\n",
       "        vertical-align: top;\n",
       "    }\n",
       "</style>\n",
       "<table border=\"1\" class=\"dataframe\">\n",
       "  <thead>\n",
       "    <tr style=\"text-align: right;\">\n",
       "      <th></th>\n",
       "      <th>Date</th>\n",
       "      <th>Price</th>\n",
       "      <th>Daily_change</th>\n",
       "    </tr>\n",
       "  </thead>\n",
       "  <tbody>\n",
       "    <tr>\n",
       "      <th>0</th>\n",
       "      <td>1/3/2011</td>\n",
       "      <td>329.57</td>\n",
       "      <td>XXXXX</td>\n",
       "    </tr>\n",
       "    <tr>\n",
       "      <th>1</th>\n",
       "      <td>1/4/2011</td>\n",
       "      <td>331.29</td>\n",
       "      <td>0.005218922</td>\n",
       "    </tr>\n",
       "    <tr>\n",
       "      <th>2</th>\n",
       "      <td>1/5/2011</td>\n",
       "      <td>334.00</td>\n",
       "      <td>0.008180144</td>\n",
       "    </tr>\n",
       "    <tr>\n",
       "      <th>3</th>\n",
       "      <td>1/6/2011</td>\n",
       "      <td>333.73</td>\n",
       "      <td>-0.000808383</td>\n",
       "    </tr>\n",
       "    <tr>\n",
       "      <th>4</th>\n",
       "      <td>1/7/2011</td>\n",
       "      <td>336.12</td>\n",
       "      <td>0.007161478</td>\n",
       "    </tr>\n",
       "  </tbody>\n",
       "</table>\n",
       "</div>"
      ],
      "text/plain": [
       "       Date   Price  Daily_change\n",
       "0  1/3/2011  329.57         XXXXX\n",
       "1  1/4/2011  331.29   0.005218922\n",
       "2  1/5/2011  334.00   0.008180144\n",
       "3  1/6/2011  333.73  -0.000808383\n",
       "4  1/7/2011  336.12   0.007161478"
      ]
     },
     "execution_count": 2,
     "metadata": {},
     "output_type": "execute_result"
    }
   ],
   "source": [
    "aStock = pd.read_csv('apple.2011.csv')\n",
    "aStock.columns = ['Date','Price','Daily_change'] # Daily_change in Percentage\n",
    "# Print Content\n",
    "aStock.head()"
   ]
  },
  {
   "cell_type": "code",
   "execution_count": 3,
   "metadata": {},
   "outputs": [
    {
     "name": "stdout",
     "output_type": "stream",
     "text": [
      "(252, 3)\n"
     ]
    }
   ],
   "source": [
    "# Print dimension\n",
    "print aStock.shape"
   ]
  },
  {
   "cell_type": "code",
   "execution_count": 4,
   "metadata": {},
   "outputs": [
    {
     "data": {
      "text/plain": [
       "(0.00095735520717131495, 0.016487613979893453)"
      ]
     },
     "execution_count": 4,
     "metadata": {},
     "output_type": "execute_result"
    }
   ],
   "source": [
    "p = Series(aStock['Daily_change'][1:],dtype=float) # Ignore Header [1:]\n",
    "mu, sigma = np.mean(p), np.std(p)\n",
    "mu, sigma"
   ]
  },
  {
   "cell_type": "code",
   "execution_count": 5,
   "metadata": {},
   "outputs": [
    {
     "name": "stdout",
     "output_type": "stream",
     "text": [
      "346.076110394\n"
     ]
    }
   ],
   "source": [
    "# Monte Carlo Method\n",
    "\n",
    "f_price = []\n",
    "for i in range(0,10000): # Run simulation 10000 times\n",
    "    l_price = aStock['Price'][251] # Ignore header, hence 251\n",
    "    diff_20 = np.random.normal(mu, sigma, 20)\n",
    "    next_20 = [] \n",
    "    for e in diff_20:\n",
    "        l_price = l_price + l_price * e # Notation as shared by David Stern\n",
    "        next_20.append(l_price)\n",
    "    f_price.append(next_20[19])\n",
    "\n",
    "print np.percentile(f_price,1)"
   ]
  },
  {
   "cell_type": "markdown",
   "metadata": {},
   "source": [
    "Timing the above Monte Carlo method using timeit"
   ]
  },
  {
   "cell_type": "code",
   "execution_count": 6,
   "metadata": {},
   "outputs": [
    {
     "name": "stdout",
     "output_type": "stream",
     "text": [
      "10000000 loops, best of 3: 21.3 ns per loop\n",
      "345.87685364\n"
     ]
    }
   ],
   "source": [
    "%timeit diff_20\n",
    "f_price = []\n",
    "for i in range(0,10000):\n",
    "    l_price = aStock['Price'][251] \n",
    "    diff_20 = np.random.normal(mu, sigma, 20)\n",
    "    next_20 = [] \n",
    "    for e in diff_20:\n",
    "        l_price = l_price + l_price * e # Notation as shared by David Stern\n",
    "        next_20.append(l_price)\n",
    "    f_price.append(next_20[19])\n",
    "\n",
    "print np.percentile(f_price,1)"
   ]
  },
  {
   "cell_type": "code",
   "execution_count": 7,
   "metadata": {
    "collapsed": true
   },
   "outputs": [],
   "source": [
    "from ipyparallel import Client\n",
    "c = Client()\n",
    "clients = ipyparallel.Client()\n",
    "dview = clients.direct_view()"
   ]
  },
  {
   "cell_type": "code",
   "execution_count": 8,
   "metadata": {
    "collapsed": true
   },
   "outputs": [],
   "source": [
    "%%px \n",
    "import csv\n",
    "import pandas as pd\n",
    "import numpy as np\n",
    "from pandas import Series\n",
    "import os\n",
    "import timeit\n",
    "import ipyparallel\n",
    "\n",
    "aStock = pd.read_csv('apple.2011.csv')\n",
    "aStock.columns = ['Date','Price','Daily_change'] # Daily_change in Percentage\n",
    "\n",
    "# Analysis from HW11\n",
    "p = Series(aStock['Daily_change'][1:],dtype=float) # Ignore Header [1:]\n",
    "mu, sigma = np.mean(p), np.std(p)\n",
    "mu, sigma\n",
    "\n",
    "# the parallel part\n",
    "clients = ipyparallel.Client()\n",
    "dview = clients.direct_view()\n",
    "\n",
    "def rand20(mean,std):\n",
    "    import random\n",
    "    randomlist = []\n",
    "    for i in range(0,20):\n",
    "         randomlist.append(random.gauss(mean,std))\n",
    "    return randomlist"
   ]
  },
  {
   "cell_type": "code",
   "execution_count": 9,
   "metadata": {},
   "outputs": [
    {
     "data": {
      "text/plain": [
       "[0, 1, 2, 3]"
      ]
     },
     "execution_count": 9,
     "metadata": {},
     "output_type": "execute_result"
    }
   ],
   "source": [
    "# How many cluster ? 4\n",
    "c.ids"
   ]
  },
  {
   "cell_type": "code",
   "execution_count": 10,
   "metadata": {},
   "outputs": [
    {
     "name": "stdout",
     "output_type": "stream",
     "text": [
      "[stdout:0] \n",
      "The slowest run took 48.24 times longer than the fastest. This could mean that an intermediate result is being cached.\n",
      "10000000 loops, best of 3: 21.5 ns per loop\n",
      "347.611259525\n",
      "[stdout:1] \n",
      "10000000 loops, best of 3: 22 ns per loop\n",
      "346.688363322\n",
      "[stdout:2] \n",
      "10000000 loops, best of 3: 22.1 ns per loop\n",
      "348.309032024\n",
      "[stdout:3] \n",
      "The slowest run took 87.90 times longer than the fastest. This could mean that an intermediate result is being cached.\n",
      "10000000 loops, best of 3: 21.7 ns per loop\n",
      "346.983123799\n"
     ]
    }
   ],
   "source": [
    "%%px \n",
    "f_price = []\n",
    "diff_20 = []\n",
    "\n",
    "%timeit diff_20\n",
    "for i in range(0,10000):\n",
    "    l_price = aStock['Price'][251] \n",
    "    diff_20 = np.random.normal(mu, sigma, 20)\n",
    "    next_20 = [] \n",
    "    for e in diff_20:\n",
    "        l_price = l_price + l_price * e \n",
    "        next_20.append(l_price)\n",
    "    f_price.append(next_20[19])\n",
    "\n",
    "print np.percentile(f_price,1)"
   ]
  },
  {
   "cell_type": "code",
   "execution_count": null,
   "metadata": {
    "collapsed": true
   },
   "outputs": [],
   "source": []
  }
 ],
 "metadata": {
  "kernelspec": {
   "display_name": "Python 2",
   "language": "python",
   "name": "python2"
  },
  "language_info": {
   "codemirror_mode": {
    "name": "ipython",
    "version": 2
   },
   "file_extension": ".py",
   "mimetype": "text/x-python",
   "name": "python",
   "nbconvert_exporter": "python",
   "pygments_lexer": "ipython2",
   "version": "2.7.10"
  }
 },
 "nbformat": 4,
 "nbformat_minor": 1
}
