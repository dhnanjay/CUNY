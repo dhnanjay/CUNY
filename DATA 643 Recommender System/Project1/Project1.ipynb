{
 "cells": [
  {
   "cell_type": "markdown",
   "metadata": {},
   "source": [
    "# DATA 643 Project 1 | Global Baseline Predictors and RMSE"
   ]
  },
  {
   "cell_type": "raw",
   "metadata": {},
   "source": [
    "<script>\n",
    "  function code_toggle() {\n",
    "    if (code_shown){\n",
    "      $('div.input').hide('500');\n",
    "      $('#toggleButton').val('Show Code')\n",
    "    } else {\n",
    "      $('div.input').show('500');\n",
    "      $('#toggleButton').val('Hide Code')\n",
    "    }\n",
    "    code_shown = !code_shown\n",
    "  }\n",
    "\n",
    "  $( document ).ready(function(){\n",
    "    code_shown=false;\n",
    "    $('div.input').hide()\n",
    "  });\n",
    "</script>\n",
    "<form action=\"javascript:code_toggle()\"><input type=\"submit\" id=\"toggleButton\" value=\"Show Code\"></form>"
   ]
  },
  {
   "cell_type": "markdown",
   "metadata": {},
   "source": [
    "In this project I am trying to use Recommender system based on Root Mean Square Error (RMSE). I have intentionally choosen an ultra small dataset so that the calculation can be understood easily. For better understanding, please refer to the following youtube playlist: [Netflix_V2](https://www.youtube.com/playlist?list=PLuKhJYywjDe96T2L0-zXFU5Up2jqXlWI9), courtesy Network20Q."
   ]
  },
  {
   "cell_type": "code",
   "execution_count": 245,
   "metadata": {
    "collapsed": true
   },
   "outputs": [],
   "source": [
    "import pandas as pd\n",
    "import numpy as np\n",
    "from math import sqrt\n",
    "\n",
    "ratings_df = pd.read_csv(\"userratings.csv\")\n",
    "movies_df = pd.read_csv(\"movies.csv\")\n",
    "movies_df['MovieID'] = movies_df['MovieID'].apply(pd.to_numeric)"
   ]
  },
  {
   "cell_type": "markdown",
   "metadata": {},
   "source": [
    "### Load Movie Data\n",
    "\n",
    "Here we have 5 movies for which we have unique Movie IDs"
   ]
  },
  {
   "cell_type": "code",
   "execution_count": 246,
   "metadata": {},
   "outputs": [
    {
     "data": {
      "text/html": [
       "<div>\n",
       "<style>\n",
       "    .dataframe thead tr:only-child th {\n",
       "        text-align: right;\n",
       "    }\n",
       "\n",
       "    .dataframe thead th {\n",
       "        text-align: left;\n",
       "    }\n",
       "\n",
       "    .dataframe tbody tr th {\n",
       "        vertical-align: top;\n",
       "    }\n",
       "</style>\n",
       "<table border=\"1\" class=\"dataframe\">\n",
       "  <thead>\n",
       "    <tr style=\"text-align: right;\">\n",
       "      <th></th>\n",
       "      <th>MovieID</th>\n",
       "      <th>Title</th>\n",
       "      <th>Genres</th>\n",
       "    </tr>\n",
       "  </thead>\n",
       "  <tbody>\n",
       "    <tr>\n",
       "      <th>0</th>\n",
       "      <td>1</td>\n",
       "      <td>Titanic</td>\n",
       "      <td>Romance</td>\n",
       "    </tr>\n",
       "    <tr>\n",
       "      <th>1</th>\n",
       "      <td>2</td>\n",
       "      <td>Inception</td>\n",
       "      <td>Thriller</td>\n",
       "    </tr>\n",
       "    <tr>\n",
       "      <th>2</th>\n",
       "      <td>3</td>\n",
       "      <td>Toy Story</td>\n",
       "      <td>Animaton</td>\n",
       "    </tr>\n",
       "    <tr>\n",
       "      <th>3</th>\n",
       "      <td>4</td>\n",
       "      <td>Jumanji</td>\n",
       "      <td>Comedy</td>\n",
       "    </tr>\n",
       "    <tr>\n",
       "      <th>4</th>\n",
       "      <td>5</td>\n",
       "      <td>Pink Panther</td>\n",
       "      <td>Comedy</td>\n",
       "    </tr>\n",
       "  </tbody>\n",
       "</table>\n",
       "</div>"
      ],
      "text/plain": [
       "   MovieID         Title    Genres\n",
       "0        1       Titanic   Romance\n",
       "1        2     Inception  Thriller\n",
       "2        3     Toy Story  Animaton\n",
       "3        4       Jumanji    Comedy\n",
       "4        5  Pink Panther    Comedy"
      ]
     },
     "execution_count": 246,
     "metadata": {},
     "output_type": "execute_result"
    }
   ],
   "source": [
    "movies_df.head()"
   ]
  },
  {
   "cell_type": "markdown",
   "metadata": {},
   "source": [
    "### Load User Ratings\n",
    "\n",
    "The first 10 users with their respective movie ratings. The MovieID is the key to connect User Ratings with Movie data."
   ]
  },
  {
   "cell_type": "code",
   "execution_count": 247,
   "metadata": {},
   "outputs": [
    {
     "data": {
      "text/html": [
       "<div>\n",
       "<style>\n",
       "    .dataframe thead tr:only-child th {\n",
       "        text-align: right;\n",
       "    }\n",
       "\n",
       "    .dataframe thead th {\n",
       "        text-align: left;\n",
       "    }\n",
       "\n",
       "    .dataframe tbody tr th {\n",
       "        vertical-align: top;\n",
       "    }\n",
       "</style>\n",
       "<table border=\"1\" class=\"dataframe\">\n",
       "  <thead>\n",
       "    <tr style=\"text-align: right;\">\n",
       "      <th></th>\n",
       "      <th>UserID</th>\n",
       "      <th>MovieID</th>\n",
       "      <th>Rating</th>\n",
       "    </tr>\n",
       "  </thead>\n",
       "  <tbody>\n",
       "    <tr>\n",
       "      <th>0</th>\n",
       "      <td>A</td>\n",
       "      <td>1</td>\n",
       "      <td>5</td>\n",
       "    </tr>\n",
       "    <tr>\n",
       "      <th>1</th>\n",
       "      <td>A</td>\n",
       "      <td>3</td>\n",
       "      <td>4</td>\n",
       "    </tr>\n",
       "    <tr>\n",
       "      <th>2</th>\n",
       "      <td>A</td>\n",
       "      <td>5</td>\n",
       "      <td>4</td>\n",
       "    </tr>\n",
       "    <tr>\n",
       "      <th>3</th>\n",
       "      <td>B</td>\n",
       "      <td>1</td>\n",
       "      <td>4</td>\n",
       "    </tr>\n",
       "    <tr>\n",
       "      <th>4</th>\n",
       "      <td>B</td>\n",
       "      <td>2</td>\n",
       "      <td>3</td>\n",
       "    </tr>\n",
       "    <tr>\n",
       "      <th>5</th>\n",
       "      <td>B</td>\n",
       "      <td>3</td>\n",
       "      <td>5</td>\n",
       "    </tr>\n",
       "    <tr>\n",
       "      <th>6</th>\n",
       "      <td>B</td>\n",
       "      <td>4</td>\n",
       "      <td>3</td>\n",
       "    </tr>\n",
       "    <tr>\n",
       "      <th>7</th>\n",
       "      <td>B</td>\n",
       "      <td>5</td>\n",
       "      <td>4</td>\n",
       "    </tr>\n",
       "    <tr>\n",
       "      <th>8</th>\n",
       "      <td>C</td>\n",
       "      <td>1</td>\n",
       "      <td>4</td>\n",
       "    </tr>\n",
       "    <tr>\n",
       "      <th>9</th>\n",
       "      <td>C</td>\n",
       "      <td>2</td>\n",
       "      <td>2</td>\n",
       "    </tr>\n",
       "  </tbody>\n",
       "</table>\n",
       "</div>"
      ],
      "text/plain": [
       "  UserID  MovieID  Rating\n",
       "0      A        1       5\n",
       "1      A        3       4\n",
       "2      A        5       4\n",
       "3      B        1       4\n",
       "4      B        2       3\n",
       "5      B        3       5\n",
       "6      B        4       3\n",
       "7      B        5       4\n",
       "8      C        1       4\n",
       "9      C        2       2"
      ]
     },
     "execution_count": 247,
     "metadata": {},
     "output_type": "execute_result"
    }
   ],
   "source": [
    "ratings_df.head(10)"
   ]
  },
  {
   "cell_type": "markdown",
   "metadata": {},
   "source": [
    "### User-Movie Rating Matrix\n",
    "\n",
    "Below displayed is the User-Movie Rating Matrix which shows user ratings for respective movies. This is the overall data we have. This data is the superset of Test and Training data. \n",
    "\n",
    "Youtube: [PartJ: Main Ideas](https://youtu.be/KbOcvEVNTp0?list=PLuKhJYywjDe96T2L0-zXFU5Up2jqXlWI9), courtesy Network20Q. "
   ]
  },
  {
   "cell_type": "code",
   "execution_count": 248,
   "metadata": {},
   "outputs": [
    {
     "data": {
      "text/html": [
       "<div>\n",
       "<style>\n",
       "    .dataframe thead tr:only-child th {\n",
       "        text-align: right;\n",
       "    }\n",
       "\n",
       "    .dataframe thead th {\n",
       "        text-align: left;\n",
       "    }\n",
       "\n",
       "    .dataframe tbody tr th {\n",
       "        vertical-align: top;\n",
       "    }\n",
       "</style>\n",
       "<table border=\"1\" class=\"dataframe\">\n",
       "  <thead>\n",
       "    <tr style=\"text-align: right;\">\n",
       "      <th>MovieID</th>\n",
       "      <th>1</th>\n",
       "      <th>2</th>\n",
       "      <th>3</th>\n",
       "      <th>4</th>\n",
       "      <th>5</th>\n",
       "    </tr>\n",
       "    <tr>\n",
       "      <th>UserID</th>\n",
       "      <th></th>\n",
       "      <th></th>\n",
       "      <th></th>\n",
       "      <th></th>\n",
       "      <th></th>\n",
       "    </tr>\n",
       "  </thead>\n",
       "  <tbody>\n",
       "    <tr>\n",
       "      <th>A</th>\n",
       "      <td>5.0</td>\n",
       "      <td>?</td>\n",
       "      <td>4</td>\n",
       "      <td>?</td>\n",
       "      <td>4.0</td>\n",
       "    </tr>\n",
       "    <tr>\n",
       "      <th>B</th>\n",
       "      <td>4.0</td>\n",
       "      <td>3</td>\n",
       "      <td>5</td>\n",
       "      <td>3</td>\n",
       "      <td>4.0</td>\n",
       "    </tr>\n",
       "    <tr>\n",
       "      <th>C</th>\n",
       "      <td>4.0</td>\n",
       "      <td>2</td>\n",
       "      <td>?</td>\n",
       "      <td>?</td>\n",
       "      <td>3.0</td>\n",
       "    </tr>\n",
       "    <tr>\n",
       "      <th>D</th>\n",
       "      <td>2.0</td>\n",
       "      <td>2</td>\n",
       "      <td>3</td>\n",
       "      <td>1</td>\n",
       "      <td>2.0</td>\n",
       "    </tr>\n",
       "    <tr>\n",
       "      <th>E</th>\n",
       "      <td>4.0</td>\n",
       "      <td>?</td>\n",
       "      <td>5</td>\n",
       "      <td>4</td>\n",
       "      <td>5.0</td>\n",
       "    </tr>\n",
       "    <tr>\n",
       "      <th>F</th>\n",
       "      <td>4.0</td>\n",
       "      <td>2</td>\n",
       "      <td>5</td>\n",
       "      <td>4</td>\n",
       "      <td>4.0</td>\n",
       "    </tr>\n",
       "  </tbody>\n",
       "</table>\n",
       "</div>"
      ],
      "text/plain": [
       "MovieID    1  2  3  4    5\n",
       "UserID                    \n",
       "A        5.0  ?  4  ?  4.0\n",
       "B        4.0  3  5  3  4.0\n",
       "C        4.0  2  ?  ?  3.0\n",
       "D        2.0  2  3  1  2.0\n",
       "E        4.0  ?  5  4  5.0\n",
       "F        4.0  2  5  4  4.0"
      ]
     },
     "execution_count": 248,
     "metadata": {},
     "output_type": "execute_result"
    }
   ],
   "source": [
    "## Overall Raw Data in User-Movie Rating Matrix\n",
    "\n",
    "R_df = ratings_df.pivot(index = 'UserID', columns ='MovieID', values = 'Rating').fillna(0)\n",
    "R_df = R_df.replace(0, '?')\n",
    "R_df.head(6)"
   ]
  },
  {
   "cell_type": "markdown",
   "metadata": {},
   "source": [
    "### Load Training Data\n",
    "\n",
    "Lets load training data which would be used to train our prediction model. The question mark \"?\" is the missing data for which ratings are unavailable."
   ]
  },
  {
   "cell_type": "code",
   "execution_count": 249,
   "metadata": {},
   "outputs": [
    {
     "data": {
      "text/html": [
       "<div>\n",
       "<style>\n",
       "    .dataframe thead tr:only-child th {\n",
       "        text-align: right;\n",
       "    }\n",
       "\n",
       "    .dataframe thead th {\n",
       "        text-align: left;\n",
       "    }\n",
       "\n",
       "    .dataframe tbody tr th {\n",
       "        vertical-align: top;\n",
       "    }\n",
       "</style>\n",
       "<table border=\"1\" class=\"dataframe\">\n",
       "  <thead>\n",
       "    <tr style=\"text-align: right;\">\n",
       "      <th>MovieID</th>\n",
       "      <th>1</th>\n",
       "      <th>2</th>\n",
       "      <th>3</th>\n",
       "      <th>4</th>\n",
       "      <th>5</th>\n",
       "    </tr>\n",
       "    <tr>\n",
       "      <th>UserID</th>\n",
       "      <th></th>\n",
       "      <th></th>\n",
       "      <th></th>\n",
       "      <th></th>\n",
       "      <th></th>\n",
       "    </tr>\n",
       "  </thead>\n",
       "  <tbody>\n",
       "    <tr>\n",
       "      <th>A</th>\n",
       "      <td>5</td>\n",
       "      <td>?</td>\n",
       "      <td>4</td>\n",
       "      <td>?</td>\n",
       "      <td>4</td>\n",
       "    </tr>\n",
       "    <tr>\n",
       "      <th>B</th>\n",
       "      <td>4</td>\n",
       "      <td>3</td>\n",
       "      <td>5</td>\n",
       "      <td>?</td>\n",
       "      <td>4</td>\n",
       "    </tr>\n",
       "    <tr>\n",
       "      <th>C</th>\n",
       "      <td>?</td>\n",
       "      <td>2</td>\n",
       "      <td>?</td>\n",
       "      <td>?</td>\n",
       "      <td>3</td>\n",
       "    </tr>\n",
       "    <tr>\n",
       "      <th>D</th>\n",
       "      <td>2</td>\n",
       "      <td>?</td>\n",
       "      <td>3</td>\n",
       "      <td>1</td>\n",
       "      <td>2</td>\n",
       "    </tr>\n",
       "    <tr>\n",
       "      <th>E</th>\n",
       "      <td>4</td>\n",
       "      <td>?</td>\n",
       "      <td>?</td>\n",
       "      <td>4</td>\n",
       "      <td>5</td>\n",
       "    </tr>\n",
       "    <tr>\n",
       "      <th>F</th>\n",
       "      <td>4</td>\n",
       "      <td>2</td>\n",
       "      <td>5</td>\n",
       "      <td>4</td>\n",
       "      <td>?</td>\n",
       "    </tr>\n",
       "  </tbody>\n",
       "</table>\n",
       "</div>"
      ],
      "text/plain": [
       "MovieID  1  2  3  4  5\n",
       "UserID                \n",
       "A        5  ?  4  ?  4\n",
       "B        4  3  5  ?  4\n",
       "C        ?  2  ?  ?  3\n",
       "D        2  ?  3  1  2\n",
       "E        4  ?  ?  4  5\n",
       "F        4  2  5  4  ?"
      ]
     },
     "execution_count": 249,
     "metadata": {},
     "output_type": "execute_result"
    }
   ],
   "source": [
    "## Load Training Data - User-Movie Rating Matrix\n",
    "\n",
    "trainig_df = pd.read_csv(\"training_userratings.csv\")\n",
    "Tr_df = trainig_df.pivot(index = 'UserID', columns ='MovieID', values = 'Rating').fillna(0)\n",
    "Tr_df = Tr_df.replace(0, '?')\n",
    "Tr_df.head(6)"
   ]
  },
  {
   "cell_type": "markdown",
   "metadata": {},
   "source": [
    "### Load Test Data\n",
    "\n",
    "Similar to training data, lets load our test data. We can see our test data in the below User-Movie Rating Matrix. "
   ]
  },
  {
   "cell_type": "code",
   "execution_count": 250,
   "metadata": {},
   "outputs": [
    {
     "data": {
      "text/html": [
       "<div>\n",
       "<style>\n",
       "    .dataframe thead tr:only-child th {\n",
       "        text-align: right;\n",
       "    }\n",
       "\n",
       "    .dataframe thead th {\n",
       "        text-align: left;\n",
       "    }\n",
       "\n",
       "    .dataframe tbody tr th {\n",
       "        vertical-align: top;\n",
       "    }\n",
       "</style>\n",
       "<table border=\"1\" class=\"dataframe\">\n",
       "  <thead>\n",
       "    <tr style=\"text-align: right;\">\n",
       "      <th>MovieID</th>\n",
       "      <th>1</th>\n",
       "      <th>2</th>\n",
       "      <th>3</th>\n",
       "      <th>4</th>\n",
       "      <th>5</th>\n",
       "    </tr>\n",
       "    <tr>\n",
       "      <th>UserID</th>\n",
       "      <th></th>\n",
       "      <th></th>\n",
       "      <th></th>\n",
       "      <th></th>\n",
       "      <th></th>\n",
       "    </tr>\n",
       "  </thead>\n",
       "  <tbody>\n",
       "    <tr>\n",
       "      <th>B</th>\n",
       "      <td>?</td>\n",
       "      <td>?</td>\n",
       "      <td>?</td>\n",
       "      <td>3</td>\n",
       "      <td>?</td>\n",
       "    </tr>\n",
       "    <tr>\n",
       "      <th>C</th>\n",
       "      <td>4</td>\n",
       "      <td>?</td>\n",
       "      <td>?</td>\n",
       "      <td>?</td>\n",
       "      <td>?</td>\n",
       "    </tr>\n",
       "    <tr>\n",
       "      <th>D</th>\n",
       "      <td>?</td>\n",
       "      <td>2</td>\n",
       "      <td>?</td>\n",
       "      <td>?</td>\n",
       "      <td>?</td>\n",
       "    </tr>\n",
       "    <tr>\n",
       "      <th>E</th>\n",
       "      <td>?</td>\n",
       "      <td>?</td>\n",
       "      <td>5</td>\n",
       "      <td>?</td>\n",
       "      <td>?</td>\n",
       "    </tr>\n",
       "    <tr>\n",
       "      <th>F</th>\n",
       "      <td>?</td>\n",
       "      <td>?</td>\n",
       "      <td>?</td>\n",
       "      <td>?</td>\n",
       "      <td>4</td>\n",
       "    </tr>\n",
       "  </tbody>\n",
       "</table>\n",
       "</div>"
      ],
      "text/plain": [
       "MovieID  1  2  3  4  5\n",
       "UserID                \n",
       "B        ?  ?  ?  3  ?\n",
       "C        4  ?  ?  ?  ?\n",
       "D        ?  2  ?  ?  ?\n",
       "E        ?  ?  5  ?  ?\n",
       "F        ?  ?  ?  ?  4"
      ]
     },
     "execution_count": 250,
     "metadata": {},
     "output_type": "execute_result"
    }
   ],
   "source": [
    "## Load Test Data - User-Movie Rating Matrix\n",
    "\n",
    "test_df = pd.read_csv(\"test_userratings.csv\")\n",
    "Te_df = test_df.pivot(index = 'UserID', columns ='MovieID', values = 'Rating').fillna(0)\n",
    "Te_df = Te_df.replace(0, '?')\n",
    "Te_df.head(6)"
   ]
  },
  {
   "cell_type": "markdown",
   "metadata": {},
   "source": [
    "### Raw average : Training\n",
    "\n",
    "Below we are calculating the raw average of the training data and using this raw average we are creating another User-Rating Matrix which just shows the raw average of the movie ratings.\n",
    "\n",
    "Youtube: [PartK: Raw Average](https://youtu.be/0-o9VgOxe9Y?list=PLuKhJYywjDe96T2L0-zXFU5Up2jqXlWI9), courtesy Network20Q. "
   ]
  },
  {
   "cell_type": "code",
   "execution_count": 251,
   "metadata": {},
   "outputs": [
    {
     "name": "stdout",
     "output_type": "stream",
     "text": [
      "('Raw Average:', 3.5)\n"
     ]
    }
   ],
   "source": [
    "## Calculate Training Data Raw Average\n",
    "\n",
    "Tr_df = Tr_df.replace('?', np.NaN)\n",
    "tr_raw_avg = Tr_df.stack().mean()\n",
    "print(\"Raw Average:\",tr_raw_avg)"
   ]
  },
  {
   "cell_type": "code",
   "execution_count": 252,
   "metadata": {},
   "outputs": [],
   "source": [
    "## Calculate Test Data Raw Average\n",
    "\n",
    "Te_df = Te_df.replace('?', np.NaN)\n",
    "te_raw_avg = Te_df.stack().mean()\n"
   ]
  },
  {
   "cell_type": "code",
   "execution_count": 253,
   "metadata": {},
   "outputs": [
    {
     "data": {
      "text/html": [
       "<div>\n",
       "<style>\n",
       "    .dataframe thead tr:only-child th {\n",
       "        text-align: right;\n",
       "    }\n",
       "\n",
       "    .dataframe thead th {\n",
       "        text-align: left;\n",
       "    }\n",
       "\n",
       "    .dataframe tbody tr th {\n",
       "        vertical-align: top;\n",
       "    }\n",
       "</style>\n",
       "<table border=\"1\" class=\"dataframe\">\n",
       "  <thead>\n",
       "    <tr style=\"text-align: right;\">\n",
       "      <th>MovieID</th>\n",
       "      <th>1</th>\n",
       "      <th>2</th>\n",
       "      <th>3</th>\n",
       "      <th>4</th>\n",
       "      <th>5</th>\n",
       "    </tr>\n",
       "    <tr>\n",
       "      <th>UserID</th>\n",
       "      <th></th>\n",
       "      <th></th>\n",
       "      <th></th>\n",
       "      <th></th>\n",
       "      <th></th>\n",
       "    </tr>\n",
       "  </thead>\n",
       "  <tbody>\n",
       "    <tr>\n",
       "      <th>A</th>\n",
       "      <td>3.5</td>\n",
       "      <td>3.5</td>\n",
       "      <td>3.5</td>\n",
       "      <td>3.5</td>\n",
       "      <td>3.5</td>\n",
       "    </tr>\n",
       "    <tr>\n",
       "      <th>B</th>\n",
       "      <td>3.5</td>\n",
       "      <td>3.5</td>\n",
       "      <td>3.5</td>\n",
       "      <td>3.5</td>\n",
       "      <td>3.5</td>\n",
       "    </tr>\n",
       "    <tr>\n",
       "      <th>C</th>\n",
       "      <td>3.5</td>\n",
       "      <td>3.5</td>\n",
       "      <td>3.5</td>\n",
       "      <td>3.5</td>\n",
       "      <td>3.5</td>\n",
       "    </tr>\n",
       "    <tr>\n",
       "      <th>D</th>\n",
       "      <td>3.5</td>\n",
       "      <td>3.5</td>\n",
       "      <td>3.5</td>\n",
       "      <td>3.5</td>\n",
       "      <td>3.5</td>\n",
       "    </tr>\n",
       "    <tr>\n",
       "      <th>E</th>\n",
       "      <td>3.5</td>\n",
       "      <td>3.5</td>\n",
       "      <td>3.5</td>\n",
       "      <td>3.5</td>\n",
       "      <td>3.5</td>\n",
       "    </tr>\n",
       "    <tr>\n",
       "      <th>F</th>\n",
       "      <td>3.5</td>\n",
       "      <td>3.5</td>\n",
       "      <td>3.5</td>\n",
       "      <td>3.5</td>\n",
       "      <td>3.5</td>\n",
       "    </tr>\n",
       "  </tbody>\n",
       "</table>\n",
       "</div>"
      ],
      "text/plain": [
       "MovieID    1    2    3    4    5\n",
       "UserID                          \n",
       "A        3.5  3.5  3.5  3.5  3.5\n",
       "B        3.5  3.5  3.5  3.5  3.5\n",
       "C        3.5  3.5  3.5  3.5  3.5\n",
       "D        3.5  3.5  3.5  3.5  3.5\n",
       "E        3.5  3.5  3.5  3.5  3.5\n",
       "F        3.5  3.5  3.5  3.5  3.5"
      ]
     },
     "execution_count": 253,
     "metadata": {},
     "output_type": "execute_result"
    }
   ],
   "source": [
    "## Matrix of mean taken from Training Data\n",
    "\n",
    "Mtr_df[Tr_df != 0] = tr_raw_avg\n",
    "Mtr_df.head(6)"
   ]
  },
  {
   "cell_type": "markdown",
   "metadata": {},
   "source": [
    "### RMSE: Training Data\n",
    "\n",
    "Lets calculate RMSE for the Training Data. RMSE is very commonly used and makes for an excellent general purpose error metric for numerical predictions.Compared to the similar Mean Absolute Error, RMSE amplifies and severely punishes large errors. You may refer to the following URL to understand how RMSE is calculated :[RMSE](https://www.kaggle.com/wiki/RootMeanSquaredError)\n",
    "\n",
    "\n",
    "Youtube: [Part L RMSE](https://youtu.be/prVRuPezW3Q?list=PLuKhJYywjDe96T2L0-zXFU5Up2jqXlWI9), courtesy Network20Q. "
   ]
  },
  {
   "cell_type": "code",
   "execution_count": 254,
   "metadata": {},
   "outputs": [
    {
     "name": "stdout",
     "output_type": "stream",
     "text": [
      "('Training Data:', 1.161895003862225)\n"
     ]
    }
   ],
   "source": [
    "## Root Mean Square Error for Training Data\n",
    "\n",
    "tr_RMSE = sqrt(((Tr_df.stack() - tr_raw_avg) ** 2).mean())\n",
    "print(\"Training Data:\", tr_RMSE)"
   ]
  },
  {
   "cell_type": "markdown",
   "metadata": {},
   "source": [
    "### RMSE: Test Data\n",
    "\n",
    "In similar fashion, lets calculate RMSE for Test Data.\n",
    "\n",
    "Youtube: [Part L RMSE](https://youtu.be/prVRuPezW3Q?list=PLuKhJYywjDe96T2L0-zXFU5Up2jqXlWI9), courtesy Network20Q."
   ]
  },
  {
   "cell_type": "code",
   "execution_count": 255,
   "metadata": {},
   "outputs": [
    {
     "name": "stdout",
     "output_type": "stream",
     "text": [
      "('Test Data:', 1.02469507659596)\n"
     ]
    }
   ],
   "source": [
    "## Root Mean Square Error for Test Data\n",
    "\n",
    "te_RMSE = sqrt(((Te_df.stack() - tr_raw_avg) ** 2).mean())\n",
    "print(\"Test Data:\",te_RMSE)"
   ]
  },
  {
   "cell_type": "markdown",
   "metadata": {},
   "source": [
    "### User Bias\n",
    "\n",
    "Below we are calculating and displaying the User Bias. User Bias tells us how harsh or lenient a user is, while rating the Movies. The below list tell us that the User C and D are relatively harsh users.\n",
    "\n",
    "Youtube: [Part M UserBias](https://youtu.be/Fl7liZEJ4_U?list=PLuKhJYywjDe96T2L0-zXFU5Up2jqXlWI9), courtesy Network20Q."
   ]
  },
  {
   "cell_type": "code",
   "execution_count": 256,
   "metadata": {},
   "outputs": [
    {
     "name": "stdout",
     "output_type": "stream",
     "text": [
      "UserID\n",
      "A    0.833333\n",
      "B    0.500000\n",
      "C   -1.000000\n",
      "D   -1.500000\n",
      "E    0.833333\n",
      "F    0.250000\n",
      "dtype: float64\n"
     ]
    }
   ],
   "source": [
    "## Calculate user bias from traing data mean & raw average\n",
    "\n",
    "ub_tr = Tr_df.mean(1) - tr_raw_avg\n",
    "print(ub_tr)"
   ]
  },
  {
   "cell_type": "markdown",
   "metadata": {},
   "source": [
    "### Movie Bias\n",
    "\n",
    "Below we are calculating and displaying the Movie Bias. Movie bias tell us how positively or negatively a movie is likely to be rated.\n",
    "\n",
    "Youtube: [Part N Bias Values](https://youtu.be/dGM4bNQcVKI?list=PLuKhJYywjDe96T2L0-zXFU5Up2jqXlWI9), courtesy Network20Q."
   ]
  },
  {
   "cell_type": "code",
   "execution_count": 257,
   "metadata": {},
   "outputs": [
    {
     "name": "stdout",
     "output_type": "stream",
     "text": [
      "MovieID\n",
      "1    0.300000\n",
      "2   -1.166667\n",
      "3    0.750000\n",
      "4   -0.500000\n",
      "5    0.100000\n",
      "dtype: float64\n"
     ]
    }
   ],
   "source": [
    "## Calculate movie bias from traing data mean & raw average\n",
    "\n",
    "mb_tr = Tr_df.mean() - tr_raw_avg\n",
    "print(mb_tr)"
   ]
  },
  {
   "cell_type": "markdown",
   "metadata": {},
   "source": [
    "### Baseline Predictor\n",
    "\n",
    "Below we are calculating and displaying the baseline predictor matrix. The baseline predictor is calculated using the following formula:\n",
    "\n",
    "Raw Average + User Bias + Movie Bias\n",
    "\n",
    "Youtube: [Part O Baseline Predictor](https://youtu.be/4RSigTais8o?list=PLuKhJYywjDe96T2L0-zXFU5Up2jqXlWI9), courtesy Network20Q."
   ]
  },
  {
   "cell_type": "code",
   "execution_count": 258,
   "metadata": {},
   "outputs": [
    {
     "data": {
      "text/html": [
       "<div>\n",
       "<style>\n",
       "    .dataframe thead tr:only-child th {\n",
       "        text-align: right;\n",
       "    }\n",
       "\n",
       "    .dataframe thead th {\n",
       "        text-align: left;\n",
       "    }\n",
       "\n",
       "    .dataframe tbody tr th {\n",
       "        vertical-align: top;\n",
       "    }\n",
       "</style>\n",
       "<table border=\"1\" class=\"dataframe\">\n",
       "  <thead>\n",
       "    <tr style=\"text-align: right;\">\n",
       "      <th>MovieID</th>\n",
       "      <th>1</th>\n",
       "      <th>2</th>\n",
       "      <th>3</th>\n",
       "      <th>4</th>\n",
       "      <th>5</th>\n",
       "    </tr>\n",
       "    <tr>\n",
       "      <th>UserID</th>\n",
       "      <th></th>\n",
       "      <th></th>\n",
       "      <th></th>\n",
       "      <th></th>\n",
       "      <th></th>\n",
       "    </tr>\n",
       "  </thead>\n",
       "  <tbody>\n",
       "    <tr>\n",
       "      <th>A</th>\n",
       "      <td>4.633333</td>\n",
       "      <td>3.166667</td>\n",
       "      <td>5.00</td>\n",
       "      <td>3.833333</td>\n",
       "      <td>4.433333</td>\n",
       "    </tr>\n",
       "    <tr>\n",
       "      <th>B</th>\n",
       "      <td>4.300000</td>\n",
       "      <td>2.833333</td>\n",
       "      <td>4.75</td>\n",
       "      <td>3.500000</td>\n",
       "      <td>4.100000</td>\n",
       "    </tr>\n",
       "    <tr>\n",
       "      <th>C</th>\n",
       "      <td>2.800000</td>\n",
       "      <td>1.333333</td>\n",
       "      <td>3.25</td>\n",
       "      <td>2.000000</td>\n",
       "      <td>2.600000</td>\n",
       "    </tr>\n",
       "    <tr>\n",
       "      <th>D</th>\n",
       "      <td>2.300000</td>\n",
       "      <td>1.000000</td>\n",
       "      <td>2.75</td>\n",
       "      <td>1.500000</td>\n",
       "      <td>2.100000</td>\n",
       "    </tr>\n",
       "    <tr>\n",
       "      <th>E</th>\n",
       "      <td>4.633333</td>\n",
       "      <td>3.166667</td>\n",
       "      <td>5.00</td>\n",
       "      <td>3.833333</td>\n",
       "      <td>4.433333</td>\n",
       "    </tr>\n",
       "    <tr>\n",
       "      <th>F</th>\n",
       "      <td>4.050000</td>\n",
       "      <td>2.583333</td>\n",
       "      <td>4.50</td>\n",
       "      <td>3.250000</td>\n",
       "      <td>3.850000</td>\n",
       "    </tr>\n",
       "  </tbody>\n",
       "</table>\n",
       "</div>"
      ],
      "text/plain": [
       "MovieID         1         2     3         4         5\n",
       "UserID                                               \n",
       "A        4.633333  3.166667  5.00  3.833333  4.433333\n",
       "B        4.300000  2.833333  4.75  3.500000  4.100000\n",
       "C        2.800000  1.333333  3.25  2.000000  2.600000\n",
       "D        2.300000  1.000000  2.75  1.500000  2.100000\n",
       "E        4.633333  3.166667  5.00  3.833333  4.433333\n",
       "F        4.050000  2.583333  4.50  3.250000  3.850000"
      ]
     },
     "execution_count": 258,
     "metadata": {},
     "output_type": "execute_result"
    }
   ],
   "source": [
    "## Create predicted value User-Movie Rating DF using training user bias & movie bias data\n",
    "## Any value greater than 5 should be reduced to 5 & any value less than 1 should be rounded off to 1\n",
    "\n",
    "pred_tr = [i + j + tr_raw_avg for i in ub_tr for j in mb_tr]\n",
    "pred_tr_Df = pd.DataFrame(np.array(pred_tr).reshape(len(ub_tr), len(mb_tr)))\n",
    "pred_tr_Df.columns = [list(Tr_df)]\n",
    "pred_tr_Df.columns.name = 'MovieID'\n",
    "pred_tr_Df.index = [Tr_df.index.values.tolist()]\n",
    "pred_tr_Df.index.name = 'UserID'\n",
    "pred_tr_Df[pred_tr_Df<1] = 1\n",
    "pred_tr_Df[pred_tr_Df>5] = 5\n",
    "pred_tr_Df.head(6)"
   ]
  },
  {
   "cell_type": "markdown",
   "metadata": {},
   "source": [
    "### Baseline Predictor RMSE: Training\n",
    "\n",
    "Here we are calculating RMSE for training data obtained from Baseline Predictor matrix calculated above.\n",
    "\n",
    "Youtube: [Part P Baseline Predictor RMSE](https://youtu.be/lppNpLFelOc?list=PLuKhJYywjDe96T2L0-zXFU5Up2jqXlWI9), courtesy Network20Q."
   ]
  },
  {
   "cell_type": "code",
   "execution_count": 259,
   "metadata": {},
   "outputs": [
    {
     "name": "stdout",
     "output_type": "stream",
     "text": [
      "('Baseline Predictor RMSE: Training ', 0.47088863981955553)\n"
     ]
    }
   ],
   "source": [
    "## Calculate RMSE for Training Predicted Data\n",
    "\n",
    "pred_tr_RMSE = sqrt(((Tr_df.stack() - pred_tr_Df.stack()) **2).mean())\n",
    "print(\"Baseline Predictor RMSE: Training \",pred_tr_RMSE)"
   ]
  },
  {
   "cell_type": "markdown",
   "metadata": {},
   "source": [
    "### Baseline Predictor RMSE: Test\n",
    "\n",
    "Here we are calculating RMSE for test data obtained from Baseline Predictor matrix calculated above.\n",
    "\n",
    "Youtube: [Part P Baseline Predictor RMSE](https://youtu.be/lppNpLFelOc?list=PLuKhJYywjDe96T2L0-zXFU5Up2jqXlWI9), courtesy Network20Q."
   ]
  },
  {
   "cell_type": "code",
   "execution_count": 260,
   "metadata": {},
   "outputs": [
    {
     "name": "stdout",
     "output_type": "stream",
     "text": [
      "('Baseline Predictor RMSE: Test ', 0.7365459931328119)\n"
     ]
    }
   ],
   "source": [
    "## Calculate RMSE for Test Predicted Data\n",
    "## The dimension of test dataframe Te_df is not same that of pred_tr_Df\n",
    "## Remove first row of pred_tr_Df to make it similar to Te_df\n",
    "\n",
    "pred_tr_Df2 = pred_tr_Df.iloc[1:]\n",
    "pred_te_RMSE = sqrt(((Te_df.stack() - pred_tr_Df2.stack()) **2).mean())\n",
    "print(\"Baseline Predictor RMSE: Test \",pred_te_RMSE)"
   ]
  },
  {
   "cell_type": "markdown",
   "metadata": {},
   "source": [
    "### Summary 1\n",
    "\n",
    "Below is the improvement in percentage in predicting Test Data.\n"
   ]
  },
  {
   "cell_type": "code",
   "execution_count": 261,
   "metadata": {},
   "outputs": [
    {
     "name": "stdout",
     "output_type": "stream",
     "text": [
      "28.1204711572\n"
     ]
    }
   ],
   "source": [
    "## Improvement in percentage in predicting Test Data\n",
    "imp_pr_test = (1-pred_te_RMSE/te_RMSE)*100\n",
    "print(imp_pr_test)"
   ]
  },
  {
   "cell_type": "markdown",
   "metadata": {},
   "source": [
    "### Summary 2\n",
    "\n",
    "Below is the improvement in percentage in predicting Training Data."
   ]
  },
  {
   "cell_type": "code",
   "execution_count": 262,
   "metadata": {},
   "outputs": [
    {
     "name": "stdout",
     "output_type": "stream",
     "text": [
      "59.472358668\n"
     ]
    }
   ],
   "source": [
    "## Improvement in percentage in predicting Training Data\n",
    "imp_pr_training = (1-pred_tr_RMSE/tr_RMSE)*100\n",
    "print(imp_pr_training)"
   ]
  },
  {
   "cell_type": "code",
   "execution_count": null,
   "metadata": {
    "collapsed": true
   },
   "outputs": [],
   "source": []
  }
 ],
 "metadata": {
  "kernelspec": {
   "display_name": "Python 2",
   "language": "python",
   "name": "python2"
  },
  "language_info": {
   "codemirror_mode": {
    "name": "ipython",
    "version": 2
   },
   "file_extension": ".py",
   "mimetype": "text/x-python",
   "name": "python",
   "nbconvert_exporter": "python",
   "pygments_lexer": "ipython2",
   "version": "2.7.10"
  }
 },
 "nbformat": 4,
 "nbformat_minor": 1
}
