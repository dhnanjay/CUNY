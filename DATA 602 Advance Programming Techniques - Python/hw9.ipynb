{
 "cells": [
  {
   "cell_type": "code",
   "execution_count": 1,
   "metadata": {
    "collapsed": true
   },
   "outputs": [],
   "source": [
    "import re\n",
    "import pandas as pd\n",
    "import numpy as np\n",
    "from StringIO import StringIO\n",
    "import Tkinter\n",
    "import tkFileDialog"
   ]
  },
  {
   "cell_type": "code",
   "execution_count": 2,
   "metadata": {
    "collapsed": true
   },
   "outputs": [],
   "source": [
    "def sanitizer(dFile):\n",
    "\n",
    "    pattern = r\"(\\\" )(?=HTTP)\"  # remove triple quoted lines\n",
    "\n",
    "    with open(dFile) as d:\n",
    "        raw = d.read()\n",
    "\n",
    "    f_txt = re.sub(pattern, \" \", raw) # remove the extra quote\n",
    "\n",
    "    x = StringIO(f_txt) # Load data into StringIO\n",
    "\n",
    "    df = pd.read_csv(x, sep=\"\\s+\", header=None, na_values=\"-\")  # separate by space.\n",
    "    df.columns = ['IP_address', 'time_stamp', 'request', 'status', 'bytes']\n",
    "\n",
    "    df['time_stamp'] += \"1995-08\" # Add Year and Month\n",
    "    df['time_stamp'] = pd.to_datetime(df['time_stamp'], format=\"[%d:%H:%M:%S]%Y-%m\")\n",
    "\n",
    "    return df"
   ]
  },
  {
   "cell_type": "code",
   "execution_count": 3,
   "metadata": {
    "collapsed": true
   },
   "outputs": [],
   "source": [
    "# Select file using Tkinter GUI dialog box\n",
    "tGUI = Tkinter.Tk()\n",
    "tGUI.withdraw()\n",
    "filePath = tkFileDialog.askopenfilename(parent=tGUI)"
   ]
  },
  {
   "cell_type": "code",
   "execution_count": 26,
   "metadata": {},
   "outputs": [
    {
     "data": {
      "text/html": [
       "<div>\n",
       "<style>\n",
       "    .dataframe thead tr:only-child th {\n",
       "        text-align: right;\n",
       "    }\n",
       "\n",
       "    .dataframe thead th {\n",
       "        text-align: left;\n",
       "    }\n",
       "\n",
       "    .dataframe tbody tr th {\n",
       "        vertical-align: top;\n",
       "    }\n",
       "</style>\n",
       "<table border=\"1\" class=\"dataframe\">\n",
       "  <thead>\n",
       "    <tr style=\"text-align: right;\">\n",
       "      <th></th>\n",
       "      <th>IP_address</th>\n",
       "      <th>time_stamp</th>\n",
       "      <th>request</th>\n",
       "      <th>status</th>\n",
       "      <th>bytes</th>\n",
       "    </tr>\n",
       "  </thead>\n",
       "  <tbody>\n",
       "    <tr>\n",
       "      <th>0</th>\n",
       "      <td>141.243.1.172</td>\n",
       "      <td>1995-08-29 23:53:25</td>\n",
       "      <td>GET /Software.html HTTP/1.0</td>\n",
       "      <td>200</td>\n",
       "      <td>1497.0</td>\n",
       "    </tr>\n",
       "    <tr>\n",
       "      <th>1</th>\n",
       "      <td>query2.lycos.cs.cmu.edu</td>\n",
       "      <td>1995-08-29 23:53:36</td>\n",
       "      <td>GET /Consumer.html HTTP/1.0</td>\n",
       "      <td>200</td>\n",
       "      <td>1325.0</td>\n",
       "    </tr>\n",
       "    <tr>\n",
       "      <th>2</th>\n",
       "      <td>tanuki.twics.com</td>\n",
       "      <td>1995-08-29 23:53:53</td>\n",
       "      <td>GET /News.html HTTP/1.0</td>\n",
       "      <td>200</td>\n",
       "      <td>1014.0</td>\n",
       "    </tr>\n",
       "    <tr>\n",
       "      <th>3</th>\n",
       "      <td>wpbfl2-45.gate.net</td>\n",
       "      <td>1995-08-29 23:54:15</td>\n",
       "      <td>GET / HTTP/1.0</td>\n",
       "      <td>200</td>\n",
       "      <td>4889.0</td>\n",
       "    </tr>\n",
       "    <tr>\n",
       "      <th>4</th>\n",
       "      <td>wpbfl2-45.gate.net</td>\n",
       "      <td>1995-08-29 23:54:16</td>\n",
       "      <td>GET /icons/circle_logo_small.gif HTTP/1.0</td>\n",
       "      <td>200</td>\n",
       "      <td>2624.0</td>\n",
       "    </tr>\n",
       "  </tbody>\n",
       "</table>\n",
       "</div>"
      ],
      "text/plain": [
       "                IP_address          time_stamp  \\\n",
       "0            141.243.1.172 1995-08-29 23:53:25   \n",
       "1  query2.lycos.cs.cmu.edu 1995-08-29 23:53:36   \n",
       "2         tanuki.twics.com 1995-08-29 23:53:53   \n",
       "3       wpbfl2-45.gate.net 1995-08-29 23:54:15   \n",
       "4       wpbfl2-45.gate.net 1995-08-29 23:54:16   \n",
       "\n",
       "                                     request  status   bytes  \n",
       "0                GET /Software.html HTTP/1.0     200  1497.0  \n",
       "1                GET /Consumer.html HTTP/1.0     200  1325.0  \n",
       "2                    GET /News.html HTTP/1.0     200  1014.0  \n",
       "3                             GET / HTTP/1.0     200  4889.0  \n",
       "4  GET /icons/circle_logo_small.gif HTTP/1.0     200  2624.0  "
      ]
     },
     "execution_count": 26,
     "metadata": {},
     "output_type": "execute_result"
    }
   ],
   "source": [
    "# Sanitize txt file to get clean data\n",
    "cleanData = sanitizer(filePath)\n",
    "\n",
    "# View Clean Data\n",
    "cleanData.head(5)\n",
    "\n",
    "\n"
   ]
  },
  {
   "cell_type": "code",
   "execution_count": 27,
   "metadata": {},
   "outputs": [
    {
     "name": "stdout",
     "output_type": "stream",
     "text": [
      "IP_address or hostname with most requests:\n",
      "sandy.rtptok1.epa.gov    294\n",
      "Name: IP_address, dtype: int64\n"
     ]
    }
   ],
   "source": [
    "# 1. Which hostname or IP address made the most requests?\n",
    "print \"IP_address or hostname with most requests:\"\n",
    "print cleanData['IP_address'].value_counts()[:1]"
   ]
  },
  {
   "cell_type": "code",
   "execution_count": 16,
   "metadata": {},
   "outputs": [
    {
     "name": "stdout",
     "output_type": "stream",
     "text": [
      "IP_address and hostname with most total bytes:\n"
     ]
    },
    {
     "data": {
      "text/html": [
       "<div>\n",
       "<style>\n",
       "    .dataframe thead tr:only-child th {\n",
       "        text-align: right;\n",
       "    }\n",
       "\n",
       "    .dataframe thead th {\n",
       "        text-align: left;\n",
       "    }\n",
       "\n",
       "    .dataframe tbody tr th {\n",
       "        vertical-align: top;\n",
       "    }\n",
       "</style>\n",
       "<table border=\"1\" class=\"dataframe\">\n",
       "  <thead>\n",
       "    <tr style=\"text-align: right;\">\n",
       "      <th></th>\n",
       "      <th>IP_address</th>\n",
       "      <th>time_stamp</th>\n",
       "      <th>request</th>\n",
       "      <th>status</th>\n",
       "      <th>bytes</th>\n",
       "    </tr>\n",
       "  </thead>\n",
       "  <tbody>\n",
       "    <tr>\n",
       "      <th>20020</th>\n",
       "      <td>139.121.98.45</td>\n",
       "      <td>1995-08-30 13:04:57</td>\n",
       "      <td>GET /docs/TRI_Cover93/1993-only/ca93.e00 HTTP/1.0</td>\n",
       "      <td>200</td>\n",
       "      <td>4816896.0</td>\n",
       "    </tr>\n",
       "  </tbody>\n",
       "</table>\n",
       "</div>"
      ],
      "text/plain": [
       "          IP_address          time_stamp  \\\n",
       "20020  139.121.98.45 1995-08-30 13:04:57   \n",
       "\n",
       "                                                 request  status      bytes  \n",
       "20020  GET /docs/TRI_Cover93/1993-only/ca93.e00 HTTP/1.0     200  4816896.0  "
      ]
     },
     "execution_count": 16,
     "metadata": {},
     "output_type": "execute_result"
    }
   ],
   "source": [
    "# 2. Which hostname or IP address received the most total bytes from the server? How many bytes did it receive?\n",
    "print \"IP_address and hostname with most total bytes:\"\n",
    "mostBytes = cleanData.sort_values(by='bytes', axis=0, ascending=False, inplace=False)\n",
    "mostBytes.head(1)"
   ]
  },
  {
   "cell_type": "code",
   "execution_count": 22,
   "metadata": {},
   "outputs": [
    {
     "name": "stdout",
     "output_type": "stream",
     "text": [
      "Busiest server hour | number of requests:\n",
      "                 time_stamp\n",
      "14    4716\n",
      "dtype: int64\n"
     ]
    }
   ],
   "source": [
    "#3. During what hour was the server the busiest in terms of requests?\n",
    "time_1 = cleanData.groupby(cleanData['time_stamp'].dt.hour)\n",
    "group_size = time_1.size()\n",
    "group_size.sort_values(inplace=True, ascending=False)\n",
    "print \"Busiest server hour | number of requests:\"\n",
    "print \"                 \" + str(group_size[:1])"
   ]
  },
  {
   "cell_type": "code",
   "execution_count": 24,
   "metadata": {},
   "outputs": [
    {
     "name": "stdout",
     "output_type": "stream",
     "text": [
      "                Most downloaded gif image | download count\n",
      "GET /icons/circle_logo_small.gif HTTP/1.0    2465\n",
      "Name: request, dtype: int64\n"
     ]
    }
   ],
   "source": [
    "#4 Which .gif image was downloaded the most during the day?\n",
    "sub = cleanData[(cleanData.status == 200) & (cleanData.request.str.contains('\\\\.gif'))]\n",
    "print \"                Most downloaded gif image | download count\"\n",
    "print sub.request.value_counts()[:1]"
   ]
  },
  {
   "cell_type": "code",
   "execution_count": 25,
   "metadata": {},
   "outputs": [
    {
     "name": "stdout",
     "output_type": "stream",
     "text": [
      "Codes | counts:\n",
      "304    5300\n",
      "302    4506\n",
      "404     611\n",
      "501     272\n",
      "403     272\n",
      "500      69\n",
      "400       6\n",
      "Name: status, dtype: int64\n"
     ]
    }
   ],
   "source": [
    "#5 What HTTP reply codes were sent other than 200?\n",
    "http_s = cleanData[cleanData.status != 200]\n",
    "print \"Codes | counts:\"\n",
    "print http_s.status.value_counts()"
   ]
  },
  {
   "cell_type": "code",
   "execution_count": null,
   "metadata": {
    "collapsed": true
   },
   "outputs": [],
   "source": []
  }
 ],
 "metadata": {
  "kernelspec": {
   "display_name": "Python 2",
   "language": "python",
   "name": "python2"
  },
  "language_info": {
   "codemirror_mode": {
    "name": "ipython",
    "version": 2
   },
   "file_extension": ".py",
   "mimetype": "text/x-python",
   "name": "python",
   "nbconvert_exporter": "python",
   "pygments_lexer": "ipython2",
   "version": "2.7.10"
  }
 },
 "nbformat": 4,
 "nbformat_minor": 1
}
