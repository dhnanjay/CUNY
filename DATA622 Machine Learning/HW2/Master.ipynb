{
 "cells": [
  {
   "cell_type": "code",
   "execution_count": 101,
   "metadata": {},
   "outputs": [
    {
     "name": "stdout",
     "output_type": "stream",
     "text": [
      "The autoreload extension is already loaded. To reload it, use:\n",
      "  %reload_ext autoreload\n"
     ]
    }
   ],
   "source": [
    "from pull_data import *\n",
    "from train_model import *\n",
    "%load_ext autoreload\n",
    "%autoreload 2\n",
    "%reload_ext autoreload"
   ]
  },
  {
   "cell_type": "code",
   "execution_count": 102,
   "metadata": {},
   "outputs": [
    {
     "name": "stdout",
     "output_type": "stream",
     "text": [
      "Titanic training file downloaded\n",
      "Titanic test file downloaded\n",
      "Function : downloadTitanic  || Seconds : 2.1 |  Minutes : 0.03\n",
      "No. of records in training data : (891, 12)\n",
      "No. of records in test data : (418, 11)\n",
      "Function : loadTitanic  || Seconds : 2.12 |  Minutes : 0.04\n"
     ]
    }
   ],
   "source": [
    "df_train, df_test = loadTitanic()"
   ]
  },
  {
   "cell_type": "code",
   "execution_count": 103,
   "metadata": {},
   "outputs": [],
   "source": [
    "df=dropFeatures(df_train)"
   ]
  },
  {
   "cell_type": "code",
   "execution_count": 104,
   "metadata": {},
   "outputs": [
    {
     "name": "stdout",
     "output_type": "stream",
     "text": [
      "Age : 177 | Missing data in % : 19.87\n",
      "Missing Values in Age fixed.\n",
      "Embarked : 2 | Missing data in % : 0.22\n",
      "Missing Values in Embarked fixed.\n"
     ]
    }
   ],
   "source": [
    "df=fixMissingData(df)"
   ]
  },
  {
   "cell_type": "code",
   "execution_count": 105,
   "metadata": {},
   "outputs": [
    {
     "name": "stdout",
     "output_type": "stream",
     "text": [
      "Dummies created for : Pclass\n",
      "Dummies created for : Sex\n",
      "Dummies created for : SibSp\n",
      "Dummies created for : Parch\n",
      "Dummies created for : Embarked\n"
     ]
    }
   ],
   "source": [
    "df=createDummies(df)"
   ]
  },
  {
   "cell_type": "code",
   "execution_count": 106,
   "metadata": {},
   "outputs": [
    {
     "name": "stdout",
     "output_type": "stream",
     "text": [
      "Following Columns rescaled using MinMaxSxaler : ['Age', 'Fare']\n"
     ]
    }
   ],
   "source": [
    "df=rescaleFeatures(df)"
   ]
  },
  {
   "cell_type": "code",
   "execution_count": 107,
   "metadata": {},
   "outputs": [
    {
     "name": "stdout",
     "output_type": "stream",
     "text": [
      "AUC & SD: 85.539% (4.353%)\n",
      "Accuracy : 78.731%\n",
      "Confusion Matrix :-\n",
      "[[142  23]\n",
      " [ 34  69]]\n"
     ]
    }
   ],
   "source": [
    "df=randomForestClassifier(df)"
   ]
  },
  {
   "cell_type": "code",
   "execution_count": null,
   "metadata": {},
   "outputs": [],
   "source": []
  }
 ],
 "metadata": {
  "kernelspec": {
   "display_name": "Python 3",
   "language": "python",
   "name": "python3"
  },
  "language_info": {
   "codemirror_mode": {
    "name": "ipython",
    "version": 3
   },
   "file_extension": ".py",
   "mimetype": "text/x-python",
   "name": "python",
   "nbconvert_exporter": "python",
   "pygments_lexer": "ipython3",
   "version": "3.5.2"
  }
 },
 "nbformat": 4,
 "nbformat_minor": 2
}
