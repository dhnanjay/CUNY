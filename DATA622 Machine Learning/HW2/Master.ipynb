{
 "cells": [
  {
   "cell_type": "code",
   "execution_count": 30,
   "metadata": {},
   "outputs": [
    {
     "name": "stdout",
     "output_type": "stream",
     "text": [
      "The autoreload extension is already loaded. To reload it, use:\n",
      "  %reload_ext autoreload\n"
     ]
    }
   ],
   "source": [
    "import warnings\n",
    "warnings.filterwarnings('ignore')\n",
    "from pull_data import *\n",
    "from train_model import *\n",
    "%load_ext autoreload\n",
    "%autoreload 2\n",
    "%reload_ext autoreload"
   ]
  },
  {
   "cell_type": "code",
   "execution_count": 24,
   "metadata": {},
   "outputs": [
    {
     "name": "stdout",
     "output_type": "stream",
     "text": [
      "Titanic training file downloaded\n",
      "Titanic test file downloaded\n",
      "Function : downloadTitanic  || Seconds : 2.8 |  Minutes : 0.05\n",
      "No. of records in training data : (891, 12)\n",
      "No. of records in test data : (418, 11)\n",
      "Function : loadTitanic  || Seconds : 2.83 |  Minutes : 0.05\n"
     ]
    }
   ],
   "source": [
    "df_train, df_test = loadTitanic()"
   ]
  },
  {
   "cell_type": "code",
   "execution_count": 25,
   "metadata": {},
   "outputs": [],
   "source": [
    "df=dropFeatures(df_train)"
   ]
  },
  {
   "cell_type": "code",
   "execution_count": 26,
   "metadata": {},
   "outputs": [
    {
     "name": "stdout",
     "output_type": "stream",
     "text": [
      "Age : 177 | Missing data in % : 19.87\n",
      "Missing Values in Age fixed.\n",
      "Embarked : 2 | Missing data in % : 0.22\n",
      "Missing Values in Embarked fixed.\n"
     ]
    }
   ],
   "source": [
    "df=fixMissingData(df)"
   ]
  },
  {
   "cell_type": "code",
   "execution_count": 27,
   "metadata": {},
   "outputs": [
    {
     "name": "stdout",
     "output_type": "stream",
     "text": [
      "Dummies created for : Pclass\n",
      "Dummies created for : Sex\n",
      "Dummies created for : SibSp\n",
      "Dummies created for : Parch\n",
      "Dummies created for : Embarked\n"
     ]
    }
   ],
   "source": [
    "df=createDummies(df)"
   ]
  },
  {
   "cell_type": "code",
   "execution_count": 28,
   "metadata": {},
   "outputs": [
    {
     "name": "stdout",
     "output_type": "stream",
     "text": [
      "Following Columns rescaled using MinMaxScaler : ['Age', 'Fare']\n"
     ]
    }
   ],
   "source": [
    "df=rescaleFeatures(df)"
   ]
  },
  {
   "cell_type": "code",
   "execution_count": 31,
   "metadata": {},
   "outputs": [
    {
     "name": "stdout",
     "output_type": "stream",
     "text": [
      "{'n_estimators': 39, 'max_features': 'sqrt', 'max_depth': 10, 'min_samples_leaf': 5}\n",
      "Function : tuneHP  || Seconds : 515.21 |  Minutes : 8.59\n"
     ]
    }
   ],
   "source": [
    "tp = tuneHP(df)"
   ]
  },
  {
   "cell_type": "code",
   "execution_count": 32,
   "metadata": {},
   "outputs": [
    {
     "data": {
      "text/plain": [
       "39"
      ]
     },
     "execution_count": 32,
     "metadata": {},
     "output_type": "execute_result"
    }
   ],
   "source": [
    "tp['n_estimators']"
   ]
  },
  {
   "cell_type": "code",
   "execution_count": 33,
   "metadata": {},
   "outputs": [
    {
     "name": "stdout",
     "output_type": "stream",
     "text": [
      "AUC & SD: 86.135% (3.498%)\n",
      "Accuracy : 79.821%\n",
      "Confusion Matrix :-\n",
      "[[127  10]\n",
      " [ 35  51]]\n",
      "Function : randomForestClassifier  || Seconds : 3.22 |  Minutes : 0.05\n"
     ]
    }
   ],
   "source": [
    "df=randomForestClassifier(df,tp['n_estimators'],tp['max_features'],tp['max_depth'],tp['min_samples_leaf'])"
   ]
  },
  {
   "cell_type": "code",
   "execution_count": null,
   "metadata": {},
   "outputs": [],
   "source": []
  }
 ],
 "metadata": {
  "kernelspec": {
   "display_name": "Python 3",
   "language": "python",
   "name": "python3"
  },
  "language_info": {
   "codemirror_mode": {
    "name": "ipython",
    "version": 3
   },
   "file_extension": ".py",
   "mimetype": "text/x-python",
   "name": "python",
   "nbconvert_exporter": "python",
   "pygments_lexer": "ipython3",
   "version": "3.5.2"
  }
 },
 "nbformat": 4,
 "nbformat_minor": 2
}
