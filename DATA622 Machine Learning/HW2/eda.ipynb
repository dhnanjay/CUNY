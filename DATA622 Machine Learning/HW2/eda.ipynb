{
 "cells": [
  {
   "cell_type": "code",
   "execution_count": 89,
   "metadata": {},
   "outputs": [
    {
     "name": "stdout",
     "output_type": "stream",
     "text": [
      "The autoreload extension is already loaded. To reload it, use:\n",
      "  %reload_ext autoreload\n"
     ]
    }
   ],
   "source": [
    "import warnings\n",
    "warnings.filterwarnings('ignore')\n",
    "from pull_data import *\n",
    "from train_model import *\n",
    "from score_model import *\n",
    "%load_ext autoreload\n",
    "%autoreload 2\n",
    "%reload_ext autoreload"
   ]
  },
  {
   "cell_type": "code",
   "execution_count": 48,
   "metadata": {},
   "outputs": [
    {
     "name": "stdout",
     "output_type": "stream",
     "text": [
      "Titanic training file downloaded\n",
      "Titanic test file downloaded\n",
      "Function : downloadTitanic  || Seconds : 2.61 |  Minutes : 0.04\n",
      "No. of records in training data : (891, 12)\n",
      "No. of records in test data : (418, 11)\n",
      "Function : loadTitanic  || Seconds : 2.63 |  Minutes : 0.04\n"
     ]
    }
   ],
   "source": [
    "df_train, df_test = loadTitanic()"
   ]
  },
  {
   "cell_type": "code",
   "execution_count": 49,
   "metadata": {},
   "outputs": [],
   "source": [
    "df=dropFeatures(df_train)"
   ]
  },
  {
   "cell_type": "code",
   "execution_count": 50,
   "metadata": {},
   "outputs": [
    {
     "name": "stdout",
     "output_type": "stream",
     "text": [
      "Age : 177 | Missing data in % : 19.87\n",
      "Missing Values in Age fixed.\n",
      "Embarked : 2 | Missing data in % : 0.22\n",
      "Missing Values in Embarked fixed.\n"
     ]
    }
   ],
   "source": [
    "df=fixMissingData(df)"
   ]
  },
  {
   "cell_type": "code",
   "execution_count": 51,
   "metadata": {},
   "outputs": [
    {
     "name": "stdout",
     "output_type": "stream",
     "text": [
      "Dummies created for : Pclass\n",
      "Dummies created for : Sex\n",
      "Dummies created for : SibSp\n",
      "Dummies created for : Parch\n",
      "Dummies created for : Embarked\n"
     ]
    }
   ],
   "source": [
    "df=createDummies(df)"
   ]
  },
  {
   "cell_type": "code",
   "execution_count": 52,
   "metadata": {},
   "outputs": [
    {
     "name": "stdout",
     "output_type": "stream",
     "text": [
      "Following Columns rescaled using MinMaxScaler : ['Age', 'Fare']\n"
     ]
    }
   ],
   "source": [
    "df=rescaleFeatures(df)"
   ]
  },
  {
   "cell_type": "code",
   "execution_count": 55,
   "metadata": {},
   "outputs": [
    {
     "name": "stdout",
     "output_type": "stream",
     "text": [
      "{'n_estimators': 39, 'max_features': 'sqrt', 'max_depth': 10, 'min_samples_leaf': 5}\n",
      "Function : tuneHP  || Seconds : 515.0 |  Minutes : 8.58\n"
     ]
    }
   ],
   "source": [
    "tp = tuneHP(df)"
   ]
  },
  {
   "cell_type": "code",
   "execution_count": 59,
   "metadata": {},
   "outputs": [
    {
     "name": "stdout",
     "output_type": "stream",
     "text": [
      "Model Features downloaded\n",
      "AUC & SD: 86.135% (3.498%)\n",
      "Accuracy : 79.821%\n",
      "Confusion Matrix :-\n",
      "[[127  10]\n",
      " [ 35  51]]\n",
      "Model saved to local disk\n",
      "Function : randomForestClassifier  || Seconds : 3.19 |  Minutes : 0.05\n"
     ]
    }
   ],
   "source": [
    "randomForestClassifier(df,tp['n_estimators'],tp['max_features'],tp['max_depth'],tp['min_samples_leaf'])"
   ]
  },
  {
   "cell_type": "code",
   "execution_count": 90,
   "metadata": {},
   "outputs": [
    {
     "name": "stdout",
     "output_type": "stream",
     "text": [
      "Age : 86 | Missing data in % : 20.57\n",
      "Missing Values in Age fixed.\n",
      "Fare : 1 | Missing data in % : 0.24\n",
      "Missing Values in Fare fixed.\n",
      "Dummies created for : Pclass\n",
      "Dummies created for : Sex\n",
      "Dummies created for : SibSp\n",
      "Dummies created for : Parch\n",
      "Dummies created for : Embarked\n",
      "Following Columns rescaled using MinMaxScaler : ['Age', 'Fare']\n",
      "['Age', 'Fare', 'Pclass_1', 'Pclass_2', 'Pclass_3', 'Sex_female', 'Sex_male', 'SibSp_0', 'SibSp_1', 'SibSp_2', 'SibSp_3', 'SibSp_4', 'SibSp_5', 'SibSp_8', 'Parch_0', 'Parch_1', 'Parch_2', 'Parch_3', 'Parch_4', 'Parch_5', 'Parch_6', 'Embarked_C', 'Embarked_Q', 'Embarked_S']\n",
      "File kaggle_submission.csv saved to local directory\n",
      "Function : run_test_data  || Seconds : 0.59 |  Minutes : 0.01\n"
     ]
    }
   ],
   "source": [
    "run_test_data()"
   ]
  },
  {
   "cell_type": "code",
   "execution_count": 91,
   "metadata": {},
   "outputs": [],
   "source": [
    "!pip freeze > requirements.txt\n"
   ]
  },
  {
   "cell_type": "code",
   "execution_count": null,
   "metadata": {},
   "outputs": [],
   "source": []
  }
 ],
 "metadata": {
  "kernelspec": {
   "display_name": "Python 3",
   "language": "python",
   "name": "python3"
  },
  "language_info": {
   "codemirror_mode": {
    "name": "ipython",
    "version": 3
   },
   "file_extension": ".py",
   "mimetype": "text/x-python",
   "name": "python",
   "nbconvert_exporter": "python",
   "pygments_lexer": "ipython3",
   "version": "3.5.2"
  }
 },
 "nbformat": 4,
 "nbformat_minor": 2
}
