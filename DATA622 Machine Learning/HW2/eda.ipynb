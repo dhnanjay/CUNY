{
 "cells": [
  {
   "cell_type": "code",
   "execution_count": 116,
   "metadata": {},
   "outputs": [
    {
     "name": "stdout",
     "output_type": "stream",
     "text": [
      "The autoreload extension is already loaded. To reload it, use:\n",
      "  %reload_ext autoreload\n"
     ]
    }
   ],
   "source": [
    "import warnings\n",
    "warnings.filterwarnings('ignore')\n",
    "!pip install -r requirements.txt\n",
    "from pull_data import *\n",
    "from train_model import *\n",
    "from score_model import *\n",
    "%load_ext autoreload\n",
    "%autoreload 2\n",
    "%reload_ext autoreload"
   ]
  },
  {
   "cell_type": "code",
   "execution_count": 117,
   "metadata": {},
   "outputs": [
    {
     "name": "stdout",
     "output_type": "stream",
     "text": [
      "Titanic training file downloaded\n",
      "Titanic test file downloaded\n",
      "Function : downloadTitanic  || Seconds : 2.61 |  Minutes : 0.04\n",
      "No. of records in training data : (891, 12)\n",
      "No. of records in test data : (418, 11)\n",
      "Function : loadTitanic  || Seconds : 2.64 |  Minutes : 0.04\n"
     ]
    }
   ],
   "source": [
    "## This function will download and validate Titanic Test & train Data\n",
    "## User May give username & password but this function works without username & password\n",
    "## as Authentication is taken care by KAggle API. For more information refer to this function in pull_data.py\n",
    "df_train, df_test = loadTitanic()"
   ]
  },
  {
   "cell_type": "code",
   "execution_count": 94,
   "metadata": {},
   "outputs": [],
   "source": [
    "##This func. will drop unwanted features like Name Ticket Cabin from training dataset\n",
    "df=dropFeatures(df_train)"
   ]
  },
  {
   "cell_type": "code",
   "execution_count": 95,
   "metadata": {},
   "outputs": [
    {
     "name": "stdout",
     "output_type": "stream",
     "text": [
      "Age : 177 | Missing data in % : 19.87\n",
      "Missing Values in Age fixed.\n",
      "Embarked : 2 | Missing data in % : 0.22\n",
      "Missing Values in Embarked fixed.\n"
     ]
    }
   ],
   "source": [
    "## This func. will list all the features with Missing Data. Once listed it will\n",
    "# autmotaically try to fix the missing values. For coontinous values, mean is used\n",
    "# and for categorical value mode is used to replace NaN/Null\n",
    "\n",
    "df=fixMissingData(df)"
   ]
  },
  {
   "cell_type": "code",
   "execution_count": 96,
   "metadata": {},
   "outputs": [
    {
     "name": "stdout",
     "output_type": "stream",
     "text": [
      "Dummies created for : Pclass\n",
      "Dummies created for : Sex\n",
      "Dummies created for : SibSp\n",
      "Dummies created for : Parch\n",
      "Dummies created for : Embarked\n"
     ]
    }
   ],
   "source": [
    "## This func will automatically create the dummy variables for features. The user dies not have to mention the\n",
    "# columns explicitly as the func. will find out what column needs dummy variables\n",
    "\n",
    "df=createDummies(df)"
   ]
  },
  {
   "cell_type": "code",
   "execution_count": 97,
   "metadata": {},
   "outputs": [
    {
     "name": "stdout",
     "output_type": "stream",
     "text": [
      "Following Columns rescaled using MinMaxScaler : ['Age', 'Fare']\n"
     ]
    }
   ],
   "source": [
    "## This func will automatically rescale continous variables that are not taken care by createDummies Func.\n",
    "# No need to mention column names explicitly\n",
    "\n",
    "df=rescaleFeatures(df)"
   ]
  },
  {
   "cell_type": "code",
   "execution_count": 98,
   "metadata": {},
   "outputs": [
    {
     "name": "stdout",
     "output_type": "stream",
     "text": [
      "{'n_estimators': 37, 'max_features': 'sqrt', 'criterion': 'entropy', 'max_depth': 10, 'min_samples_leaf': 1}\n",
      "Function : tuneHP  || Seconds : 1032.23 |  Minutes : 17.2\n"
     ]
    }
   ],
   "source": [
    "## This func will tune the hyperparameters for Random Forest Classifier. \n",
    "#GridSearchCV is used tuning Hyperparameters\n",
    "tp = tuneHP(df)"
   ]
  },
  {
   "cell_type": "code",
   "execution_count": 113,
   "metadata": {},
   "outputs": [
    {
     "name": "stdout",
     "output_type": "stream",
     "text": [
      "Model Features downloaded\n",
      "AUC & SD: 86.526% (3.052%)\n",
      "Accuracy : 78.475%\n",
      "Confusion Matrix :-\n",
      "[[118  19]\n",
      " [ 29  57]]\n",
      "Confusion matrix, without normalization\n",
      "[[118  19]\n",
      " [ 29  57]]\n"
     ]
    },
    {
     "data": {
      "image/png": "[encoded data removed]",
      "text/plain": [
       "<Figure size 432x288 with 2 Axes>"
      ]
     },
     "metadata": {},
     "output_type": "display_data"
    },
    {
     "name": "stdout",
     "output_type": "stream",
     "text": [
      "Model saved to local disk\n",
      "Function : randomForestClassifier  || Seconds : 3.41 |  Minutes : 0.06\n"
     ]
    }
   ],
   "source": [
    "# This func will run the RandomForestClassifier Algorithm based on parameters provided by tuneHP Func\n",
    "# It will plot Confusion Matrix  and will save the model\n",
    "randomForestClassifier(df,tp['n_estimators'],tp['max_features'],tp['max_depth'],tp['min_samples_leaf'],tp['criterion'])"
   ]
  },
  {
   "cell_type": "code",
   "execution_count": 100,
   "metadata": {},
   "outputs": [
    {
     "name": "stdout",
     "output_type": "stream",
     "text": [
      "Age : 86 | Missing data in % : 20.57\n",
      "Missing Values in Age fixed.\n",
      "Fare : 1 | Missing data in % : 0.24\n",
      "Missing Values in Fare fixed.\n",
      "Dummies created for : Pclass\n",
      "Dummies created for : Sex\n",
      "Dummies created for : SibSp\n",
      "Dummies created for : Parch\n",
      "Dummies created for : Embarked\n",
      "Following Columns rescaled using MinMaxScaler : ['Age', 'Fare']\n",
      "File kaggle_submission.csv saved to local directory\n",
      "Function : run_test_data  || Seconds : 0.18 |  Minutes : 0.0\n"
     ]
    }
   ],
   "source": [
    "## This func will predict the target variable from test data. While doing so it will pre process the data, match\n",
    "# the model features, load the model and will save the predictions in csv file\n",
    "run_test_data()"
   ]
  },
  {
   "cell_type": "code",
   "execution_count": 111,
   "metadata": {},
   "outputs": [],
   "source": []
  },
  {
   "cell_type": "code",
   "execution_count": null,
   "metadata": {},
   "outputs": [],
   "source": []
  }
 ],
 "metadata": {
  "kernelspec": {
   "display_name": "Python 3",
   "language": "python",
   "name": "python3"
  },
  "language_info": {
   "codemirror_mode": {
    "name": "ipython",
    "version": 3
   },
   "file_extension": ".py",
   "mimetype": "text/x-python",
   "name": "python",
   "nbconvert_exporter": "python",
   "pygments_lexer": "ipython3",
   "version": "3.5.2"
  }
 },
 "nbformat": 4,
 "nbformat_minor": 2
}
