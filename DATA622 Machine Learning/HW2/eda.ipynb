{
 "cells": [
  {
   "cell_type": "code",
   "execution_count": 23,
   "metadata": {},
   "outputs": [
    {
     "name": "stdout",
     "output_type": "stream",
     "text": [
      "Requirement already satisfied: bleach==3.0.2 in ./venv/lib/python3.5/site-packages (from -r requirements.txt (line 1)) (3.0.2)\n",
      "Requirement already satisfied: certifi==2018.8.24 in ./venv/lib/python3.5/site-packages (from -r requirements.txt (line 2)) (2018.8.24)\n",
      "Requirement already satisfied: chardet==3.0.4 in ./venv/lib/python3.5/site-packages (from -r requirements.txt (line 3)) (3.0.4)\n",
      "Requirement already satisfied: cycler==0.10.0 in ./venv/lib/python3.5/site-packages (from -r requirements.txt (line 4)) (0.10.0)\n",
      "Requirement already satisfied: decorator==4.3.0 in ./venv/lib/python3.5/site-packages (from -r requirements.txt (line 5)) (4.3.0)\n",
      "Requirement already satisfied: defusedxml==0.5.0 in ./venv/lib/python3.5/site-packages (from -r requirements.txt (line 6)) (0.5.0)\n",
      "Requirement already satisfied: entrypoints==0.2.3 in ./venv/lib/python3.5/site-packages (from -r requirements.txt (line 7)) (0.2.3)\n",
      "Requirement already satisfied: idna==2.7 in ./venv/lib/python3.5/site-packages (from -r requirements.txt (line 8)) (2.7)\n",
      "Requirement already satisfied: ipykernel==5.1.0 in ./venv/lib/python3.5/site-packages (from -r requirements.txt (line 9)) (5.1.0)\n",
      "Requirement already satisfied: ipython==5.0.0 in ./venv/lib/python3.5/site-packages (from -r requirements.txt (line 10)) (5.0.0)\n",
      "Requirement already satisfied: ipython-genutils==0.2.0 in ./venv/lib/python3.5/site-packages (from -r requirements.txt (line 11)) (0.2.0)\n",
      "Requirement already satisfied: ipywidgets==7.4.2 in ./venv/lib/python3.5/site-packages (from -r requirements.txt (line 12)) (7.4.2)\n",
      "Requirement already satisfied: Jinja2==2.10 in ./venv/lib/python3.5/site-packages (from -r requirements.txt (line 13)) (2.10)\n",
      "Requirement already satisfied: jsonschema==2.6.0 in ./venv/lib/python3.5/site-packages (from -r requirements.txt (line 14)) (2.6.0)\n",
      "Requirement already satisfied: jupyter==1.0.0 in ./venv/lib/python3.5/site-packages (from -r requirements.txt (line 15)) (1.0.0)\n",
      "Requirement already satisfied: jupyter-client==5.2.3 in ./venv/lib/python3.5/site-packages (from -r requirements.txt (line 16)) (5.2.3)\n",
      "Requirement already satisfied: jupyter-console==6.0.0 in ./venv/lib/python3.5/site-packages (from -r requirements.txt (line 17)) (6.0.0)\n",
      "Requirement already satisfied: jupyter-core==4.4.0 in ./venv/lib/python3.5/site-packages (from -r requirements.txt (line 18)) (4.4.0)\n",
      "Requirement already satisfied: kaggle==1.4.7.1 in ./venv/lib/python3.5/site-packages (from -r requirements.txt (line 19)) (1.4.7.1)\n",
      "Requirement already satisfied: kiwisolver==1.0.1 in ./venv/lib/python3.5/site-packages (from -r requirements.txt (line 20)) (1.0.1)\n",
      "Requirement already satisfied: MarkupSafe==1.0 in ./venv/lib/python3.5/site-packages (from -r requirements.txt (line 21)) (1.0)\n",
      "Requirement already satisfied: matplotlib==3.0.0 in ./venv/lib/python3.5/site-packages (from -r requirements.txt (line 22)) (3.0.0)\n",
      "Requirement already satisfied: mistune==0.8.4 in ./venv/lib/python3.5/site-packages (from -r requirements.txt (line 23)) (0.8.4)\n",
      "Requirement already satisfied: nbconvert==5.4.0 in ./venv/lib/python3.5/site-packages (from -r requirements.txt (line 24)) (5.4.0)\n",
      "Requirement already satisfied: nbformat==4.4.0 in ./venv/lib/python3.5/site-packages (from -r requirements.txt (line 25)) (4.4.0)\n",
      "Requirement already satisfied: notebook==5.7.0 in ./venv/lib/python3.5/site-packages (from -r requirements.txt (line 26)) (5.7.0)\n",
      "Requirement already satisfied: numpy==1.15.2 in ./venv/lib/python3.5/site-packages (from -r requirements.txt (line 27)) (1.15.2)\n",
      "Requirement already satisfied: pandas==0.23.4 in ./venv/lib/python3.5/site-packages (from -r requirements.txt (line 28)) (0.23.4)\n",
      "Requirement already satisfied: pandocfilters==1.4.2 in ./venv/lib/python3.5/site-packages (from -r requirements.txt (line 29)) (1.4.2)\n",
      "Requirement already satisfied: pexpect==4.6.0 in ./venv/lib/python3.5/site-packages (from -r requirements.txt (line 30)) (4.6.0)\n",
      "Requirement already satisfied: pickleshare==0.7.5 in ./venv/lib/python3.5/site-packages (from -r requirements.txt (line 31)) (0.7.5)\n",
      "Requirement already satisfied: prometheus-client==0.4.1 in ./venv/lib/python3.5/site-packages (from -r requirements.txt (line 32)) (0.4.1)\n",
      "Requirement already satisfied: prompt-toolkit==1.0.15 in ./venv/lib/python3.5/site-packages (from -r requirements.txt (line 33)) (1.0.15)\n",
      "Requirement already satisfied: ptyprocess==0.6.0 in ./venv/lib/python3.5/site-packages (from -r requirements.txt (line 34)) (0.6.0)\n",
      "Requirement already satisfied: Pygments==2.2.0 in ./venv/lib/python3.5/site-packages (from -r requirements.txt (line 35)) (2.2.0)\n",
      "Requirement already satisfied: pyparsing==2.2.2 in ./venv/lib/python3.5/site-packages (from -r requirements.txt (line 36)) (2.2.2)\n",
      "Requirement already satisfied: python-dateutil==2.7.3 in ./venv/lib/python3.5/site-packages (from -r requirements.txt (line 37)) (2.7.3)\n",
      "Requirement already satisfied: python-slugify==1.2.6 in ./venv/lib/python3.5/site-packages (from -r requirements.txt (line 38)) (1.2.6)\n",
      "Requirement already satisfied: pytz==2018.5 in ./venv/lib/python3.5/site-packages (from -r requirements.txt (line 39)) (2018.5)\n",
      "Requirement already satisfied: pyzmq==17.1.2 in ./venv/lib/python3.5/site-packages (from -r requirements.txt (line 40)) (17.1.2)\n",
      "Requirement already satisfied: qtconsole==4.4.1 in ./venv/lib/python3.5/site-packages (from -r requirements.txt (line 41)) (4.4.1)\n",
      "Requirement already satisfied: requests==2.19.1 in ./venv/lib/python3.5/site-packages (from -r requirements.txt (line 42)) (2.19.1)\n",
      "Requirement already satisfied: scikit-learn==0.20.0 in ./venv/lib/python3.5/site-packages (from -r requirements.txt (line 43)) (0.20.0)\n",
      "Requirement already satisfied: scipy==1.1.0 in ./venv/lib/python3.5/site-packages (from -r requirements.txt (line 44)) (1.1.0)\n",
      "Requirement already satisfied: seaborn==0.9.0 in ./venv/lib/python3.5/site-packages (from -r requirements.txt (line 45)) (0.9.0)\n",
      "Requirement already satisfied: Send2Trash==1.5.0 in ./venv/lib/python3.5/site-packages (from -r requirements.txt (line 46)) (1.5.0)\n",
      "Requirement already satisfied: simplegeneric==0.8.1 in ./venv/lib/python3.5/site-packages (from -r requirements.txt (line 47)) (0.8.1)\n",
      "Requirement already satisfied: six==1.11.0 in ./venv/lib/python3.5/site-packages (from -r requirements.txt (line 48)) (1.11.0)\n",
      "Requirement already satisfied: sklearn==0.0 in ./venv/lib/python3.5/site-packages (from -r requirements.txt (line 49)) (0.0)\n",
      "Requirement already satisfied: terminado==0.8.1 in ./venv/lib/python3.5/site-packages (from -r requirements.txt (line 50)) (0.8.1)\n",
      "Requirement already satisfied: testpath==0.4.2 in ./venv/lib/python3.5/site-packages (from -r requirements.txt (line 51)) (0.4.2)\n",
      "Requirement already satisfied: tornado==5.1.1 in ./venv/lib/python3.5/site-packages (from -r requirements.txt (line 52)) (5.1.1)\n",
      "Requirement already satisfied: tqdm==4.26.0 in ./venv/lib/python3.5/site-packages (from -r requirements.txt (line 53)) (4.26.0)\n",
      "Requirement already satisfied: traitlets==4.3.2 in ./venv/lib/python3.5/site-packages (from -r requirements.txt (line 54)) (4.3.2)\n",
      "Requirement already satisfied: Unidecode==1.0.22 in ./venv/lib/python3.5/site-packages (from -r requirements.txt (line 55)) (1.0.22)\n",
      "Requirement already satisfied: urllib3==1.22 in ./venv/lib/python3.5/site-packages (from -r requirements.txt (line 56)) (1.22)\n",
      "Requirement already satisfied: wcwidth==0.1.7 in ./venv/lib/python3.5/site-packages (from -r requirements.txt (line 57)) (0.1.7)\n",
      "Requirement already satisfied: webencodings==0.5.1 in ./venv/lib/python3.5/site-packages (from -r requirements.txt (line 58)) (0.5.1)\n",
      "Requirement already satisfied: widgetsnbextension==3.4.2 in ./venv/lib/python3.5/site-packages (from -r requirements.txt (line 59)) (3.4.2)\n",
      "Requirement already satisfied: setuptools>=18.5 in ./venv/lib/python3.5/site-packages/setuptools-39.1.0-py3.5.egg (from ipython==5.0.0->-r requirements.txt (line 10)) (39.1.0)\n",
      "\u001b[31mjupyter-console 6.0.0 has requirement prompt-toolkit<2.1.0,>=2.0.0, but you'll have prompt-toolkit 1.0.15 which is incompatible.\u001b[0m\n",
      "\u001b[33mYou are using pip version 10.0.1, however version 18.1 is available.\n",
      "You should consider upgrading via the 'pip install --upgrade pip' command.\u001b[0m\n"
     ]
    },
    {
     "name": "stdout",
     "output_type": "stream",
     "text": [
      "The autoreload extension is already loaded. To reload it, use:\n",
      "  %reload_ext autoreload\n"
     ]
    }
   ],
   "source": [
    "!pip install -r requirements.txt\n",
    "import warnings\n",
    "warnings.filterwarnings('ignore')\n",
    "from pull_data import *\n",
    "from train_model import *\n",
    "from score_model import *\n",
    "%load_ext autoreload\n",
    "%autoreload 2\n",
    "%reload_ext autoreload\n",
    "%matplotlib inline"
   ]
  },
  {
   "cell_type": "code",
   "execution_count": 24,
   "metadata": {},
   "outputs": [
    {
     "name": "stdout",
     "output_type": "stream",
     "text": [
      "Titanic training file downloaded\n",
      "Titanic test file downloaded\n",
      "Function : downloadTitanic  || Seconds : 2.35 |  Minutes : 0.04\n",
      "No. of records in training data : (891, 12)\n",
      "No. of records in test data : (418, 11)\n",
      "Function : loadTitanic  || Seconds : 2.36 |  Minutes : 0.04\n"
     ]
    }
   ],
   "source": [
    "## This function will download and validate Titanic Test & train Data\n",
    "## User May give username & password but this function works without username & password\n",
    "## as Authentication is taken care by KAggle API. For more information refer to this function in pull_data.py\n",
    "df_train, df_test = loadTitanic()"
   ]
  },
  {
   "cell_type": "code",
   "execution_count": 25,
   "metadata": {},
   "outputs": [],
   "source": [
    "##This func. will drop unwanted features like Name Ticket Cabin from training dataset\n",
    "df=dropFeatures(df_train)"
   ]
  },
  {
   "cell_type": "code",
   "execution_count": 26,
   "metadata": {},
   "outputs": [
    {
     "name": "stdout",
     "output_type": "stream",
     "text": [
      "Age : 177 | Missing data in % : 19.87\n",
      "Missing Values in Age fixed.\n",
      "Embarked : 2 | Missing data in % : 0.22\n",
      "Missing Values in Embarked fixed.\n"
     ]
    }
   ],
   "source": [
    "## This func. will list all the features with Missing Data. Once listed it will\n",
    "# autmotaically try to fix the missing values. For coontinous values, mean is used\n",
    "# and for categorical value mode is used to replace NaN/Null\n",
    "\n",
    "df=fixMissingData(df)"
   ]
  },
  {
   "cell_type": "code",
   "execution_count": 27,
   "metadata": {},
   "outputs": [
    {
     "name": "stdout",
     "output_type": "stream",
     "text": [
      "Dummies created for : Pclass\n",
      "Dummies created for : Sex\n",
      "Dummies created for : SibSp\n",
      "Dummies created for : Parch\n",
      "Dummies created for : Embarked\n"
     ]
    }
   ],
   "source": [
    "## This func will automatically create the dummy variables for features. The user dies not have to mention the\n",
    "# columns explicitly as the func. will find out what column needs dummy variables\n",
    "\n",
    "df=createDummies(df)"
   ]
  },
  {
   "cell_type": "code",
   "execution_count": 28,
   "metadata": {},
   "outputs": [
    {
     "name": "stdout",
     "output_type": "stream",
     "text": [
      "Following Columns rescaled using MinMaxScaler : ['Age', 'Fare']\n"
     ]
    }
   ],
   "source": [
    "## This func will automatically rescale continous variables that are not taken care by createDummies Func.\n",
    "# No need to mention column names explicitly\n",
    "\n",
    "df=rescaleFeatures(df)"
   ]
  },
  {
   "cell_type": "code",
   "execution_count": 29,
   "metadata": {},
   "outputs": [
    {
     "name": "stdout",
     "output_type": "stream",
     "text": [
      "Fitting 10 folds for each of 12000 candidates, totalling 120000 fits\n"
     ]
    },
    {
     "name": "stderr",
     "output_type": "stream",
     "text": [
      "[Parallel(n_jobs=-1)]: Using backend LokyBackend with 28 concurrent workers.\n",
      "[Parallel(n_jobs=-1)]: Done  72 tasks      | elapsed:    3.3s\n",
      "[Parallel(n_jobs=-1)]: Done 232 tasks      | elapsed:    5.5s\n",
      "[Parallel(n_jobs=-1)]: Done 456 tasks      | elapsed:    8.6s\n",
      "[Parallel(n_jobs=-1)]: Done 744 tasks      | elapsed:   12.5s\n",
      "[Parallel(n_jobs=-1)]: Done 1096 tasks      | elapsed:   17.3s\n",
      "[Parallel(n_jobs=-1)]: Done 1512 tasks      | elapsed:   23.0s\n",
      "[Parallel(n_jobs=-1)]: Done 1992 tasks      | elapsed:   29.7s\n",
      "[Parallel(n_jobs=-1)]: Done 2536 tasks      | elapsed:   37.1s\n",
      "[Parallel(n_jobs=-1)]: Done 3144 tasks      | elapsed:   45.3s\n",
      "[Parallel(n_jobs=-1)]: Done 3816 tasks      | elapsed:   54.5s\n",
      "[Parallel(n_jobs=-1)]: Done 4552 tasks      | elapsed:  1.1min\n",
      "[Parallel(n_jobs=-1)]: Done 5352 tasks      | elapsed:  1.3min\n",
      "[Parallel(n_jobs=-1)]: Done 6216 tasks      | elapsed:  1.5min\n",
      "[Parallel(n_jobs=-1)]: Done 7144 tasks      | elapsed:  1.7min\n",
      "[Parallel(n_jobs=-1)]: Done 8136 tasks      | elapsed:  1.9min\n",
      "[Parallel(n_jobs=-1)]: Done 9192 tasks      | elapsed:  2.1min\n",
      "[Parallel(n_jobs=-1)]: Done 10312 tasks      | elapsed:  2.4min\n",
      "[Parallel(n_jobs=-1)]: Done 11496 tasks      | elapsed:  2.7min\n",
      "[Parallel(n_jobs=-1)]: Done 12744 tasks      | elapsed:  2.9min\n",
      "[Parallel(n_jobs=-1)]: Done 14056 tasks      | elapsed:  3.2min\n",
      "[Parallel(n_jobs=-1)]: Done 15432 tasks      | elapsed:  3.5min\n",
      "[Parallel(n_jobs=-1)]: Done 16872 tasks      | elapsed:  3.9min\n",
      "[Parallel(n_jobs=-1)]: Done 18376 tasks      | elapsed:  4.2min\n",
      "[Parallel(n_jobs=-1)]: Done 19944 tasks      | elapsed:  4.6min\n",
      "[Parallel(n_jobs=-1)]: Done 21576 tasks      | elapsed:  4.9min\n",
      "[Parallel(n_jobs=-1)]: Done 23272 tasks      | elapsed:  5.3min\n",
      "[Parallel(n_jobs=-1)]: Done 25032 tasks      | elapsed:  5.7min\n",
      "[Parallel(n_jobs=-1)]: Done 26856 tasks      | elapsed:  6.1min\n",
      "[Parallel(n_jobs=-1)]: Done 28744 tasks      | elapsed:  6.6min\n",
      "[Parallel(n_jobs=-1)]: Done 30696 tasks      | elapsed:  7.0min\n",
      "[Parallel(n_jobs=-1)]: Done 32712 tasks      | elapsed:  7.5min\n",
      "[Parallel(n_jobs=-1)]: Done 34792 tasks      | elapsed:  8.0min\n",
      "[Parallel(n_jobs=-1)]: Done 36936 tasks      | elapsed:  8.4min\n",
      "[Parallel(n_jobs=-1)]: Done 39144 tasks      | elapsed:  8.9min\n",
      "[Parallel(n_jobs=-1)]: Done 41416 tasks      | elapsed:  9.5min\n",
      "[Parallel(n_jobs=-1)]: Done 43752 tasks      | elapsed: 10.0min\n",
      "[Parallel(n_jobs=-1)]: Done 46152 tasks      | elapsed: 10.5min\n",
      "[Parallel(n_jobs=-1)]: Done 48616 tasks      | elapsed: 11.1min\n",
      "[Parallel(n_jobs=-1)]: Done 51144 tasks      | elapsed: 11.7min\n",
      "[Parallel(n_jobs=-1)]: Done 53736 tasks      | elapsed: 12.3min\n",
      "[Parallel(n_jobs=-1)]: Done 56392 tasks      | elapsed: 12.9min\n",
      "[Parallel(n_jobs=-1)]: Done 59112 tasks      | elapsed: 13.5min\n",
      "[Parallel(n_jobs=-1)]: Done 61896 tasks      | elapsed: 14.1min\n",
      "[Parallel(n_jobs=-1)]: Done 64744 tasks      | elapsed: 14.8min\n",
      "[Parallel(n_jobs=-1)]: Done 67656 tasks      | elapsed: 15.4min\n",
      "[Parallel(n_jobs=-1)]: Done 70632 tasks      | elapsed: 16.1min\n",
      "[Parallel(n_jobs=-1)]: Done 73672 tasks      | elapsed: 16.8min\n",
      "[Parallel(n_jobs=-1)]: Done 76776 tasks      | elapsed: 17.5min\n",
      "[Parallel(n_jobs=-1)]: Done 79944 tasks      | elapsed: 18.3min\n",
      "[Parallel(n_jobs=-1)]: Done 83176 tasks      | elapsed: 19.0min\n",
      "[Parallel(n_jobs=-1)]: Done 86472 tasks      | elapsed: 19.7min\n",
      "[Parallel(n_jobs=-1)]: Done 89832 tasks      | elapsed: 20.5min\n",
      "[Parallel(n_jobs=-1)]: Done 93256 tasks      | elapsed: 21.3min\n",
      "[Parallel(n_jobs=-1)]: Done 96744 tasks      | elapsed: 22.1min\n",
      "[Parallel(n_jobs=-1)]: Done 100296 tasks      | elapsed: 22.9min\n",
      "[Parallel(n_jobs=-1)]: Done 103912 tasks      | elapsed: 23.7min\n",
      "[Parallel(n_jobs=-1)]: Done 107592 tasks      | elapsed: 24.5min\n",
      "[Parallel(n_jobs=-1)]: Done 111336 tasks      | elapsed: 25.4min\n",
      "[Parallel(n_jobs=-1)]: Done 115144 tasks      | elapsed: 26.3min\n",
      "[Parallel(n_jobs=-1)]: Done 119016 tasks      | elapsed: 27.1min\n",
      "[Parallel(n_jobs=-1)]: Done 120000 out of 120000 | elapsed: 27.4min finished\n"
     ]
    },
    {
     "name": "stdout",
     "output_type": "stream",
     "text": [
      "{'min_samples_leaf': 3, 'n_estimators': 20, 'criterion': 'entropy', 'max_depth': 17, 'max_features': 'sqrt'}\n",
      "Function : tuneHP  || Seconds : 1643.26 |  Minutes : 27.39\n"
     ]
    }
   ],
   "source": [
    "## This func will tune the hyperparameters for Random Forest Classifier. \n",
    "#GridSearchCV is used tuning Hyperparameters\n",
    "tp = tuneHP(df)"
   ]
  },
  {
   "cell_type": "code",
   "execution_count": 30,
   "metadata": {},
   "outputs": [
    {
     "name": "stdout",
     "output_type": "stream",
     "text": [
      "Model Features downloaded\n",
      "AUC & SD: 86.469% (3.562%)\n",
      "Accuracy : 77.130%\n",
      "Confusion Matrix :-\n",
      "[[120  17]\n",
      " [ 34  52]]\n",
      "Confusion matrix, without normalization\n",
      "[[120  17]\n",
      " [ 34  52]]\n"
     ]
    },
    {
     "data": {
      "image/png": "[encoded data removed]",
      "text/plain": [
       "<Figure size 432x288 with 2 Axes>"
      ]
     },
     "metadata": {
      "needs_background": "light"
     },
     "output_type": "display_data"
    },
    {
     "name": "stdout",
     "output_type": "stream",
     "text": [
      "Model saved to local disk\n",
      "Function : randomForestClassifier  || Seconds : 0.67 |  Minutes : 0.01\n"
     ]
    }
   ],
   "source": [
    "# This func will run the RandomForestClassifier Algorithm based on parameters provided by tuneHP Func\n",
    "# It will plot Confusion Matrix  and will save the model\n",
    "randomForestClassifier(df,tp['n_estimators'],tp['max_features'],tp['max_depth'],tp['min_samples_leaf'],tp['criterion'])"
   ]
  },
  {
   "cell_type": "code",
   "execution_count": 31,
   "metadata": {},
   "outputs": [
    {
     "name": "stdout",
     "output_type": "stream",
     "text": [
      "Age : 86 | Missing data in % : 20.57\n",
      "Missing Values in Age fixed.\n",
      "Fare : 1 | Missing data in % : 0.24\n",
      "Missing Values in Fare fixed.\n",
      "Dummies created for : Pclass\n",
      "Dummies created for : Sex\n",
      "Dummies created for : SibSp\n",
      "Dummies created for : Parch\n",
      "Dummies created for : Embarked\n",
      "Following Columns rescaled using MinMaxScaler : ['Age', 'Fare']\n",
      "File kaggle_submission.csv saved to local directory\n",
      "Function : run_test_data  || Seconds : 0.14 |  Minutes : 0.0\n"
     ]
    }
   ],
   "source": [
    "## This func will predict the target variable from test data. While doing so it will pre process the data, match\n",
    "# the model features, load the model and will save the predictions in csv file\n",
    "run_test_data(df_test)"
   ]
  },
  {
   "cell_type": "code",
   "execution_count": 111,
   "metadata": {},
   "outputs": [],
   "source": []
  },
  {
   "cell_type": "code",
   "execution_count": null,
   "metadata": {},
   "outputs": [],
   "source": []
  }
 ],
 "metadata": {
  "kernelspec": {
   "display_name": "Python 3",
   "language": "python",
   "name": "python3"
  },
  "language_info": {
   "codemirror_mode": {
    "name": "ipython",
    "version": 3
   },
   "file_extension": ".py",
   "mimetype": "text/x-python",
   "name": "python",
   "nbconvert_exporter": "python",
   "pygments_lexer": "ipython3",
   "version": "3.5.2"
  }
 },
 "nbformat": 4,
 "nbformat_minor": 2
}
